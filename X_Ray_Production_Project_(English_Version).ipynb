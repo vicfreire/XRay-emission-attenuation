{
  "nbformat": 4,
  "nbformat_minor": 0,
  "metadata": {
    "colab": {
      "name": "X-Ray Production - Project (English Version).ipynb",
      "provenance": []
    },
    "kernelspec": {
      "name": "python3",
      "display_name": "Python 3"
    },
    "language_info": {
      "name": "python"
    }
  },
  "cells": [
    {
      "cell_type": "markdown",
      "source": [
        "#**X-Ray Production**\n",
        "\n",
        "**Observations:**\n",
        "\n",
        "This experiment was peformed at the Institute of Physics, University of São Paulo in 2022 and it is part of modern physics laboratory classes. It was used NaCl to diffract X-Ray. \n",
        "\n",
        "**Experiment main goals:**\n",
        "\n",
        "1.   To determine the X-Ray emission spectra of Mo tube (Count vs Energy): characteristic radiation and bremsstrahlung radiation.\n",
        "2.   To determine the Planck constant from the bremsstrahlung radiation.\n",
        "3.   To evaluate the relation between θmin and Emax.\n",
        "\n",
        "**Datasets observations:**\n",
        "\n",
        "\n",
        "\n",
        "*   The first dataset consists of 3 subsets at the angle range from θmin = 2.5̊  and θmax = 30̊ , Δt = 1s, Δθ = 0.1̊ , I = 1 mA and U = 35 kV.\n",
        "*   The second dataset consists of 10 subsets with 5 different tension values, and for each tension value there is 2 values of Δt: 1s and 5s. All subsets were measured at the angle range from θmin = 2.5̊  and θmax = 12̊, I = 1 mA, and Δθ = 0.1̊. The tension values are: 18 kV, 25 kV, 28 kV, 30 kV and 35 kV.\n",
        "\n",
        "\n",
        "**Experiment observations:**\n",
        "\n",
        "\n",
        "\n",
        "*   The uncertainty in maximum energy (θmin) is 1%.\n",
        "*   The equipament uncertainty in θ is 0.05̊.\n",
        "*   The equipment software delivers the count  column divided by Δt, so in the case of sets where Δt = 5s we have to multiply the count column by 5 and then add the influence of time in the uncertainty calculation: σ(N) = $\\sqrt{N}$/Δt.\n",
        "\n",
        "\n"
      ],
      "metadata": {
        "id": "88warHV9CJvK"
      }
    },
    {
      "cell_type": "markdown",
      "source": [
        "**Importing libraries:**"
      ],
      "metadata": {
        "id": "s0QvwYcjMsw_"
      }
    },
    {
      "cell_type": "code",
      "source": [
        "from google.colab import drive\n",
        "drive.mount('/content/drive')\n",
        "\n",
        "import pandas as pd\n",
        "import numpy as np\n",
        "import matplotlib.pyplot as plt\n",
        "import seaborn as sns\n",
        "import plotly.express as px\n",
        "import plotly.graph_objects as go\n",
        "from scipy.optimize import curve_fit\n",
        "from scipy.stats import norm\n",
        "from scipy.stats import linregress as lr"
      ],
      "metadata": {
        "colab": {
          "base_uri": "https://localhost:8080/"
        },
        "id": "qqVCTEwRLcWI",
        "outputId": "2fafc1e1-b41f-4c71-80e1-5ef4d58002bb"
      },
      "execution_count": 4,
      "outputs": [
        {
          "output_type": "stream",
          "name": "stdout",
          "text": [
            "Drive already mounted at /content/drive; to attempt to forcibly remount, call drive.mount(\"/content/drive\", force_remount=True).\n"
          ]
        }
      ]
    },
    {
      "cell_type": "markdown",
      "source": [
        "**Reading datasets:**"
      ],
      "metadata": {
        "id": "aXU3fX6VMzdG"
      }
    },
    {
      "cell_type": "code",
      "source": [
        "def read_c1(num):\n",
        "  num = str(num)\n",
        "  d1 = np.loadtxt(f'/content/drive/MyDrive/Raio X/Raio X/Dados/c1-{num}.txt', skiprows=1, dtype=np.str)\n",
        "  d2 = np.char.replace(d1, ',', '.').astype(np.float64)\n",
        "  return pd.DataFrame(d2, columns=['\\u03B8 (°)','Count'])\n",
        "\n",
        "def read_c2(tension, time):\n",
        "  tensao = str(tension)\n",
        "  tempo = str(time)\n",
        "  d1 = np.loadtxt(f'/content/drive/MyDrive/Raio X/Raio X/Dados/c2-{tension}-{time}.txt', skiprows=1, dtype=np.str)\n",
        "  d2 = np.char.replace(d1, ',', '.').astype(np.float64)\n",
        "  d3 = pd.DataFrame(d2, columns=['\\u03B8 (°)','Count'])\n",
        "  if tempo == '5':\n",
        "    d3['Count'] = d3['Count']*5\n",
        "  return d3\n",
        " \n",
        "\n",
        "#Dataset 1:\n",
        "c1_1 = read_c1(1)  #subset 1\n",
        "c1_2 = read_c1(2)  #subset 2\n",
        "c1_3 = read_c1(3)  #subset 3\n",
        "\n",
        "#Dataset 2:\n",
        "c2_18_1 = read_c2(18,1) #U = 18 kV and Δt = 1s\n",
        "c2_18_5 = read_c2(18,5) #U = 18 kV and Δt = 5s\n",
        "\n",
        "c2_25_1 = read_c2(25,1) #U = 25 kV and Δt = 1s\n",
        "c2_25_5 = read_c2(25,5) #U = 25 kV and Δt = 5s\n",
        "\n",
        "c2_28_1 = read_c2(28,1) #U = 28 kV and Δt = 1s\n",
        "c2_28_5 = read_c2(28,5) #U = 28 kV and Δt = 5s\n",
        "\n",
        "c2_30_1 = read_c2(30,1) #U = 30 kV and Δt = 1s\n",
        "c2_30_5 = read_c2(30,5) #U = 30 kV and Δt = 5s\n",
        "\n",
        "c2_35_1 = read_c2(35,1) #U = 35 kV and Δt = 1s\n",
        "c2_35_5 = read_c2(35,5) #U = 35 kV and Δt = 5s"
      ],
      "metadata": {
        "id": "47-Vrb7XM2-2"
      },
      "execution_count": null,
      "outputs": []
    },
    {
      "cell_type": "markdown",
      "source": [
        "**Checking datasets:**"
      ],
      "metadata": {
        "id": "vT-A7jYmN-6J"
      }
    },
    {
      "cell_type": "code",
      "source": [
        "c1_1"
      ],
      "metadata": {
        "id": "Gs_mg_ngOCSp"
      },
      "execution_count": null,
      "outputs": []
    },
    {
      "cell_type": "markdown",
      "source": [
        "#**Dataset 1:**\n",
        "\n",
        "*   Comment qualitatively the observed spectra (continuous spectra and characteristic lines).\n",
        "*   How to evaluate the experimental uncertainties?\n",
        "*   Does the characteristic energies match to the expected ones?\n",
        "*   Does the angles to n=2 and n=3 match to the expected ones?\n",
        "\n",
        "**Analysis infos:**\n",
        "\n",
        "*   The X-Ray detection obbey the Poisson distribution function. That is why the uncertanty is given by σ(N) = $\\sqrt{N}$/Δt (N is the sum of the photons in time interval Δt).\n",
        "*   To calculate characteristic peaks (kα and kβ) energies, first we obtain λ from θ values applied in Bragg equation **nλ = 2dsin(θ)**, where d = 0.282 nm (d value for NaCl), n=1. To calculate energy we calculate **E = hc/λ**.\n",
        "   * **h = $4.14×10^{−15}$  eV s**\n",
        "   * **c =  $3×10^8$  m/s**\n",
        "*   To verify the angles for n = 2 and n = 3 we apply the λ found for n = 1 and compare them with the values from the graph curves. \n",
        "*   The expected values for kα and kβ are:\n",
        "    * **kα = 17.44 eV**\n",
        "    * **kβ = 19.60 eV**\n",
        "\n",
        "\n",
        "\n"
      ],
      "metadata": {
        "id": "cKrSnW_-OmRR"
      }
    },
    {
      "cell_type": "markdown",
      "source": [
        "**Merging the 3 subsets from dataset 1 to a dataset called c1:**"
      ],
      "metadata": {
        "id": "69Q4M1heWYJx"
      }
    },
    {
      "cell_type": "code",
      "source": [
        "merge1c1 = pd.merge(c1_1, c1_2, how='outer', on = '\\u03B8 (°)')\n",
        "c1 = pd.merge(merge1c1, c1_3, how='outer', on = '\\u03B8 (°)')\n",
        "c1.columns = ['\\u03B8 (°)', 'Count 1', 'Count 2', 'Count 3']\n",
        "\n",
        "#Add the extra column summing the column values up and the column with uncertainties:\n",
        "c1['Count Total'] = c1['Count 1'] + c1['Count 2'] + c1['Count 3']\n",
        "c1['σ'] = np.sqrt(c1['Count Total'])"
      ],
      "metadata": {
        "id": "VavQBZ70WUEJ"
      },
      "execution_count": 14,
      "outputs": []
    },
    {
      "cell_type": "markdown",
      "source": [
        "**Plotting the 3 subsets together:**"
      ],
      "metadata": {
        "id": "Rk0foK3KWzYm"
      }
    },
    {
      "cell_type": "code",
      "source": [
        "p1 = go.Scatter(x=c1['\\u03B8 (°)'], y=c1['Count 1'], mode='lines', name='Count 1')\n",
        "p2 = go.Scatter(x=c1['\\u03B8 (°)'], y=c1['Count 2'], mode='lines', name='Count 2')\n",
        "p3 = go.Scatter(x=c1['\\u03B8 (°)'], y=c1['Count 3'], mode='lines', name='Count 3')\n",
        "\n",
        "plots1 = [p1,p2,p3]\n",
        "layout1 = go.Layout(title='X-Ray detection - Dataset 1')\n",
        "figure1 = go.Figure(data=plots1, layout=layout1)\n",
        "figure1"
      ],
      "metadata": {
        "id": "6qJrJF2jW4XO"
      },
      "execution_count": null,
      "outputs": []
    },
    {
      "cell_type": "markdown",
      "source": [
        "**Plotting the total count:**\n",
        "\n",
        "This is done to improve statistics."
      ],
      "metadata": {
        "id": "rKeQ5lMQXIlE"
      }
    },
    {
      "cell_type": "code",
      "source": [
        "figure2 = px.line(c1, x='\\u03B8 (°)', y='Count Total', title = 'X-Ray Detection - Total Count', error_y=c1['σ'])\n",
        "figure2"
      ],
      "metadata": {
        "id": "wmXJTXdpXYdC"
      },
      "execution_count": null,
      "outputs": []
    },
    {
      "cell_type": "markdown",
      "source": [
        "**Selecting peaks to fit gaussian for n=1:**\n",
        "\n"
      ],
      "metadata": {
        "id": "x4sD9T2OYTdE"
      }
    },
    {
      "cell_type": "code",
      "source": [
        "c1x = c1['θ (°)']\n",
        "c1y = c1['Count Total']\n",
        "c1_s = c1['σ']\n",
        "\n",
        "#kβ:\n",
        "c1x_b = c1x[(c1x >= 6.1) & (c1x <= 6.6)] # x values for kβ peak\n",
        "c1y_b = c1y[(c1x >= 6.1) & (c1x <= 6.6)] # y values for kβ peak\n",
        "c1_s_b = c1_s[(c1x >= 6.1) & (c1x <= 6.6)] # sigma count values for kβ peak\n",
        "c1_b = pd.DataFrame({'x': c1x_b,'y': c1y_b, 'sy':c1_s_b})\n",
        "\n",
        "#kα:\n",
        "c1x_a = c1x[(c1x >= 6.9) & (c1x <= 7.6)] # x values for kα peak\n",
        "c1y_a = c1y[(c1x >= 6.9) & (c1x <= 7.6)] # y values for kα peak\n",
        "c1_s_a = c1_s[(c1x >= 6.9) & (c1x <= 7.6)] # sigma count values for kα peak \n",
        "c1_a = pd.DataFrame({'x': c1x_a,'y': c1y_a, 'sy':c1_s_a})\n",
        "\n",
        "#Checking the .describe() function:\n",
        "\n",
        "c1x_a.describe()"
      ],
      "metadata": {
        "id": "cfyluNhcYhpP"
      },
      "execution_count": null,
      "outputs": []
    },
    {
      "cell_type": "markdown",
      "source": [
        "**The fitting was performed in two different ways: lmfit and scipy curve_fit**"
      ],
      "metadata": {
        "id": "DjPXc9_-aMM_"
      }
    },
    {
      "cell_type": "markdown",
      "source": [
        "#**Fitting with lmfit**\n",
        "\n",
        "*  It is not included here the count uncertainties."
      ],
      "metadata": {
        "id": "izWwzRuFas4l"
      }
    },
    {
      "cell_type": "code",
      "source": [
        "!pip install lmfit"
      ],
      "metadata": {
        "id": "INyiAuSraqx3"
      },
      "execution_count": null,
      "outputs": []
    },
    {
      "cell_type": "code",
      "source": [
        "from lmfit import Model\n",
        "\n",
        "def gaussian(x, amp, cen, wid):\n",
        "    return amp*np.exp(-(x-cen)**2/(2*wid**2))\n",
        "\n",
        "#Fitting kβ:\n",
        "b_gmodel = Model(gaussian)\n",
        "b_result = b_gmodel.fit(c1_b['y'], x=c1x_b, amp=2700, cen=6.3, wid=0.2)\n",
        "print(b_result.fit_report())\n",
        "\n",
        "\n",
        "plt.plot(c1x_b, c1y_b, 'o')\n",
        "plt.plot(c1x_b, b_result.init_fit, '--', label='Initial fit')\n",
        "plt.plot(c1x_b, b_result.best_fit, '-', label='Best fit')\n",
        "plt.title('Fitting kβ')\n",
        "plt.legend()\n",
        "plt.show()"
      ],
      "metadata": {
        "id": "Qfl2ZiBXbV1q"
      },
      "execution_count": null,
      "outputs": []
    },
    {
      "cell_type": "code",
      "source": [
        "#Fitting kα:\n",
        "a_gmodel = Model(gaussian)\n",
        "a_result = a_gmodel.fit(c1y_a, x=c1x_a, amp=5700, cen=7.2, wid=0.1)\n",
        "\n",
        "print(a_result.fit_report())\n",
        "\n",
        "plt.plot(c1x_a, c1y_a, 'o')\n",
        "plt.plot(c1x_a, a_result.init_fit, '--', label='initial fit')\n",
        "plt.plot(c1x_a, a_result.best_fit, '-', label='best fit')\n",
        "plt.title('Fitting kα')\n",
        "plt.legend()\n",
        "plt.show()"
      ],
      "metadata": {
        "id": "HJMg4X3qb3Ye"
      },
      "execution_count": null,
      "outputs": []
    },
    {
      "cell_type": "markdown",
      "source": [
        "**Residuals:**"
      ],
      "metadata": {
        "id": "98-rwTCMdNiv"
      }
    },
    {
      "cell_type": "code",
      "source": [
        "# Residuals for kβ:\n",
        "residuals_b1 = c1y_b - b_result.best_fit\n",
        "plt.scatter(c1y_b, residuals_b1)\n",
        "plt.axhline(y=0, c='red', ls='--')\n",
        "plt.title('Residuals kβ, n=1')"
      ],
      "metadata": {
        "id": "echZiqtpc24d"
      },
      "execution_count": null,
      "outputs": []
    },
    {
      "cell_type": "code",
      "source": [
        "# Residuals for kα:\n",
        "residuals_a1 = c1y_a - a_result.best_fit\n",
        "plt.scatter(c1y_a, residuals_a1)\n",
        "plt.axhline(y=0, c='red', ls='--')\n",
        "plt.title('Residuals kα, n=1')"
      ],
      "metadata": {
        "id": "gAFsyJiKdQH4"
      },
      "execution_count": null,
      "outputs": []
    },
    {
      "cell_type": "markdown",
      "source": [
        "#**Fitting with curve_fit:**\n",
        "\n",
        "\n",
        "*   It was included the count uncertainties.\n",
        "\n"
      ],
      "metadata": {
        "id": "ORMKWhXmdhxp"
      }
    },
    {
      "cell_type": "code",
      "source": [
        "def gauss (x, amp, cen, wid):  #amp=ymax, cen=center of the curve, wid=width of the curve\n",
        "    return amp*np.exp(-(x-cen)**2/(2*wid**2))\n",
        "\n",
        "#Fitting kβ:\n",
        "popt_b, pcov_b = curve_fit(gauss, c1_b['x'], c1_b['y'], sigma=c1_b['sy'], p0=[2000,6.3,0.2])\n",
        "a = popt_b[0]\n",
        "x0 = popt_b[1]\n",
        "sigma = popt_b[2]\n",
        "plt.plot(c1_b['x'],c1_b['y'], 'bo', label='Data')\n",
        "plt.errorbar(c1_b['x'],c1_b['y'],yerr=c1_b['sy'], color='b')\n",
        "plt.plot(c1_b['x'], gauss(c1_b['x'],*popt_b), color='r', label='Fit:' + '$\\mathcal{N}$' + f'$(\\mu \\\\approx {round(x0, 1)}, \\sigma \\\\approx {round(sigma,2)})$')\n",
        "plt.legend()\n",
        "print('Params:','\\n',popt_b, '\\n','\\n','Cov matrix:','\\n', pcov_b)"
      ],
      "metadata": {
        "id": "pmeLRPALjLoH"
      },
      "execution_count": null,
      "outputs": []
    },
    {
      "cell_type": "code",
      "source": [
        "#Fitting kα:\n",
        "popt_a, pcov_a = curve_fit(gauss, c1_a['x'], c1_a['y'], sigma=c1_a['sy'], p0=[5000,7.2,0.1])\n",
        "a = popt_a[0]\n",
        "x0 = popt_a[1]\n",
        "sigma = popt_a[2]\n",
        "plt.plot(c1_a['x'],c1_a['y'], 'go', label='Data')\n",
        "plt.errorbar(c1_a['x'],c1_a['y'],yerr=c1_a['sy'], color='g')\n",
        "plt.plot(c1_a['x'], gauss(c1_a['x'],*popt_a), color='purple', label='Fit:' + '$\\mathcal{N}$' + f'$(\\mu \\\\approx {round(x0, 1)}, \\sigma \\\\approx {round(sigma,2)})$')\n",
        "plt.legend()\n",
        "print('Params:','\\n',popt_a, '\\n','\\n','Cov matrix:','\\n', pcov_a)"
      ],
      "metadata": {
        "id": "XB6UlV4njppd"
      },
      "execution_count": null,
      "outputs": []
    },
    {
      "cell_type": "markdown",
      "source": [
        "#**Comparing fits:**"
      ],
      "metadata": {
        "id": "-gGPq8BrkLGt"
      }
    },
    {
      "cell_type": "code",
      "source": [
        "print('Result for kβ usando lmfit:','\\n')\n",
        "display(b_result)\n",
        "print('\\n')\n",
        "\n",
        "print('Result for kα usando lmfit:','\\n')\n",
        "display(a_result)\n",
        "print('\\n')\n",
        "\n",
        "print('Result for kβ usando curve_fit:','\\n')\n",
        "print('amp:',popt_b[0],'|','inc:', np.sqrt(pcov_b[0][0]),'|','relative error:',(np.sqrt(pcov_b[0][0])/popt_b[0])*100,'%','\\n',\n",
        "      'cen:',popt_b[1],'|','inc:', np.sqrt(pcov_b[1][1]),'|','relative error:',(np.sqrt(pcov_b[1][1])/popt_b[1])*100,'%','\\n',\n",
        "      'wid:',popt_b[2],'|','inc:', np.sqrt(pcov_b[2][2]),'|','relative error:',(np.sqrt(pcov_b[2][2])/popt_b[2])*100,'%')\n",
        "print('\\n')\n",
        "\n",
        "print('Result for kα usando curve_fit:','\\n')\n",
        "print('amp:',popt_a[0],\"|\",'inc:', np.sqrt(pcov_a[0][0]),'|','relative error:',(np.sqrt(pcov_a[0][0])/popt_a[0])*100,'%','\\n',\n",
        "      'cen:',popt_a[1],'|','inc:', np.sqrt(pcov_a[1][1]),'|','relative error:',(np.sqrt(pcov_a[1][1])/popt_a[1])*100,'%','\\n',\n",
        "      'wid:',popt_a[2],'|','inc:', np.sqrt(pcov_a[2][2]),'|','relative error:',(np.sqrt(pcov_a[2][2])/popt_a[2])*100,'%')\n",
        "print('\\n')\n"
      ],
      "metadata": {
        "id": "OhSfijHNkQPg"
      },
      "execution_count": null,
      "outputs": []
    },
    {
      "cell_type": "markdown",
      "source": [
        "**$R^2$:**"
      ],
      "metadata": {
        "id": "ehnXAgwakz3R"
      }
    },
    {
      "cell_type": "code",
      "source": [
        "def rsquared(y, yfit):\n",
        "    slope, intercept, r_value, p_value, std_err = lr(y, yfit)\n",
        "    return r_value**2\n",
        "\n",
        "# R2 values for lmfit:\n",
        "b_r2_lm = rsquared(c1_b['y'], b_result.best_fit)\n",
        "a_r2_lm = rsquared(c1_a['y'], a_result.best_fit)\n",
        "\n",
        "# R2 values for curve_fit():\n",
        "b_r2_cf = rsquared(c1_b['y'], gauss(c1_b['x'],*popt_b))\n",
        "a_r2_cf = rsquared(c1_a['y'], gauss(c1_a['x'],*popt_a))\n",
        "\n",
        "print(a_r2_cf, a_r2_lm, b_r2_cf,b_r2_lm)"
      ],
      "metadata": {
        "id": "m3jMsqkdk4dz"
      },
      "execution_count": null,
      "outputs": []
    },
    {
      "cell_type": "markdown",
      "source": [
        "#**Applying the parameters fitted with lmft to calculate λ:**\n",
        "\n",
        "\n",
        "*   OBS.: Comparing the fitting methods it is possible to conclude there is no big difference between parameters and its uncertainties values looking to relative errors and $R^2$.\n",
        "\n"
      ],
      "metadata": {
        "id": "GVHNE3nClObB"
      }
    },
    {
      "cell_type": "code",
      "source": [
        "#Calculating λ from fitted θ values. These values are the 'cen' parameter,\n",
        "#which is the mean of gaussian curve fitted. Let's apply Bragg equation: nλ=2dsen(θ) => λ = 2dsen(θ)\n",
        "\n",
        "d = 0.282*10**(-9) #meters\n",
        "#kβ:\n",
        "lambda_b = 2*d*np.sin(6.3511*(np.pi/180))\n",
        "\n",
        "#Para kα:\n",
        "lambda_a = 2*d*np.sin(7.18760*(np.pi/180))"
      ],
      "metadata": {
        "id": "JRfqABKJlsaL"
      },
      "execution_count": 29,
      "outputs": []
    },
    {
      "cell_type": "markdown",
      "source": [
        "**Calculating energy from λ and comparing them to the expected values:**\n",
        "\n",
        "Energy equation: E = hc/λ"
      ],
      "metadata": {
        "id": "3_azuChRnMNp"
      }
    },
    {
      "cell_type": "code",
      "source": [
        "h = 4.14*10**(-15) #eV s\n",
        "c = 3*10**8 #m/s\n",
        "\n",
        "#Expected values:\n",
        "E_ka_t = 17440 #eV  \n",
        "E_kb_t = 19600 #eV\n",
        "\n",
        "#kβ:\n",
        "E_b = (h*c)/lambda_b\n",
        "desvio_a = (abs(E_b - E_kb_t)/E_kb_t)*100 #desvio percentual de 0.92%\n",
        "\n",
        "#kα:\n",
        "E_a = (h*c)/lambda_a\n",
        "desvio_b = (abs(E_a - E_ka_t)/E_ka_t)*100 #desvio percentual de 1.57%"
      ],
      "metadata": {
        "id": "rTJvrXTFnHYG"
      },
      "execution_count": 30,
      "outputs": []
    },
    {
      "cell_type": "markdown",
      "source": [
        "**Verifying the angles for n = 2 and n = 3:**"
      ],
      "metadata": {
        "id": "f0ljQNI7oAaY"
      }
    },
    {
      "cell_type": "markdown",
      "source": [
        "n = 2:"
      ],
      "metadata": {
        "id": "YSe-Ib7yoJlH"
      }
    },
    {
      "cell_type": "code",
      "source": [
        "#kα:\n",
        "theta_a_n2 = np.arcsin(lambda_a/d)*(180/np.pi) #degrees\n",
        "\n",
        "#kβ:\n",
        "theta_b_n2 = np.arcsin(lambda_b/d)*(180/np.pi) #degrees\n",
        "\n",
        "#I did quick check using the plotted figure."
      ],
      "metadata": {
        "id": "6X5aoUs-oG6w"
      },
      "execution_count": null,
      "outputs": []
    },
    {
      "cell_type": "markdown",
      "source": [
        "n = 3:"
      ],
      "metadata": {
        "id": "Kju0-JNxoVjY"
      }
    },
    {
      "cell_type": "code",
      "source": [
        "#kα:\n",
        "theta_a_n3 = np.arcsin((3*lambda_a)/(2*d))*(180/np.pi) #degrees\n",
        "\n",
        "#kβ:\n",
        "theta_b_n3 = np.arcsin((3*lambda_b)/(2*d))*(180/np.pi) #degrees\n",
        "\n",
        "#I did quick check using the plotted figure."
      ],
      "metadata": {
        "id": "HCBiYaW5oWie"
      },
      "execution_count": null,
      "outputs": []
    },
    {
      "cell_type": "markdown",
      "source": [
        "#**Dataset 2:**\n",
        "\n",
        "##**To be continued**"
      ],
      "metadata": {
        "id": "Zz4Pfn_aokEz"
      }
    }
  ]
}