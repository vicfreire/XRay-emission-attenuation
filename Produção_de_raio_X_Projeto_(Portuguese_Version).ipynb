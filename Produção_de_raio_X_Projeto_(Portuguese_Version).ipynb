{
  "nbformat": 4,
  "nbformat_minor": 0,
  "metadata": {
    "colab": {
      "name": "Produção de raio X - Projeto (Portuguese Version).ipynb",
      "provenance": []
    },
    "kernelspec": {
      "name": "python3",
      "display_name": "Python 3"
    },
    "language_info": {
      "name": "python"
    }
  },
  "cells": [
    {
      "cell_type": "markdown",
      "source": [
        "#**Produção de Raio X**\n",
        "\n",
        "Nomes: Caio, Mayara e Victória\n",
        "\n",
        "**Objetivo do experimento:**\n",
        "\n",
        "\n",
        "\n",
        "1.   Determinar o espectro de emissão de RX do tubo de Mo (intensidade x Energia): radiação característica e de freamento.\n",
        "2.   Determinar a constante de Planck a partir do fenômeno de radiação de freamento.\n",
        "3.   Avaliar a relação entre θmin e Emax.\n",
        "\n",
        "**Observações sobre os dados:**\n",
        "\n",
        "\n",
        "*   O primeiro conjunto de dados é formado por 3 subconjuntos de dados, tomados no intervalo de ângulos de θmin = 2.5̊  e θmax = 30̊ , Δt = 1s, Δθ = 0.1̊ , I = 1 mA, U = 35 kV.\n",
        "*   O segundo conjunto de dados é formado por 10 subconjuntos de dados, em que temos 5 valores de tensão diferentes e para cada valor de tensão temos dois valores de Δt: Δt = 1s e Δt = 5s. Todos foram obtidos no intervalo de ângulo de θmin = 2.5̊\n",
        "e θmax = 12̊ . Os valores de tensão foram: 18 kV, 25 kV, 28 kV, 30 kV e 35 kV. A corrente I = 1 mA e Δθ = 0.1̊.\n",
        "\n",
        "**Observações sobre o experimento:**\n",
        "\n",
        "\n",
        "\n",
        "*   A incerteza na energia máxima (θmin) é de 1%.\n",
        "*   A incerteza do equipamento em θ é de 0.05̊.\n",
        "*   O software do equipamento entrega a coluna de contagens divididas por Δt, então no caso dos conjuntos em que Δt = 5s temos que multiplicar a coluna de contagem por 5 para depois acrescentar a influência do tempo no cáluclo da incerteza: σ(N) = $\\sqrt{N}$/Δt\n",
        "\n",
        "\n",
        "\n",
        "\n",
        "\n",
        "\n"
      ],
      "metadata": {
        "id": "RfCMmZXk-s3Y"
      }
    },
    {
      "cell_type": "markdown",
      "source": [
        "**Importando bibliotecas**"
      ],
      "metadata": {
        "id": "VVulJbVKI_lf"
      }
    },
    {
      "cell_type": "code",
      "execution_count": null,
      "metadata": {
        "colab": {
          "base_uri": "https://localhost:8080/"
        },
        "id": "D11c5VOj-EYo",
        "outputId": "c45e1beb-01a6-433f-92d8-fb02f47694da"
      },
      "outputs": [
        {
          "output_type": "stream",
          "name": "stdout",
          "text": [
            "Drive already mounted at /content/drive; to attempt to forcibly remount, call drive.mount(\"/content/drive\", force_remount=True).\n"
          ]
        }
      ],
      "source": [
        "from google.colab import drive\n",
        "drive.mount('/content/drive')\n",
        "\n",
        "import pandas as pd\n",
        "import numpy as np\n",
        "import matplotlib.pyplot as plt\n",
        "import seaborn as sns\n",
        "import plotly.express as px\n",
        "import plotly.graph_objects as go\n",
        "from scipy.optimize import curve_fit\n",
        "from scipy.stats import norm\n",
        "from scipy.stats import linregress as lr"
      ]
    },
    {
      "cell_type": "markdown",
      "source": [
        "**Lendo os datasets**"
      ],
      "metadata": {
        "id": "7M-D4QmgJMeK"
      }
    },
    {
      "cell_type": "code",
      "source": [
        "def read_c1(num):\n",
        "  num = str(num)\n",
        "  d1 = np.loadtxt(f'/content/drive/MyDrive/Lab 5/Raio X/Dados/c1-{num}.txt', skiprows=1, dtype=np.str)\n",
        "  d2 = np.char.replace(d1, ',', '.').astype(np.float64)\n",
        "  return pd.DataFrame(d2, columns=['\\u03B8 (°)','Count'])\n",
        "\n",
        "def read_c2(tensao, tempo):\n",
        "  tensao = str(tensao)\n",
        "  tempo = str(tempo)\n",
        "  d1 = np.loadtxt(f'/content/drive/MyDrive/Lab 5/Raio X/Dados/c2-{tensao}-{tempo}.txt', skiprows=1, dtype=np.str)\n",
        "  d2 = np.char.replace(d1, ',', '.').astype(np.float64)\n",
        "  d3 = pd.DataFrame(d2, columns=['\\u03B8 (°)','Count'])\n",
        "  if tempo == '5':\n",
        "    d3['Count'] = d3['Count']*5\n",
        "  return d3\n",
        " \n",
        "\n",
        "  \n",
        "\n",
        "#Conjunto 1:\n",
        "c1_1 = read_c1(1)\n",
        "c1_2 = read_c1(2)\n",
        "c1_3 = read_c1(3)\n",
        "\n",
        "#Conjunto 2:\n",
        "c2_18_1 = read_c2(18,1)\n",
        "c2_18_5 = read_c2(18,5)\n",
        "\n",
        "c2_25_1 = read_c2(25,1)\n",
        "c2_25_5 = read_c2(25,5)\n",
        "\n",
        "c2_28_1 = read_c2(28,1)\n",
        "c2_28_5 = read_c2(28,5)\n",
        "\n",
        "c2_30_1 = read_c2(30,1)\n",
        "c2_30_5 = read_c2(30,5)\n",
        "\n",
        "c2_35_1 = read_c2(35,1)\n",
        "c2_35_5 = read_c2(35,5)"
      ],
      "metadata": {
        "id": "KlKtPr14JQUi"
      },
      "execution_count": null,
      "outputs": []
    },
    {
      "cell_type": "code",
      "source": [
        "#Checando os datasets\n",
        "c1_1"
      ],
      "metadata": {
        "id": "Ybl-yeR-Dgxe"
      },
      "execution_count": null,
      "outputs": []
    },
    {
      "cell_type": "markdown",
      "source": [
        "#**Conjunto de dados 1:**\n",
        "\n",
        "\n",
        "\n",
        "*   Comentar qualitativamente o espectro observado (espectro contínuo e linhas características).\n",
        "*   Qual critério usar para avaliar as incertezas experimentais?\n",
        "*   As energias características correspondem às esperadas? Quais os devios percentuais?\n",
        "*   Os ângulos para n=2 e n=3 estão compatíveis com os esperados?\n",
        "\n",
        "**Informações para a análise:**\n",
        "\n",
        "*   A detecção de raio X obedece uma distribuição de Poisson. Por isso a incerteza é dada por σ(**N**)=$\\sqrt{N}$/Δt, onde **N** é a soma dos fótons no intervalo de tempo.\n",
        "*   Para calcular a energia dos picos característicos primeiro precisamos obter o λ a partir dos valores de θ usando a equação de Bragg **nλ = 2dsen(θ)** , onde d = 0.282 nm, que é o *d* do NaCl e podemos usar n=1 para encontrar o valor de λ. Para encontrar o valor da energia fazemos E = hc/λ, onde: \n",
        "  * **h = $4.14 × 10^{-15}$ eV s**  \n",
        "  * **c = $3 × 10^{8}$ m/s**\n",
        "\n",
        "* Para verificar os ângulos para n=2 e n=3 calculamos os valores teóricos usando o λ encontrado anterioemente para n=1 e comparamos com os valores dos gráficos.\n",
        "* Os valores teóricos para kα e kβ do Mo são:\n",
        "  * kα = 17.44 keV\n",
        "  * kβ = 19.60 keV\n",
        "\n",
        "\n",
        "\n"
      ],
      "metadata": {
        "id": "pKb_W0lKwA_I"
      }
    },
    {
      "cell_type": "code",
      "source": [
        "#Juntando os 3 subconjuntos do conjunto 1:\n",
        "\n",
        "merge1c1 = pd.merge(c1_1, c1_2, how='outer', on = '\\u03B8 (°)')\n",
        "c1 = pd.merge(merge1c1, c1_3, how='outer', on = '\\u03B8 (°)')\n",
        "c1.columns = ['\\u03B8 (°)', 'Count 1', 'Count 2', 'Count 3']\n",
        "\n",
        "#Somando as contagens dos 3 subconjuntos:\n",
        "c1['Count Total'] = c1['Count 1'] + c1['Count 2'] + c1['Count 3']\n",
        "c1['σ'] = np.sqrt(c1['Count Total'])\n"
      ],
      "metadata": {
        "id": "K-rJFExGBZi9"
      },
      "execution_count": null,
      "outputs": []
    },
    {
      "cell_type": "code",
      "source": [
        "#Plotting os 3 subconjuntos do conjuto 1:\n",
        "\n",
        "p1 = go.Scatter(x=c1['\\u03B8 (°)'], y=c1['Count 1'], mode='lines', name='Count 1')\n",
        "p2 = go.Scatter(x=c1['\\u03B8 (°)'], y=c1['Count 2'], mode='lines', name='Count 2')\n",
        "p3 = go.Scatter(x=c1['\\u03B8 (°)'], y=c1['Count 3'], mode='lines', name='Count 3')\n",
        "\n",
        "plots1 = [p1,p2,p3]\n",
        "layout1 = go.Layout(title='Detecção de Raio X - Conjunto 1 de dados')\n",
        "figure1 = go.Figure(data=plots1, layout=layout1)\n",
        "figure1\n",
        "\n"
      ],
      "metadata": {
        "id": "8sbuSRZJEwKC"
      },
      "execution_count": null,
      "outputs": []
    },
    {
      "cell_type": "code",
      "source": [
        "#Plotting a soma das contagens:\n",
        "\n",
        "figure2 = px.line(c1, x='\\u03B8 (°)', y='Count Total', title = 'Detecção de Raio X - Conjunto 1 de dados com a soma da intensidade', error_y=c1['σ'])\n",
        "figure2"
      ],
      "metadata": {
        "id": "s6-WzeL9Zjhj"
      },
      "execution_count": null,
      "outputs": []
    },
    {
      "cell_type": "code",
      "source": [
        "#Selecionando os picos para ajuste da gaussiana onde n=1 (os 2 maiores picos):\n",
        "\n",
        "c1x_n1 = c1['θ (°)']\n",
        "c1y_n1 = c1['Count Total']\n",
        "c1_s = c1['σ']\n",
        "\n",
        "#kbeta para n=1:\n",
        "c1x_b_n1 = c1x_n1[(c1x_n1 >= 6.1) & (c1x_n1 <= 6.6)] #valores em x no pico kbeta\n",
        "c1y_b_n1 = c1y_n1[(c1x_n1 >= 6.1) & (c1x_n1 <= 6.6)] #valores em y no pico kbeta\n",
        "c1_s_b = c1_s[(c1x_n1 >= 6.1) & (c1x_n1 <= 6.6)] #sigma dos valores de contagem no pico kbeta\n",
        "c1_b_n1 = pd.DataFrame({'x': c1x_b_n1,'y': c1y_b_n1, 'sy':c1_s_b})\n",
        "\n",
        "#kalpha para n=1:\n",
        "c1x_a_n1 = c1x_n1[(c1x_n1 >= 6.9) & (c1x_n1 <= 7.6)] #valores em x no pico kalpha\n",
        "c1y_a_n1 = c1y_n1[(c1x_n1 >= 6.9) & (c1x_n1 <= 7.6)] #valores em y no pico kalpha\n",
        "c1_s_a = c1_s[(c1x_n1 >= 6.9) & (c1x_n1 <= 7.6)] #sigma dos valores de contagem no pico kalpha\n",
        "c1_a_n1 = pd.DataFrame({'x': c1x_a_n1,'y': c1y_a_n1, 'sy':c1_s_a})\n",
        "\n",
        "#Usando a função describe para calcular as tendências centrais: (alterar o nome da variável para obter os valores pra kalpha)\n",
        "\n",
        "c1_b_n1"
      ],
      "metadata": {
        "id": "x4H3M0MinizN"
      },
      "execution_count": null,
      "outputs": []
    },
    {
      "cell_type": "code",
      "source": [
        "!pip install lmfit"
      ],
      "metadata": {
        "id": "DJ69WqyeALt9"
      },
      "execution_count": null,
      "outputs": []
    },
    {
      "cell_type": "markdown",
      "source": [
        "##**Ajustando a função usando lmfit:**\n",
        "\n",
        "* Aqui não foram considerado os valores das incertezas nas contagens."
      ],
      "metadata": {
        "id": "nP5Zntb4yUkm"
      }
    },
    {
      "cell_type": "code",
      "source": [
        "#Defininfo a função gaussiana:\n",
        "from lmfit import Model\n",
        "\n",
        "\n",
        "def gaussian(x, amp, cen, wid):\n",
        "    return amp*np.exp(-(x-cen)**2/(2*wid**2))\n",
        "\n",
        "#Ajuste no pico kbeta, n=1, usando lmfit:\n",
        "b_gmodel = Model(gaussian)\n",
        "b_result = b_gmodel.fit(c1_b_n1['y'], x=c1x_b_n1, amp=2700, cen=6.3, wid=0.2)\n",
        "print(b_result.fit_report())\n",
        "\n",
        "\n",
        "plt.plot(c1x_b_n1, c1y_b_n1, 'o')\n",
        "plt.plot(c1x_b_n1, b_result.init_fit, '--', label='initial fit')\n",
        "plt.plot(c1x_b_n1, b_result.best_fit, '-', label='best fit')\n",
        "plt.title('Fitting kβ')\n",
        "plt.legend()\n",
        "plt.show()\n"
      ],
      "metadata": {
        "id": "-0sqdy47pbuZ"
      },
      "execution_count": null,
      "outputs": []
    },
    {
      "cell_type": "code",
      "source": [
        "#Ajuste no pico kalpha, n=1, usando lmfit:\n",
        "\n",
        "a_gmodel = Model(gaussian)\n",
        "a_result = a_gmodel.fit(c1y_a_n1, x=c1x_a_n1, amp=5700, cen=7.2, wid=0.1)\n",
        "\n",
        "print(a_result.fit_report())\n",
        "\n",
        "plt.plot(c1x_a_n1, c1y_a_n1, 'o')\n",
        "plt.plot(c1x_a_n1, a_result.init_fit, '--', label='initial fit')\n",
        "plt.plot(c1x_a_n1, a_result.best_fit, '-', label='best fit')\n",
        "plt.title('Fitting kα')\n",
        "plt.legend()\n",
        "plt.show()"
      ],
      "metadata": {
        "id": "cmkxjsNeBlG-"
      },
      "execution_count": null,
      "outputs": []
    },
    {
      "cell_type": "code",
      "source": [
        "#Resíduos para kbeta, n=1:\n",
        "\n",
        "residuos_b1 = c1y_b_n1 - b_result.best_fit\n",
        "plt.scatter(c1y_b_n1, residuos_b1)\n",
        "plt.axhline(y=0, c='red', ls='--')\n",
        "plt.title('Resíduos kβ, n=1')"
      ],
      "metadata": {
        "id": "pTkMQInGw1_k"
      },
      "execution_count": null,
      "outputs": []
    },
    {
      "cell_type": "code",
      "source": [
        "#Resíduos para kalpha, n=1:\n",
        "\n",
        "residuos_a1 = c1y_a_n1 - a_result.best_fit\n",
        "plt.scatter(c1y_a_n1, residuos_a1)\n",
        "plt.axhline(y=0, c='red', ls='--')\n",
        "plt.title('Resíduos kα, n=1')"
      ],
      "metadata": {
        "id": "VUJmFgKwIU4D"
      },
      "execution_count": null,
      "outputs": []
    },
    {
      "cell_type": "code",
      "source": [
        "#Checando os parâmetros:\n",
        "a_result.params"
      ],
      "metadata": {
        "id": "m_D7kxemNdcV"
      },
      "execution_count": null,
      "outputs": []
    },
    {
      "cell_type": "markdown",
      "source": [
        "##**Ajustando a função usando o curve_fit:**\n",
        "\n",
        "* Aqui foram usadas as incertezas nas contagens."
      ],
      "metadata": {
        "id": "rGfsJJJhFf7u"
      }
    },
    {
      "cell_type": "code",
      "source": [
        "#Fitting com o scipy.optmize.curve_fit:\n",
        "\n",
        "def gauss (x, a, x0, sigma):  #a=ymax, x0=centro da curva, sigma=largura da curva\n",
        "    return a*np.exp(-(x-x0)**2/(2*sigma**2))\n",
        "\n",
        "#Ajuste para kbeta:\n",
        "popt_b, pcov_b = curve_fit(gauss, c1_b_n1['x'], c1_b_n1['y'], sigma=c1_b_n1['sy'], p0=[2000,6.3,0.2])\n",
        "a = popt_b[0]\n",
        "x0 = popt_b[1]\n",
        "sigma = popt_b[2]\n",
        "plt.plot(c1_b_n1['x'],c1_b_n1['y'], 'bo', label='Data')\n",
        "plt.errorbar(c1_b_n1['x'],c1_b_n1['y'],yerr=c1_b_n1['sy'], color='b')\n",
        "plt.plot(c1_b_n1['x'], gauss(c1_b_n1['x'],*popt_b), color='r', label='Fit:' + '$\\mathcal{N}$' + f'$(\\mu \\\\approx {round(x0, 1)}, \\sigma \\\\approx {round(sigma,2)})$')\n",
        "plt.legend()\n",
        "print('Params:','\\n',popt_b, '\\n','\\n','Cov matrix:','\\n', pcov_b)\n"
      ],
      "metadata": {
        "id": "stWX2SKgWIyt"
      },
      "execution_count": null,
      "outputs": []
    },
    {
      "cell_type": "code",
      "source": [
        "#Ajuste para kalpha:\n",
        "popt_a, pcov_a = curve_fit(gauss, c1_a_n1['x'], c1_a_n1['y'], sigma=c1_a_n1['sy'], p0=[5000,7.2,0.1])\n",
        "a = popt_a[0]\n",
        "x0 = popt_a[1]\n",
        "sigma = popt_a[2]\n",
        "plt.plot(c1_a_n1['x'],c1_a_n1['y'], 'go', label='Data')\n",
        "plt.errorbar(c1_a_n1['x'],c1_a_n1['y'],yerr=c1_a_n1['sy'], color='g')\n",
        "plt.plot(c1_a_n1['x'], gauss(c1_a_n1['x'],*popt_a), color='purple', label='Fit:' + '$\\mathcal{N}$' + f'$(\\mu \\\\approx {round(x0, 1)}, \\sigma \\\\approx {round(sigma,2)})$')\n",
        "plt.legend()\n",
        "print('Params:','\\n',popt_a, '\\n','\\n','Cov matrix:','\\n', pcov_a)"
      ],
      "metadata": {
        "id": "T0d3osBAxTDd"
      },
      "execution_count": null,
      "outputs": []
    },
    {
      "cell_type": "markdown",
      "source": [
        "#**Comparação entre os ajustes:**"
      ],
      "metadata": {
        "id": "b0YKSBaWGYa8"
      }
    },
    {
      "cell_type": "code",
      "source": [
        "print('Resultado para kβ usando lmfit:','\\n')\n",
        "display(b_result)\n",
        "print('\\n')\n",
        "\n",
        "print('Resultado para kα usando lmfit:','\\n')\n",
        "display(a_result)\n",
        "print('\\n')\n",
        "\n",
        "print('Resultado para kβ usando curve_fit:','\\n')\n",
        "print('amp:',popt_b[0],'|','inc:', np.sqrt(pcov_b[0][0]),'|','relative error:',(np.sqrt(pcov_b[0][0])/popt_b[0])*100,'%','\\n',\n",
        "      'cen:',popt_b[1],'|','inc:', np.sqrt(pcov_b[1][1]),'|','relative error:',(np.sqrt(pcov_b[1][1])/popt_b[1])*100,'%','\\n',\n",
        "      'wid:',popt_b[2],'|','inc:', np.sqrt(pcov_b[2][2]),'|','relative error:',(np.sqrt(pcov_b[2][2])/popt_b[2])*100,'%')\n",
        "print('\\n')\n",
        "\n",
        "print('Resultado para kα usando curve_fit:','\\n')\n",
        "print('amp:',popt_a[0],\"|\",'inc:', np.sqrt(pcov_a[0][0]),'|','relative error:',(np.sqrt(pcov_a[0][0])/popt_a[0])*100,'%','\\n',\n",
        "      'cen:',popt_a[1],'|','inc:', np.sqrt(pcov_a[1][1]),'|','relative error:',(np.sqrt(pcov_a[1][1])/popt_a[1])*100,'%','\\n',\n",
        "      'wid:',popt_a[2],'|','inc:', np.sqrt(pcov_a[2][2]),'|','relative error:',(np.sqrt(pcov_a[2][2])/popt_a[2])*100,'%')\n",
        "print('\\n')\n"
      ],
      "metadata": {
        "id": "E8T3_NLuGjsd"
      },
      "execution_count": null,
      "outputs": []
    },
    {
      "cell_type": "code",
      "source": [
        "#R2:\n",
        "\n",
        "def rsquared(y, yfit):\n",
        "    \"\"\" Return R^2 where x and y are array-like.\"\"\"\n",
        "\n",
        "    slope, intercept, r_value, p_value, std_err = lr(y, yfit)\n",
        "    return r_value**2\n",
        "\n",
        "#Valores de R2 para os ajustes feitos com o lmfit:\n",
        "b_r2_lm = rsquared(c1_b_n1['y'], b_result.best_fit)\n",
        "a_r2_lm = rsquared(c1_a_n1['y'], a_result.best_fit)\n",
        "\n",
        "#valores de R2 para os ajustes feitos com o curve_fit():\n",
        "b_r2_cf = rsquared(c1_b_n1['y'], gauss(c1_b_n1['x'],*popt_b))\n",
        "a_r2_cf = rsquared(c1_a_n1['y'], gauss(c1_a_n1['x'],*popt_a))\n",
        "\n",
        "print(a_r2_cf, a_r2_lm, b_r2_cf,b_r2_lm)"
      ],
      "metadata": {
        "id": "PJl8R6jiA6cy"
      },
      "execution_count": null,
      "outputs": []
    },
    {
      "cell_type": "markdown",
      "source": [
        "##**Usando os valores dos ajustes feitos com lmfit para calcular os valores do objetivo do experiemento:**\n",
        "\n",
        "* OBS.: Comparando os ajustes podemos ver que não há grandes diferenças entre os valores de ${R^2}$ e os desvios percentuais entre os valores dos parâmetros e suas incertezas."
      ],
      "metadata": {
        "id": "SeW2vlDbMM1G"
      }
    },
    {
      "cell_type": "code",
      "source": [
        "#Calculando os valores de λ a partir dos valores de θ ajustados para kaplha e kbeta.\n",
        "#Os valores de θ estão no parâmetro 'cen' do ajuste, que corresponde à média da gaussiana.\n",
        "#Vamos usar a equação de Bragg: nλ=2dsen(θ) => λ = 2dsen(θ)\n",
        "\n",
        "d = 0.282*10**(-9) #metros\n",
        "#Para kbeta:\n",
        "lambda_b = 2*d*np.sin(6.3511*(np.pi/180))\n",
        "\n",
        "#Para kalpha:\n",
        "lambda_a = 2*d*np.sin(7.18760*(np.pi/180))\n",
        "\n",
        "lambda_a"
      ],
      "metadata": {
        "id": "pcfVhfhOLlGg"
      },
      "execution_count": null,
      "outputs": []
    },
    {
      "cell_type": "code",
      "source": [
        "#Calculando os valores da energia a partir dos valores de λ e comparando com seus valores teóricos. A equação usada é E = hc/λ:\n",
        "\n",
        "h = 4.14*10**(-15) #eV s\n",
        "c = 3*10**8 #m/s\n",
        "\n",
        "E_ka_t = 17440 #eV \n",
        "E_kb_t = 19600 #eV\n",
        "\n",
        "#Para kbeta:\n",
        "E_b = (h*c)/lambda_b\n",
        "desvio_a = (abs(E_b - E_kb_t)/E_kb_t)*100 #desvio percentual de 0.92%\n",
        "\n",
        "#Para kalfa:\n",
        "E_a = (h*c)/lambda_a\n",
        "desvio_b = (abs(E_a - E_ka_t)/E_ka_t)*100 #desvio percentual de 1.57%\n"
      ],
      "metadata": {
        "id": "OfQAfR_jRlsX"
      },
      "execution_count": null,
      "outputs": []
    },
    {
      "cell_type": "code",
      "source": [
        "#Verificando os ângulos para n=2 e n=3 usando os valores de λ encontrados:\n",
        "\n",
        "#Para kalpha, n=2:\n",
        "theta_a_n2 = np.arcsin(lambda_a/d)*(180/np.pi) #em graus\n",
        "\n",
        "#Para kbeta, n=2:\n",
        "theta_b_n2 = np.arcsin(lambda_b/d)*(180/np.pi) #em graus\n",
        "\n",
        "#Para kalpha, n=3:\n",
        "theta_a_n3 = np.arcsin((3*lambda_a)/(2*d))*(180/np.pi) #em graus\n",
        "\n",
        "#Para kbeta, n=3:\n",
        "theta_b_n3 = np.arcsin((3*lambda_b)/(2*d))*(180/np.pi) #em graus\n"
      ],
      "metadata": {
        "id": "3-JkiyHSUido"
      },
      "execution_count": null,
      "outputs": []
    },
    {
      "cell_type": "markdown",
      "source": [
        "#**Conjunto de dados 2:**\n",
        "\n",
        "\n",
        "\n",
        "*   Apresentar os gráficos de Intensidade (número de fótons por unidade\n",
        "de tempo) em função de energia (keV).\n",
        "*   Não esqueça de associar uma incerteza a cada medida de contagem.\n",
        "*   As energias características correspondem às esperadas? Qual(is) o(s)\n",
        "desvio(s) percentual(is)? Comente.\n",
        "\n",
        "*   Para cada espectro (tensão de aceleração variando de 35 kV a 18 kV)\n",
        "determine o valor de λmin (via determinação de θ min ou Emax\n",
        "experimental).\n",
        "\n",
        "\n",
        "*   Através de um gráfico de tensão de aceleração versus λ min, determine\n",
        "a constante de Planck. Compare com o valor esperado e discuta seu\n",
        "resultado.\n",
        "\n",
        "**Informações para análise:**\n",
        "\n",
        "*   A intensidade (contagem) dada pelo software do equipamento é número de fótons por unidade de tempo. Para fazer o gráfico da intensidade em função da energia vamos obter o λ a partir dos valores de θ do gráfico, usando a equação de Bragg nλ = 2dsen(θ), uma vez que estanos considerando apenas n=1. Então a partit desses valores de λ podemos calcular a energia e fazer o gráfico de Intensidade por energia. Para obter a incerteza dos valores da contagem precisamos considerar o calculo comentado anteriormente: multiplicamos os valores de contagem da tabela por Δt para depois fazer $\\sqrt{N}$/Δt. As tabelas para Δt = 5s já tiveram suas correções feitas multiplicando os valores de contagem por 5. O plot de Intensidade/unidade de tenpo X Energia deve ser feito com os valores originais fornecidos pelo software, ou seja, dividindo os valores por 5 para ficar contagem/s.\n",
        "*   A incerteza a ser associada será a que foi informada no item anterior.\n",
        "*   Para obter a energia característica podemos seguir com o mesmo procedimento do conjunto 1, de ajustar uma gaussiana nos picos para obter a energia.\n",
        "*   Vamos realizar os dois items acima para todos os valores de tensão, e para cada um desses valores vamos obter um λmin. Para esses λmin vamos obter uma Emax e plotar Emax X λmin.\n",
        "*   Para descobrir o valor da constante de planck **h** vamos ajustar o gráfico de Emax X λmin.  \n",
        "\n",
        "\n",
        "\n",
        "\n",
        "\n",
        "\n"
      ],
      "metadata": {
        "id": "fg-Z8mYKNC8b"
      }
    }
  ]
}