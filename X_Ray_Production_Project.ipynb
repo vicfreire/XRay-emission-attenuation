{
  "nbformat": 4,
  "nbformat_minor": 0,
  "metadata": {
    "colab": {
      "name": "X-Ray Production - Project (English Version).ipynb",
      "provenance": []
    },
    "kernelspec": {
      "name": "python3",
      "display_name": "Python 3"
    },
    "language_info": {
      "name": "python"
    }
  },
  "cells": [
    {
      "cell_type": "markdown",
      "source": [
        "#**X-Ray Production**\n",
        "\n",
        "**Observations:**\n",
        "\n",
        "This experiment was peformed at the Institute of Physics, University of São Paulo in 2022 and it is part of modern physics laboratory classes. It was used NaCl to diffract X-Ray. \n",
        "\n",
        "**Experiment main goals:**\n",
        "\n",
        "1.   To determine the X-Ray emission spectra of Mo tube (Count vs Energy): characteristic radiation and bremsstrahlung radiation.\n",
        "2.   To determine the Planck constant from the bremsstrahlung radiation.\n",
        "3.   To evaluate the relation between θmin and acceleration potencial difference (or Emax) (V).\n",
        "\n",
        "OBS.: the potential difference is sometimes refered as ddp in the code, which comes from 'diferença de potencial' in portuguese\n",
        "\n",
        "**Datasets observations:**\n",
        "\n",
        "\n",
        "\n",
        "*   The first dataset consists of 3 subsets at the angle range from θmin = 2.5̊  and θmax = 30̊ , Δt = 1s, Δθ = 0.1̊ , I = 1 mA and U = 35 kV.\n",
        "*   The second dataset consists of 10 subsets with 5 different tension values, and for each tension value there is 2 values of Δt: 1s and 5s. All subsets were measured at the angle range from θmin = 2.5̊  and θmax = 12̊, I = 1 mA, and Δθ = 0.1̊. The tension values are: 18 kV, 25 kV, 28 kV, 30 kV and 35 kV.\n",
        "\n",
        "\n",
        "**Experiment observations:**\n",
        "\n",
        "\n",
        "\n",
        "*   The uncertainty in maximum energy (θmin) is 1%.\n",
        "*   The equipament uncertainty in θ is 0.05̊.\n",
        "*   The equipment software delivers the count  column divided by Δt, so in the case of sets where Δt = 5s we have to multiply the count column by 5 and then add the influence of time in the uncertainty calculation: σ(N) = $\\sqrt{N}$/Δt.\n",
        "\n",
        "\n"
      ],
      "metadata": {
        "id": "88warHV9CJvK"
      }
    },
    {
      "cell_type": "markdown",
      "source": [
        "**Importing libraries:**"
      ],
      "metadata": {
        "id": "s0QvwYcjMsw_"
      }
    },
    {
      "cell_type": "code",
      "source": [
        "from google.colab import drive\n",
        "drive.mount('/content/drive')\n",
        "\n",
        "import pandas as pd\n",
        "import numpy as np\n",
        "import matplotlib.pyplot as plt\n",
        "import seaborn as sns\n",
        "import plotly.express as px\n",
        "import plotly.graph_objects as go\n",
        "from scipy.optimize import curve_fit\n",
        "from scipy.stats import norm\n",
        "from scipy.stats import linregress as lr\n",
        "from scipy import odr\n",
        "import math"
      ],
      "metadata": {
        "colab": {
          "base_uri": "https://localhost:8080/"
        },
        "id": "qqVCTEwRLcWI",
        "outputId": "e5f3335f-25f6-4259-f826-d0315a04f37c"
      },
      "execution_count": 130,
      "outputs": [
        {
          "output_type": "stream",
          "name": "stdout",
          "text": [
            "Drive already mounted at /content/drive; to attempt to forcibly remount, call drive.mount(\"/content/drive\", force_remount=True).\n"
          ]
        }
      ]
    },
    {
      "cell_type": "markdown",
      "source": [
        "#**Dataset 1:**\n",
        "\n",
        "*   Comment qualitatively the observed spectra (continuous spectra and characteristic lines).\n",
        "*   How to evaluate the experimental uncertainties?\n",
        "*   Does the characteristic energies match to the expected ones?\n",
        "*   Does the angles to n=2 and n=3 match to the expected ones?\n",
        "\n",
        "**Analysis infos:**\n",
        "\n",
        "*   The X-Ray detection obbey the Poisson distribution function. That is why the uncertanty is given by σ(N) = $\\sqrt{N}$/Δt (N is the sum of the photons in time interval Δt).\n",
        "*   To calculate characteristic peaks (kα and kβ) energies, first we obtain λ from θ values applied in Bragg equation **nλ = 2dsin(θ)**, where d = 0.282 nm (d value for NaCl), n=1. To calculate energy we calculate **E = hc/λ**.\n",
        "   * **h = $4.14×10^{−15}$  eV s**\n",
        "   * **c =  $3×10^8$  m/s**\n",
        "*   To verify the angles for n = 2 and n = 3 we apply the λ found for n = 1 and compare them with the values from the graph curves. \n",
        "*   The expected values for kα and kβ are:\n",
        "    * **kα = 17.44 eV**\n",
        "    * **kβ = 19.60 eV**\n",
        "\n",
        "\n",
        "\n"
      ],
      "metadata": {
        "id": "cKrSnW_-OmRR"
      }
    },
    {
      "cell_type": "markdown",
      "source": [
        "**Reading datasets:**"
      ],
      "metadata": {
        "id": "aXU3fX6VMzdG"
      }
    },
    {
      "cell_type": "code",
      "source": [
        "def read_c1(num):\n",
        "  num = str(num)\n",
        "  d1 = np.loadtxt(f'/content/drive/MyDrive/Raio X/Raio X/Dados/c1-{num}.txt', skiprows=1, dtype=np.str)\n",
        "  d2 = np.char.replace(d1, ',', '.').astype(np.float64)\n",
        "  return pd.DataFrame(d2, columns=['\\u03B8 (°)','Count'])\n",
        "\n",
        " \n",
        "\n",
        "#Dataset 1:\n",
        "c1_1 = read_c1(1)  #subset 1\n",
        "c1_2 = read_c1(2)  #subset 2\n",
        "c1_3 = read_c1(3)  #subset 3\n"
      ],
      "metadata": {
        "id": "47-Vrb7XM2-2",
        "colab": {
          "base_uri": "https://localhost:8080/"
        },
        "outputId": "9e65c1fc-579e-4a66-c833-a5aed29f8daf"
      },
      "execution_count": 131,
      "outputs": [
        {
          "output_type": "stream",
          "name": "stderr",
          "text": [
            "/usr/local/lib/python3.7/dist-packages/ipykernel_launcher.py:3: DeprecationWarning:\n",
            "\n",
            "`np.str` is a deprecated alias for the builtin `str`. To silence this warning, use `str` by itself. Doing this will not modify any behavior and is safe. If you specifically wanted the numpy scalar type, use `np.str_` here.\n",
            "Deprecated in NumPy 1.20; for more details and guidance: https://numpy.org/devdocs/release/1.20.0-notes.html#deprecations\n",
            "\n"
          ]
        }
      ]
    },
    {
      "cell_type": "markdown",
      "source": [
        "**Checking datasets:**"
      ],
      "metadata": {
        "id": "vT-A7jYmN-6J"
      }
    },
    {
      "cell_type": "code",
      "source": [
        "c1_1"
      ],
      "metadata": {
        "id": "Gs_mg_ngOCSp",
        "colab": {
          "base_uri": "https://localhost:8080/",
          "height": 424
        },
        "outputId": "32e87634-dd86-456d-b806-5af34da0c987"
      },
      "execution_count": 132,
      "outputs": [
        {
          "output_type": "execute_result",
          "data": {
            "text/plain": [
              "     θ (°)  Count\n",
              "0      2.5    6.0\n",
              "1      2.6    8.0\n",
              "2      2.7    3.0\n",
              "3      2.8   11.0\n",
              "4      2.9    8.0\n",
              "..     ...    ...\n",
              "271   29.6   25.0\n",
              "272   29.7   13.0\n",
              "273   29.8   17.0\n",
              "274   29.9   26.0\n",
              "275   30.0   34.0\n",
              "\n",
              "[276 rows x 2 columns]"
            ],
            "text/html": [
              "\n",
              "  <div id=\"df-c4e4c0c0-113b-4b7b-bb41-81b3784543f3\">\n",
              "    <div class=\"colab-df-container\">\n",
              "      <div>\n",
              "<style scoped>\n",
              "    .dataframe tbody tr th:only-of-type {\n",
              "        vertical-align: middle;\n",
              "    }\n",
              "\n",
              "    .dataframe tbody tr th {\n",
              "        vertical-align: top;\n",
              "    }\n",
              "\n",
              "    .dataframe thead th {\n",
              "        text-align: right;\n",
              "    }\n",
              "</style>\n",
              "<table border=\"1\" class=\"dataframe\">\n",
              "  <thead>\n",
              "    <tr style=\"text-align: right;\">\n",
              "      <th></th>\n",
              "      <th>θ (°)</th>\n",
              "      <th>Count</th>\n",
              "    </tr>\n",
              "  </thead>\n",
              "  <tbody>\n",
              "    <tr>\n",
              "      <th>0</th>\n",
              "      <td>2.5</td>\n",
              "      <td>6.0</td>\n",
              "    </tr>\n",
              "    <tr>\n",
              "      <th>1</th>\n",
              "      <td>2.6</td>\n",
              "      <td>8.0</td>\n",
              "    </tr>\n",
              "    <tr>\n",
              "      <th>2</th>\n",
              "      <td>2.7</td>\n",
              "      <td>3.0</td>\n",
              "    </tr>\n",
              "    <tr>\n",
              "      <th>3</th>\n",
              "      <td>2.8</td>\n",
              "      <td>11.0</td>\n",
              "    </tr>\n",
              "    <tr>\n",
              "      <th>4</th>\n",
              "      <td>2.9</td>\n",
              "      <td>8.0</td>\n",
              "    </tr>\n",
              "    <tr>\n",
              "      <th>...</th>\n",
              "      <td>...</td>\n",
              "      <td>...</td>\n",
              "    </tr>\n",
              "    <tr>\n",
              "      <th>271</th>\n",
              "      <td>29.6</td>\n",
              "      <td>25.0</td>\n",
              "    </tr>\n",
              "    <tr>\n",
              "      <th>272</th>\n",
              "      <td>29.7</td>\n",
              "      <td>13.0</td>\n",
              "    </tr>\n",
              "    <tr>\n",
              "      <th>273</th>\n",
              "      <td>29.8</td>\n",
              "      <td>17.0</td>\n",
              "    </tr>\n",
              "    <tr>\n",
              "      <th>274</th>\n",
              "      <td>29.9</td>\n",
              "      <td>26.0</td>\n",
              "    </tr>\n",
              "    <tr>\n",
              "      <th>275</th>\n",
              "      <td>30.0</td>\n",
              "      <td>34.0</td>\n",
              "    </tr>\n",
              "  </tbody>\n",
              "</table>\n",
              "<p>276 rows × 2 columns</p>\n",
              "</div>\n",
              "      <button class=\"colab-df-convert\" onclick=\"convertToInteractive('df-c4e4c0c0-113b-4b7b-bb41-81b3784543f3')\"\n",
              "              title=\"Convert this dataframe to an interactive table.\"\n",
              "              style=\"display:none;\">\n",
              "        \n",
              "  <svg xmlns=\"http://www.w3.org/2000/svg\" height=\"24px\"viewBox=\"0 0 24 24\"\n",
              "       width=\"24px\">\n",
              "    <path d=\"M0 0h24v24H0V0z\" fill=\"none\"/>\n",
              "    <path d=\"M18.56 5.44l.94 2.06.94-2.06 2.06-.94-2.06-.94-.94-2.06-.94 2.06-2.06.94zm-11 1L8.5 8.5l.94-2.06 2.06-.94-2.06-.94L8.5 2.5l-.94 2.06-2.06.94zm10 10l.94 2.06.94-2.06 2.06-.94-2.06-.94-.94-2.06-.94 2.06-2.06.94z\"/><path d=\"M17.41 7.96l-1.37-1.37c-.4-.4-.92-.59-1.43-.59-.52 0-1.04.2-1.43.59L10.3 9.45l-7.72 7.72c-.78.78-.78 2.05 0 2.83L4 21.41c.39.39.9.59 1.41.59.51 0 1.02-.2 1.41-.59l7.78-7.78 2.81-2.81c.8-.78.8-2.07 0-2.86zM5.41 20L4 18.59l7.72-7.72 1.47 1.35L5.41 20z\"/>\n",
              "  </svg>\n",
              "      </button>\n",
              "      \n",
              "  <style>\n",
              "    .colab-df-container {\n",
              "      display:flex;\n",
              "      flex-wrap:wrap;\n",
              "      gap: 12px;\n",
              "    }\n",
              "\n",
              "    .colab-df-convert {\n",
              "      background-color: #E8F0FE;\n",
              "      border: none;\n",
              "      border-radius: 50%;\n",
              "      cursor: pointer;\n",
              "      display: none;\n",
              "      fill: #1967D2;\n",
              "      height: 32px;\n",
              "      padding: 0 0 0 0;\n",
              "      width: 32px;\n",
              "    }\n",
              "\n",
              "    .colab-df-convert:hover {\n",
              "      background-color: #E2EBFA;\n",
              "      box-shadow: 0px 1px 2px rgba(60, 64, 67, 0.3), 0px 1px 3px 1px rgba(60, 64, 67, 0.15);\n",
              "      fill: #174EA6;\n",
              "    }\n",
              "\n",
              "    [theme=dark] .colab-df-convert {\n",
              "      background-color: #3B4455;\n",
              "      fill: #D2E3FC;\n",
              "    }\n",
              "\n",
              "    [theme=dark] .colab-df-convert:hover {\n",
              "      background-color: #434B5C;\n",
              "      box-shadow: 0px 1px 3px 1px rgba(0, 0, 0, 0.15);\n",
              "      filter: drop-shadow(0px 1px 2px rgba(0, 0, 0, 0.3));\n",
              "      fill: #FFFFFF;\n",
              "    }\n",
              "  </style>\n",
              "\n",
              "      <script>\n",
              "        const buttonEl =\n",
              "          document.querySelector('#df-c4e4c0c0-113b-4b7b-bb41-81b3784543f3 button.colab-df-convert');\n",
              "        buttonEl.style.display =\n",
              "          google.colab.kernel.accessAllowed ? 'block' : 'none';\n",
              "\n",
              "        async function convertToInteractive(key) {\n",
              "          const element = document.querySelector('#df-c4e4c0c0-113b-4b7b-bb41-81b3784543f3');\n",
              "          const dataTable =\n",
              "            await google.colab.kernel.invokeFunction('convertToInteractive',\n",
              "                                                     [key], {});\n",
              "          if (!dataTable) return;\n",
              "\n",
              "          const docLinkHtml = 'Like what you see? Visit the ' +\n",
              "            '<a target=\"_blank\" href=https://colab.research.google.com/notebooks/data_table.ipynb>data table notebook</a>'\n",
              "            + ' to learn more about interactive tables.';\n",
              "          element.innerHTML = '';\n",
              "          dataTable['output_type'] = 'display_data';\n",
              "          await google.colab.output.renderOutput(dataTable, element);\n",
              "          const docLink = document.createElement('div');\n",
              "          docLink.innerHTML = docLinkHtml;\n",
              "          element.appendChild(docLink);\n",
              "        }\n",
              "      </script>\n",
              "    </div>\n",
              "  </div>\n",
              "  "
            ]
          },
          "metadata": {},
          "execution_count": 132
        }
      ]
    },
    {
      "cell_type": "markdown",
      "source": [
        "**Merging the 3 subsets from dataset 1 to a dataset called c1:**"
      ],
      "metadata": {
        "id": "69Q4M1heWYJx"
      }
    },
    {
      "cell_type": "code",
      "source": [
        "merge1c1 = pd.merge(c1_1, c1_2, how='outer', on = '\\u03B8 (°)')\n",
        "c1 = pd.merge(merge1c1, c1_3, how='outer', on = '\\u03B8 (°)')\n",
        "c1.columns = ['\\u03B8 (°)', 'Count 1', 'Count 2', 'Count 3']\n",
        "\n",
        "#Add the extra column summing the column values up and the column with uncertainties:\n",
        "c1['Count Total'] = c1['Count 1'] + c1['Count 2'] + c1['Count 3']\n",
        "c1['σ'] = np.sqrt(c1['Count Total'])"
      ],
      "metadata": {
        "id": "VavQBZ70WUEJ"
      },
      "execution_count": 133,
      "outputs": []
    },
    {
      "cell_type": "markdown",
      "source": [
        "**Plotting the 3 subsets together:**"
      ],
      "metadata": {
        "id": "Rk0foK3KWzYm"
      }
    },
    {
      "cell_type": "code",
      "source": [
        "p1 = go.Scatter(x=c1['\\u03B8 (°)'], y=c1['Count 1'], mode='lines', name='Count 1')\n",
        "p2 = go.Scatter(x=c1['\\u03B8 (°)'], y=c1['Count 2'], mode='lines', name='Count 2')\n",
        "p3 = go.Scatter(x=c1['\\u03B8 (°)'], y=c1['Count 3'], mode='lines', name='Count 3')\n",
        "\n",
        "plots1 = [p1,p2,p3]\n",
        "layout1 = go.Layout(title='X-Ray detection - Dataset 1')\n",
        "figure1 = go.Figure(data=plots1, layout=layout1)\n",
        "figure1"
      ],
      "metadata": {
        "id": "6qJrJF2jW4XO",
        "colab": {
          "base_uri": "https://localhost:8080/",
          "height": 542
        },
        "outputId": "c5b59afb-bec9-4bd7-ac58-a442e76126f9"
      },
      "execution_count": 134,
      "outputs": [
        {
          "output_type": "display_data",
          "data": {
            "text/html": [
              "<html>\n",
              "<head><meta charset=\"utf-8\" /></head>\n",
              "<body>\n",
              "    <div>            <script src=\"https://cdnjs.cloudflare.com/ajax/libs/mathjax/2.7.5/MathJax.js?config=TeX-AMS-MML_SVG\"></script><script type=\"text/javascript\">if (window.MathJax) {MathJax.Hub.Config({SVG: {font: \"STIX-Web\"}});}</script>                <script type=\"text/javascript\">window.PlotlyConfig = {MathJaxConfig: 'local'};</script>\n",
              "        <script src=\"https://cdn.plot.ly/plotly-2.8.3.min.js\"></script>                <div id=\"c23565a5-7ecd-4080-ba1a-7d50d2f5600d\" class=\"plotly-graph-div\" style=\"height:525px; width:100%;\"></div>            <script type=\"text/javascript\">                                    window.PLOTLYENV=window.PLOTLYENV || {};                                    if (document.getElementById(\"c23565a5-7ecd-4080-ba1a-7d50d2f5600d\")) {                    Plotly.newPlot(                        \"c23565a5-7ecd-4080-ba1a-7d50d2f5600d\",                        [{\"mode\":\"lines\",\"name\":\"Count 1\",\"x\":[2.5,2.6,2.7,2.8,2.9,3.0,3.1,3.2,3.3,3.4,3.5,3.6,3.7,3.8,3.9,4.0,4.1,4.2,4.3,4.4,4.5,4.6,4.7,4.8,4.9,5.0,5.1,5.2,5.3,5.4,5.5,5.6,5.7,5.8,5.9,6.0,6.1,6.2,6.3,6.4,6.5,6.6,6.7,6.8,6.9,7.0,7.1,7.2,7.3,7.4,7.5,7.6,7.7,7.8,7.9,8.0,8.1,8.2,8.3,8.4,8.5,8.6,8.7,8.8,8.9,9.0,9.1,9.2,9.3,9.4,9.5,9.6,9.7,9.8,9.9,10.0,10.1,10.2,10.3,10.4,10.5,10.6,10.7,10.8,10.9,11.0,11.1,11.2,11.3,11.4,11.5,11.6,11.7,11.8,11.9,12.0,12.1,12.2,12.3,12.4,12.5,12.6,12.7,12.8,12.9,13.0,13.1,13.2,13.3,13.4,13.5,13.6,13.7,13.8,13.9,14.0,14.1,14.2,14.3,14.4,14.5,14.6,14.7,14.8,14.9,15.0,15.1,15.2,15.3,15.4,15.5,15.6,15.7,15.8,15.9,16.0,16.1,16.2,16.3,16.4,16.5,16.6,16.7,16.8,16.9,17.0,17.1,17.2,17.3,17.4,17.5,17.6,17.7,17.8,17.9,18.0,18.1,18.2,18.3,18.4,18.5,18.6,18.7,18.8,18.9,19.0,19.1,19.2,19.3,19.4,19.5,19.6,19.7,19.8,19.9,20.0,20.1,20.2,20.3,20.4,20.5,20.6,20.7,20.8,20.9,21.0,21.1,21.2,21.3,21.4,21.5,21.6,21.7,21.8,21.9,22.0,22.1,22.2,22.3,22.4,22.5,22.6,22.7,22.8,22.9,23.0,23.1,23.2,23.3,23.4,23.5,23.6,23.7,23.8,23.9,24.0,24.1,24.2,24.3,24.4,24.5,24.6,24.7,24.8,24.9,25.0,25.1,25.2,25.3,25.4,25.5,25.6,25.7,25.8,25.9,26.0,26.1,26.2,26.3,26.4,26.5,26.6,26.7,26.8,26.9,27.0,27.1,27.2,27.3,27.4,27.5,27.6,27.7,27.8,27.9,28.0,28.1,28.2,28.3,28.4,28.5,28.6,28.7,28.8,28.9,29.0,29.1,29.2,29.3,29.4,29.5,29.6,29.7,29.8,29.9,30.0],\"y\":[6.0,8.0,3.0,11.0,8.0,6.0,6.0,6.0,12.0,19.0,43.0,139.0,260.0,350.0,490.0,520.0,584.0,597.0,624.0,641.0,628.0,683.0,658.0,639.0,576.0,611.0,582.0,554.0,559.0,555.0,490.0,488.0,494.0,502.0,463.0,435.0,468.0,567.0,1002.0,937.0,679.0,505.0,453.0,379.0,375.0,616.0,1810.0,2040.0,1418.0,693.0,391.0,307.0,343.0,336.0,303.0,295.0,305.0,280.0,292.0,265.0,267.0,280.0,259.0,249.0,221.0,268.0,209.0,214.0,204.0,190.0,171.0,186.0,172.0,159.0,161.0,161.0,124.0,145.0,129.0,149.0,143.0,129.0,112.0,118.0,133.0,104.0,119.0,108.0,113.0,95.0,83.0,105.0,115.0,95.0,88.0,89.0,101.0,118.0,85.0,94.0,92.0,117.0,129.0,214.0,232.0,202.0,151.0,110.0,103.0,78.0,86.0,80.0,94.0,88.0,78.0,80.0,76.0,98.0,112.0,376.0,592.0,532.0,289.0,137.0,77.0,85.0,79.0,77.0,72.0,59.0,63.0,67.0,64.0,60.0,55.0,62.0,67.0,61.0,48.0,55.0,65.0,60.0,58.0,53.0,57.0,56.0,52.0,54.0,58.0,64.0,46.0,50.0,39.0,40.0,39.0,41.0,39.0,35.0,41.0,50.0,34.0,38.0,44.0,46.0,35.0,44.0,40.0,47.0,44.0,42.0,69.0,75.0,79.0,43.0,48.0,43.0,28.0,26.0,28.0,32.0,37.0,28.0,34.0,42.0,32.0,31.0,29.0,43.0,25.0,32.0,29.0,27.0,29.0,39.0,38.0,106.0,139.0,150.0,100.0,43.0,28.0,25.0,34.0,36.0,25.0,27.0,16.0,30.0,16.0,28.0,29.0,21.0,22.0,19.0,19.0,18.0,28.0,22.0,16.0,14.0,21.0,18.0,15.0,21.0,20.0,20.0,19.0,22.0,20.0,16.0,16.0,13.0,12.0,19.0,15.0,22.0,21.0,18.0,17.0,22.0,32.0,29.0,17.0,17.0,18.0,12.0,18.0,24.0,20.0,17.0,24.0,15.0,15.0,15.0,17.0,14.0,11.0,10.0,15.0,18.0,10.0,11.0,13.0,15.0,19.0,13.0,15.0,12.0,11.0,10.0,11.0,25.0,13.0,17.0,26.0,34.0],\"type\":\"scatter\"},{\"mode\":\"lines\",\"name\":\"Count 2\",\"x\":[2.5,2.6,2.7,2.8,2.9,3.0,3.1,3.2,3.3,3.4,3.5,3.6,3.7,3.8,3.9,4.0,4.1,4.2,4.3,4.4,4.5,4.6,4.7,4.8,4.9,5.0,5.1,5.2,5.3,5.4,5.5,5.6,5.7,5.8,5.9,6.0,6.1,6.2,6.3,6.4,6.5,6.6,6.7,6.8,6.9,7.0,7.1,7.2,7.3,7.4,7.5,7.6,7.7,7.8,7.9,8.0,8.1,8.2,8.3,8.4,8.5,8.6,8.7,8.8,8.9,9.0,9.1,9.2,9.3,9.4,9.5,9.6,9.7,9.8,9.9,10.0,10.1,10.2,10.3,10.4,10.5,10.6,10.7,10.8,10.9,11.0,11.1,11.2,11.3,11.4,11.5,11.6,11.7,11.8,11.9,12.0,12.1,12.2,12.3,12.4,12.5,12.6,12.7,12.8,12.9,13.0,13.1,13.2,13.3,13.4,13.5,13.6,13.7,13.8,13.9,14.0,14.1,14.2,14.3,14.4,14.5,14.6,14.7,14.8,14.9,15.0,15.1,15.2,15.3,15.4,15.5,15.6,15.7,15.8,15.9,16.0,16.1,16.2,16.3,16.4,16.5,16.6,16.7,16.8,16.9,17.0,17.1,17.2,17.3,17.4,17.5,17.6,17.7,17.8,17.9,18.0,18.1,18.2,18.3,18.4,18.5,18.6,18.7,18.8,18.9,19.0,19.1,19.2,19.3,19.4,19.5,19.6,19.7,19.8,19.9,20.0,20.1,20.2,20.3,20.4,20.5,20.6,20.7,20.8,20.9,21.0,21.1,21.2,21.3,21.4,21.5,21.6,21.7,21.8,21.9,22.0,22.1,22.2,22.3,22.4,22.5,22.6,22.7,22.8,22.9,23.0,23.1,23.2,23.3,23.4,23.5,23.6,23.7,23.8,23.9,24.0,24.1,24.2,24.3,24.4,24.5,24.6,24.7,24.8,24.9,25.0,25.1,25.2,25.3,25.4,25.5,25.6,25.7,25.8,25.9,26.0,26.1,26.2,26.3,26.4,26.5,26.6,26.7,26.8,26.9,27.0,27.1,27.2,27.3,27.4,27.5,27.6,27.7,27.8,27.9,28.0,28.1,28.2,28.3,28.4,28.5,28.6,28.7,28.8,28.9,29.0,29.1,29.2,29.3,29.4,29.5,29.6,29.7,29.8,29.9,30.0],\"y\":[4.0,7.0,10.0,12.0,15.0,6.0,9.0,13.0,11.0,17.0,46.0,135.0,285.0,349.0,475.0,516.0,561.0,593.0,557.0,610.0,624.0,590.0,616.0,608.0,571.0,577.0,557.0,501.0,540.0,519.0,486.0,432.0,475.0,454.0,434.0,371.0,422.0,596.0,970.0,854.0,582.0,420.0,378.0,355.0,341.0,705.0,1817.0,1898.0,1214.0,644.0,360.0,303.0,315.0,292.0,286.0,279.0,272.0,267.0,271.0,239.0,250.0,251.0,262.0,251.0,193.0,206.0,220.0,210.0,202.0,183.0,171.0,170.0,177.0,164.0,159.0,155.0,139.0,168.0,155.0,133.0,141.0,124.0,113.0,114.0,111.0,108.0,109.0,116.0,110.0,114.0,108.0,110.0,101.0,109.0,99.0,108.0,84.0,86.0,94.0,89.0,102.0,101.0,119.0,188.0,246.0,194.0,120.0,102.0,90.0,89.0,75.0,71.0,93.0,93.0,94.0,69.0,87.0,78.0,106.0,319.0,553.0,517.0,290.0,131.0,75.0,85.0,83.0,57.0,65.0,54.0,58.0,55.0,68.0,52.0,61.0,65.0,66.0,68.0,60.0,48.0,61.0,52.0,74.0,50.0,55.0,58.0,52.0,56.0,49.0,50.0,50.0,39.0,41.0,43.0,52.0,53.0,49.0,46.0,48.0,49.0,56.0,41.0,38.0,39.0,34.0,42.0,45.0,52.0,43.0,50.0,59.0,83.0,58.0,33.0,41.0,48.0,33.0,34.0,25.0,28.0,30.0,29.0,38.0,32.0,32.0,36.0,26.0,37.0,28.0,24.0,36.0,24.0,34.0,37.0,54.0,93.0,155.0,149.0,106.0,56.0,40.0,26.0,33.0,23.0,28.0,26.0,26.0,25.0,13.0,28.0,23.0,22.0,26.0,25.0,18.0,18.0,27.0,20.0,24.0,13.0,22.0,14.0,10.0,21.0,12.0,13.0,20.0,14.0,13.0,15.0,17.0,24.0,17.0,20.0,19.0,22.0,25.0,16.0,14.0,20.0,26.0,18.0,16.0,16.0,24.0,12.0,20.0,22.0,17.0,18.0,20.0,10.0,22.0,18.0,10.0,15.0,16.0,13.0,24.0,13.0,14.0,14.0,15.0,16.0,10.0,11.0,17.0,6.0,16.0,16.0,14.0,18.0,20.0,19.0,19.0,25.0],\"type\":\"scatter\"},{\"mode\":\"lines\",\"name\":\"Count 3\",\"x\":[2.5,2.6,2.7,2.8,2.9,3.0,3.1,3.2,3.3,3.4,3.5,3.6,3.7,3.8,3.9,4.0,4.1,4.2,4.3,4.4,4.5,4.6,4.7,4.8,4.9,5.0,5.1,5.2,5.3,5.4,5.5,5.6,5.7,5.8,5.9,6.0,6.1,6.2,6.3,6.4,6.5,6.6,6.7,6.8,6.9,7.0,7.1,7.2,7.3,7.4,7.5,7.6,7.7,7.8,7.9,8.0,8.1,8.2,8.3,8.4,8.5,8.6,8.7,8.8,8.9,9.0,9.1,9.2,9.3,9.4,9.5,9.6,9.7,9.8,9.9,10.0,10.1,10.2,10.3,10.4,10.5,10.6,10.7,10.8,10.9,11.0,11.1,11.2,11.3,11.4,11.5,11.6,11.7,11.8,11.9,12.0,12.1,12.2,12.3,12.4,12.5,12.6,12.7,12.8,12.9,13.0,13.1,13.2,13.3,13.4,13.5,13.6,13.7,13.8,13.9,14.0,14.1,14.2,14.3,14.4,14.5,14.6,14.7,14.8,14.9,15.0,15.1,15.2,15.3,15.4,15.5,15.6,15.7,15.8,15.9,16.0,16.1,16.2,16.3,16.4,16.5,16.6,16.7,16.8,16.9,17.0,17.1,17.2,17.3,17.4,17.5,17.6,17.7,17.8,17.9,18.0,18.1,18.2,18.3,18.4,18.5,18.6,18.7,18.8,18.9,19.0,19.1,19.2,19.3,19.4,19.5,19.6,19.7,19.8,19.9,20.0,20.1,20.2,20.3,20.4,20.5,20.6,20.7,20.8,20.9,21.0,21.1,21.2,21.3,21.4,21.5,21.6,21.7,21.8,21.9,22.0,22.1,22.2,22.3,22.4,22.5,22.6,22.7,22.8,22.9,23.0,23.1,23.2,23.3,23.4,23.5,23.6,23.7,23.8,23.9,24.0,24.1,24.2,24.3,24.4,24.5,24.6,24.7,24.8,24.9,25.0,25.1,25.2,25.3,25.4,25.5,25.6,25.7,25.8,25.9,26.0,26.1,26.2,26.3,26.4,26.5,26.6,26.7,26.8,26.9,27.0,27.1,27.2,27.3,27.4,27.5,27.6,27.7,27.8,27.9,28.0,28.1,28.2,28.3,28.4,28.5,28.6,28.7,28.8,28.9,29.0,29.1,29.2,29.3,29.4,29.5,29.6,29.7,29.8,29.9,30.0],\"y\":[13.0,7.0,17.0,5.0,7.0,8.0,11.0,12.0,11.0,14.0,33.0,149.0,253.0,353.0,442.0,473.0,537.0,543.0,556.0,605.0,643.0,599.0,608.0,575.0,544.0,556.0,598.0,501.0,546.0,515.0,494.0,448.0,421.0,450.0,393.0,419.0,417.0,559.0,878.0,846.0,588.0,386.0,389.0,366.0,339.0,571.0,1745.0,1851.0,1306.0,700.0,360.0,342.0,333.0,273.0,292.0,254.0,275.0,270.0,288.0,279.0,257.0,219.0,232.0,210.0,246.0,224.0,219.0,206.0,197.0,195.0,176.0,182.0,171.0,156.0,179.0,150.0,155.0,131.0,136.0,133.0,137.0,125.0,134.0,139.0,130.0,103.0,89.0,114.0,99.0,123.0,108.0,78.0,104.0,103.0,83.0,102.0,97.0,95.0,95.0,97.0,100.0,114.0,131.0,167.0,246.0,196.0,140.0,90.0,84.0,84.0,98.0,78.0,84.0,79.0,92.0,88.0,84.0,77.0,89.0,266.0,562.0,545.0,280.0,144.0,90.0,95.0,65.0,66.0,62.0,62.0,60.0,66.0,62.0,75.0,54.0,58.0,67.0,70.0,69.0,48.0,62.0,39.0,46.0,62.0,51.0,52.0,50.0,55.0,50.0,63.0,42.0,47.0,57.0,48.0,60.0,39.0,49.0,36.0,46.0,25.0,48.0,47.0,43.0,32.0,32.0,43.0,50.0,60.0,46.0,50.0,56.0,73.0,71.0,42.0,41.0,30.0,39.0,39.0,34.0,33.0,31.0,25.0,33.0,27.0,36.0,32.0,32.0,31.0,27.0,31.0,30.0,31.0,27.0,26.0,39.0,77.0,164.0,163.0,111.0,65.0,33.0,33.0,34.0,21.0,43.0,27.0,31.0,18.0,30.0,21.0,26.0,25.0,17.0,20.0,26.0,19.0,26.0,24.0,18.0,15.0,23.0,25.0,26.0,14.0,28.0,20.0,20.0,23.0,17.0,25.0,17.0,18.0,15.0,19.0,11.0,22.0,17.0,23.0,20.0,27.0,21.0,28.0,22.0,21.0,15.0,20.0,13.0,14.0,13.0,17.0,18.0,17.0,20.0,20.0,16.0,13.0,20.0,15.0,9.0,16.0,19.0,19.0,17.0,13.0,14.0,19.0,15.0,20.0,12.0,21.0,12.0,15.0,12.0,16.0,16.0,24.0],\"type\":\"scatter\"}],                        {\"title\":{\"text\":\"X-Ray detection - Dataset 1\"},\"template\":{\"data\":{\"bar\":[{\"error_x\":{\"color\":\"#2a3f5f\"},\"error_y\":{\"color\":\"#2a3f5f\"},\"marker\":{\"line\":{\"color\":\"#E5ECF6\",\"width\":0.5},\"pattern\":{\"fillmode\":\"overlay\",\"size\":10,\"solidity\":0.2}},\"type\":\"bar\"}],\"barpolar\":[{\"marker\":{\"line\":{\"color\":\"#E5ECF6\",\"width\":0.5},\"pattern\":{\"fillmode\":\"overlay\",\"size\":10,\"solidity\":0.2}},\"type\":\"barpolar\"}],\"carpet\":[{\"aaxis\":{\"endlinecolor\":\"#2a3f5f\",\"gridcolor\":\"white\",\"linecolor\":\"white\",\"minorgridcolor\":\"white\",\"startlinecolor\":\"#2a3f5f\"},\"baxis\":{\"endlinecolor\":\"#2a3f5f\",\"gridcolor\":\"white\",\"linecolor\":\"white\",\"minorgridcolor\":\"white\",\"startlinecolor\":\"#2a3f5f\"},\"type\":\"carpet\"}],\"choropleth\":[{\"colorbar\":{\"outlinewidth\":0,\"ticks\":\"\"},\"type\":\"choropleth\"}],\"contour\":[{\"colorbar\":{\"outlinewidth\":0,\"ticks\":\"\"},\"colorscale\":[[0.0,\"#0d0887\"],[0.1111111111111111,\"#46039f\"],[0.2222222222222222,\"#7201a8\"],[0.3333333333333333,\"#9c179e\"],[0.4444444444444444,\"#bd3786\"],[0.5555555555555556,\"#d8576b\"],[0.6666666666666666,\"#ed7953\"],[0.7777777777777778,\"#fb9f3a\"],[0.8888888888888888,\"#fdca26\"],[1.0,\"#f0f921\"]],\"type\":\"contour\"}],\"contourcarpet\":[{\"colorbar\":{\"outlinewidth\":0,\"ticks\":\"\"},\"type\":\"contourcarpet\"}],\"heatmap\":[{\"colorbar\":{\"outlinewidth\":0,\"ticks\":\"\"},\"colorscale\":[[0.0,\"#0d0887\"],[0.1111111111111111,\"#46039f\"],[0.2222222222222222,\"#7201a8\"],[0.3333333333333333,\"#9c179e\"],[0.4444444444444444,\"#bd3786\"],[0.5555555555555556,\"#d8576b\"],[0.6666666666666666,\"#ed7953\"],[0.7777777777777778,\"#fb9f3a\"],[0.8888888888888888,\"#fdca26\"],[1.0,\"#f0f921\"]],\"type\":\"heatmap\"}],\"heatmapgl\":[{\"colorbar\":{\"outlinewidth\":0,\"ticks\":\"\"},\"colorscale\":[[0.0,\"#0d0887\"],[0.1111111111111111,\"#46039f\"],[0.2222222222222222,\"#7201a8\"],[0.3333333333333333,\"#9c179e\"],[0.4444444444444444,\"#bd3786\"],[0.5555555555555556,\"#d8576b\"],[0.6666666666666666,\"#ed7953\"],[0.7777777777777778,\"#fb9f3a\"],[0.8888888888888888,\"#fdca26\"],[1.0,\"#f0f921\"]],\"type\":\"heatmapgl\"}],\"histogram\":[{\"marker\":{\"pattern\":{\"fillmode\":\"overlay\",\"size\":10,\"solidity\":0.2}},\"type\":\"histogram\"}],\"histogram2d\":[{\"colorbar\":{\"outlinewidth\":0,\"ticks\":\"\"},\"colorscale\":[[0.0,\"#0d0887\"],[0.1111111111111111,\"#46039f\"],[0.2222222222222222,\"#7201a8\"],[0.3333333333333333,\"#9c179e\"],[0.4444444444444444,\"#bd3786\"],[0.5555555555555556,\"#d8576b\"],[0.6666666666666666,\"#ed7953\"],[0.7777777777777778,\"#fb9f3a\"],[0.8888888888888888,\"#fdca26\"],[1.0,\"#f0f921\"]],\"type\":\"histogram2d\"}],\"histogram2dcontour\":[{\"colorbar\":{\"outlinewidth\":0,\"ticks\":\"\"},\"colorscale\":[[0.0,\"#0d0887\"],[0.1111111111111111,\"#46039f\"],[0.2222222222222222,\"#7201a8\"],[0.3333333333333333,\"#9c179e\"],[0.4444444444444444,\"#bd3786\"],[0.5555555555555556,\"#d8576b\"],[0.6666666666666666,\"#ed7953\"],[0.7777777777777778,\"#fb9f3a\"],[0.8888888888888888,\"#fdca26\"],[1.0,\"#f0f921\"]],\"type\":\"histogram2dcontour\"}],\"mesh3d\":[{\"colorbar\":{\"outlinewidth\":0,\"ticks\":\"\"},\"type\":\"mesh3d\"}],\"parcoords\":[{\"line\":{\"colorbar\":{\"outlinewidth\":0,\"ticks\":\"\"}},\"type\":\"parcoords\"}],\"pie\":[{\"automargin\":true,\"type\":\"pie\"}],\"scatter\":[{\"marker\":{\"colorbar\":{\"outlinewidth\":0,\"ticks\":\"\"}},\"type\":\"scatter\"}],\"scatter3d\":[{\"line\":{\"colorbar\":{\"outlinewidth\":0,\"ticks\":\"\"}},\"marker\":{\"colorbar\":{\"outlinewidth\":0,\"ticks\":\"\"}},\"type\":\"scatter3d\"}],\"scattercarpet\":[{\"marker\":{\"colorbar\":{\"outlinewidth\":0,\"ticks\":\"\"}},\"type\":\"scattercarpet\"}],\"scattergeo\":[{\"marker\":{\"colorbar\":{\"outlinewidth\":0,\"ticks\":\"\"}},\"type\":\"scattergeo\"}],\"scattergl\":[{\"marker\":{\"colorbar\":{\"outlinewidth\":0,\"ticks\":\"\"}},\"type\":\"scattergl\"}],\"scattermapbox\":[{\"marker\":{\"colorbar\":{\"outlinewidth\":0,\"ticks\":\"\"}},\"type\":\"scattermapbox\"}],\"scatterpolar\":[{\"marker\":{\"colorbar\":{\"outlinewidth\":0,\"ticks\":\"\"}},\"type\":\"scatterpolar\"}],\"scatterpolargl\":[{\"marker\":{\"colorbar\":{\"outlinewidth\":0,\"ticks\":\"\"}},\"type\":\"scatterpolargl\"}],\"scatterternary\":[{\"marker\":{\"colorbar\":{\"outlinewidth\":0,\"ticks\":\"\"}},\"type\":\"scatterternary\"}],\"surface\":[{\"colorbar\":{\"outlinewidth\":0,\"ticks\":\"\"},\"colorscale\":[[0.0,\"#0d0887\"],[0.1111111111111111,\"#46039f\"],[0.2222222222222222,\"#7201a8\"],[0.3333333333333333,\"#9c179e\"],[0.4444444444444444,\"#bd3786\"],[0.5555555555555556,\"#d8576b\"],[0.6666666666666666,\"#ed7953\"],[0.7777777777777778,\"#fb9f3a\"],[0.8888888888888888,\"#fdca26\"],[1.0,\"#f0f921\"]],\"type\":\"surface\"}],\"table\":[{\"cells\":{\"fill\":{\"color\":\"#EBF0F8\"},\"line\":{\"color\":\"white\"}},\"header\":{\"fill\":{\"color\":\"#C8D4E3\"},\"line\":{\"color\":\"white\"}},\"type\":\"table\"}]},\"layout\":{\"annotationdefaults\":{\"arrowcolor\":\"#2a3f5f\",\"arrowhead\":0,\"arrowwidth\":1},\"autotypenumbers\":\"strict\",\"coloraxis\":{\"colorbar\":{\"outlinewidth\":0,\"ticks\":\"\"}},\"colorscale\":{\"diverging\":[[0,\"#8e0152\"],[0.1,\"#c51b7d\"],[0.2,\"#de77ae\"],[0.3,\"#f1b6da\"],[0.4,\"#fde0ef\"],[0.5,\"#f7f7f7\"],[0.6,\"#e6f5d0\"],[0.7,\"#b8e186\"],[0.8,\"#7fbc41\"],[0.9,\"#4d9221\"],[1,\"#276419\"]],\"sequential\":[[0.0,\"#0d0887\"],[0.1111111111111111,\"#46039f\"],[0.2222222222222222,\"#7201a8\"],[0.3333333333333333,\"#9c179e\"],[0.4444444444444444,\"#bd3786\"],[0.5555555555555556,\"#d8576b\"],[0.6666666666666666,\"#ed7953\"],[0.7777777777777778,\"#fb9f3a\"],[0.8888888888888888,\"#fdca26\"],[1.0,\"#f0f921\"]],\"sequentialminus\":[[0.0,\"#0d0887\"],[0.1111111111111111,\"#46039f\"],[0.2222222222222222,\"#7201a8\"],[0.3333333333333333,\"#9c179e\"],[0.4444444444444444,\"#bd3786\"],[0.5555555555555556,\"#d8576b\"],[0.6666666666666666,\"#ed7953\"],[0.7777777777777778,\"#fb9f3a\"],[0.8888888888888888,\"#fdca26\"],[1.0,\"#f0f921\"]]},\"colorway\":[\"#636efa\",\"#EF553B\",\"#00cc96\",\"#ab63fa\",\"#FFA15A\",\"#19d3f3\",\"#FF6692\",\"#B6E880\",\"#FF97FF\",\"#FECB52\"],\"font\":{\"color\":\"#2a3f5f\"},\"geo\":{\"bgcolor\":\"white\",\"lakecolor\":\"white\",\"landcolor\":\"#E5ECF6\",\"showlakes\":true,\"showland\":true,\"subunitcolor\":\"white\"},\"hoverlabel\":{\"align\":\"left\"},\"hovermode\":\"closest\",\"mapbox\":{\"style\":\"light\"},\"paper_bgcolor\":\"white\",\"plot_bgcolor\":\"#E5ECF6\",\"polar\":{\"angularaxis\":{\"gridcolor\":\"white\",\"linecolor\":\"white\",\"ticks\":\"\"},\"bgcolor\":\"#E5ECF6\",\"radialaxis\":{\"gridcolor\":\"white\",\"linecolor\":\"white\",\"ticks\":\"\"}},\"scene\":{\"xaxis\":{\"backgroundcolor\":\"#E5ECF6\",\"gridcolor\":\"white\",\"gridwidth\":2,\"linecolor\":\"white\",\"showbackground\":true,\"ticks\":\"\",\"zerolinecolor\":\"white\"},\"yaxis\":{\"backgroundcolor\":\"#E5ECF6\",\"gridcolor\":\"white\",\"gridwidth\":2,\"linecolor\":\"white\",\"showbackground\":true,\"ticks\":\"\",\"zerolinecolor\":\"white\"},\"zaxis\":{\"backgroundcolor\":\"#E5ECF6\",\"gridcolor\":\"white\",\"gridwidth\":2,\"linecolor\":\"white\",\"showbackground\":true,\"ticks\":\"\",\"zerolinecolor\":\"white\"}},\"shapedefaults\":{\"line\":{\"color\":\"#2a3f5f\"}},\"ternary\":{\"aaxis\":{\"gridcolor\":\"white\",\"linecolor\":\"white\",\"ticks\":\"\"},\"baxis\":{\"gridcolor\":\"white\",\"linecolor\":\"white\",\"ticks\":\"\"},\"bgcolor\":\"#E5ECF6\",\"caxis\":{\"gridcolor\":\"white\",\"linecolor\":\"white\",\"ticks\":\"\"}},\"title\":{\"x\":0.05},\"xaxis\":{\"automargin\":true,\"gridcolor\":\"white\",\"linecolor\":\"white\",\"ticks\":\"\",\"title\":{\"standoff\":15},\"zerolinecolor\":\"white\",\"zerolinewidth\":2},\"yaxis\":{\"automargin\":true,\"gridcolor\":\"white\",\"linecolor\":\"white\",\"ticks\":\"\",\"title\":{\"standoff\":15},\"zerolinecolor\":\"white\",\"zerolinewidth\":2}}}},                        {\"responsive\": true}                    ).then(function(){\n",
              "                            \n",
              "var gd = document.getElementById('c23565a5-7ecd-4080-ba1a-7d50d2f5600d');\n",
              "var x = new MutationObserver(function (mutations, observer) {{\n",
              "        var display = window.getComputedStyle(gd).display;\n",
              "        if (!display || display === 'none') {{\n",
              "            console.log([gd, 'removed!']);\n",
              "            Plotly.purge(gd);\n",
              "            observer.disconnect();\n",
              "        }}\n",
              "}});\n",
              "\n",
              "// Listen for the removal of the full notebook cells\n",
              "var notebookContainer = gd.closest('#notebook-container');\n",
              "if (notebookContainer) {{\n",
              "    x.observe(notebookContainer, {childList: true});\n",
              "}}\n",
              "\n",
              "// Listen for the clearing of the current output cell\n",
              "var outputEl = gd.closest('.output');\n",
              "if (outputEl) {{\n",
              "    x.observe(outputEl, {childList: true});\n",
              "}}\n",
              "\n",
              "                        })                };                            </script>        </div>\n",
              "</body>\n",
              "</html>"
            ]
          },
          "metadata": {}
        }
      ]
    },
    {
      "cell_type": "markdown",
      "source": [
        "**Plotting the total count:**\n",
        "\n",
        "This is done to improve statistics."
      ],
      "metadata": {
        "id": "rKeQ5lMQXIlE"
      }
    },
    {
      "cell_type": "code",
      "source": [
        "figure2 = px.line(c1, x='\\u03B8 (°)', y='Count Total', title = 'X-Ray Detection - Total Count', error_y=c1['σ'])\n",
        "figure2"
      ],
      "metadata": {
        "id": "wmXJTXdpXYdC",
        "colab": {
          "base_uri": "https://localhost:8080/",
          "height": 542
        },
        "outputId": "e1b6bddc-84c7-4f0f-f476-04920159b836"
      },
      "execution_count": 135,
      "outputs": [
        {
          "output_type": "display_data",
          "data": {
            "text/html": [
              "<html>\n",
              "<head><meta charset=\"utf-8\" /></head>\n",
              "<body>\n",
              "    <div>            <script src=\"https://cdnjs.cloudflare.com/ajax/libs/mathjax/2.7.5/MathJax.js?config=TeX-AMS-MML_SVG\"></script><script type=\"text/javascript\">if (window.MathJax) {MathJax.Hub.Config({SVG: {font: \"STIX-Web\"}});}</script>                <script type=\"text/javascript\">window.PlotlyConfig = {MathJaxConfig: 'local'};</script>\n",
              "        <script src=\"https://cdn.plot.ly/plotly-2.8.3.min.js\"></script>                <div id=\"1c0e62b4-4273-4ab2-93f3-aef982dec79b\" class=\"plotly-graph-div\" style=\"height:525px; width:100%;\"></div>            <script type=\"text/javascript\">                                    window.PLOTLYENV=window.PLOTLYENV || {};                                    if (document.getElementById(\"1c0e62b4-4273-4ab2-93f3-aef982dec79b\")) {                    Plotly.newPlot(                        \"1c0e62b4-4273-4ab2-93f3-aef982dec79b\",                        [{\"error_y\":{\"array\":[4.795831523312719,4.69041575982343,5.477225575051661,5.291502622129181,5.477225575051661,4.47213595499958,5.0990195135927845,5.5677643628300215,5.830951894845301,7.0710678118654755,11.045361017187261,20.566963801203133,28.24889378365107,32.43454948045371,37.5099986670221,38.84584919911006,41.012193308819754,41.6293165929973,41.677331968349414,43.08131845707603,43.53159771935783,43.266615305567875,43.382023926967726,42.68489194082609,41.12177038990418,41.7612260356422,41.677331968349414,39.44616584663204,40.55859958134649,39.8622628559895,38.34057902536163,36.98648401781386,37.282703764614496,37.49666651850535,35.91656999213594,35.0,36.15245496505044,41.49698784249286,53.38539126015655,51.35172830587107,43.0,36.207733980463345,34.92849839314596,33.166247903554,32.48076353782343,43.497126341863094,73.29392880723478,76.08547824650904,62.75348595894893,45.13313638558703,33.331666624997915,30.854497241083024,31.480152477394387,30.01666203960727,29.68164415931166,28.77498913987632,29.189039038652847,28.583211855912904,29.171904291629644,27.982137159266443,27.820855486487112,27.386127875258307,27.440845468024488,26.645825188948457,25.69046515733026,26.419689627245813,25.45584412271571,25.099800796022265,24.55605831561735,23.83275057562597,22.759613353482084,23.194827009486403,22.80350850198276,21.88606862823929,22.338307903688676,21.587033144922902,20.445048300260872,21.071307505705477,20.493901531919196,20.37154878746336,20.518284528683193,19.44222209522358,18.947295321496416,19.261360284258224,19.339079605813716,17.74823934929885,17.804493814764857,18.384776310850235,17.944358444926362,18.2208671582886,17.291616465790582,17.11724276862369,17.88854381999832,17.52141546793523,16.431676725154983,17.291616465790582,16.792855623746664,17.291616465790582,16.55294535724685,16.73320053068151,17.146428199482248,18.2208671582886,19.467922333931785,23.853720883753127,26.90724809414742,24.331050121192877,20.273134932713294,17.378147196982766,16.64331697709324,15.84297951775486,16.09347693943108,15.132745950421556,16.46207763315433,16.1245154965971,16.24807680927192,15.394804318340652,15.716233645501712,15.905973720586866,17.52141546793523,31.0,41.31585652022719,39.92492955535426,29.30870177950569,20.29778313018444,15.556349186104045,16.278820596099706,15.066519173319364,14.142135623730951,14.106735979665885,13.228756555322953,13.45362404707371,13.711309200802088,13.92838827718412,13.674794331177344,13.038404810405298,13.601470508735444,14.142135623730951,14.106735979665885,13.30413469565007,12.288205727444508,13.711309200802088,12.288205727444508,13.341664064126334,12.84523257866513,12.767145334803704,12.884098726725126,12.409673645990857,12.84523257866513,12.529964086141668,13.30413469565007,11.74734012447073,11.661903789690601,11.704699910719626,11.445523142259598,12.288205727444508,11.532562594670797,11.704699910719626,10.816653826391969,11.61895003862225,11.135528725660043,11.74734012447073,11.224972160321824,11.180339887498949,10.816653826391969,10.04987562112089,11.357816691600547,11.61895003862225,12.609520212918492,11.532562594670797,11.916375287812984,13.564659966250536,15.198684153570664,14.422205101855956,10.862780491200215,11.40175425099138,11.0,10.0,9.9498743710662,9.327379053088816,9.643650760992955,9.899494936611665,9.055385138137417,10.246950765959598,10.04987562112089,10.0,9.9498743710662,9.327379053088816,10.535653752852738,8.94427190999916,9.327379053088816,9.746794344808963,9.055385138137417,9.486832980505138,10.099504938362077,11.445523142259598,16.61324772583615,21.400934559032695,21.494185260204677,17.804493814764857,12.806248474865697,10.04987562112089,9.16515138991168,10.04987562112089,8.94427190999916,9.797958971132712,8.94427190999916,8.54400374531753,8.54400374531753,7.681145747868608,8.774964387392123,8.831760866327848,8.246211251235321,8.06225774829855,8.0,7.937253933193772,7.416198487095663,9.0,8.12403840463596,7.615773105863909,6.48074069840786,8.12403840463596,7.54983443527075,7.14142842854285,7.483314773547883,7.745966692414834,7.280109889280518,7.681145747868608,7.681145747868608,7.0710678118654755,7.483314773547883,7.0710678118654755,7.416198487095663,6.6332495807108,7.615773105863909,6.708203932499369,8.12403840463596,7.937253933193772,7.54983443527075,7.14142842854285,8.306623862918075,8.888194417315589,8.660254037844387,7.416198487095663,7.3484692283495345,7.54983443527075,6.6332495807108,7.14142842854285,7.745966692414834,7.0710678118654755,7.211102550927978,7.874007874011811,6.48074069840786,7.54983443527075,7.280109889280518,6.557438524302,6.48074069840786,6.855654600401044,6.164414002968976,6.928203230275509,6.855654600401044,6.557438524302,6.6332495807108,6.708203932499369,6.6332495807108,6.557438524302,6.557438524302,6.855654600401044,6.164414002968976,6.244997998398398,6.855654600401044,6.082762530298219,7.615773105863909,6.708203932499369,7.211102550927978,7.810249675906654,9.1104335791443]},\"hovertemplate\":\"\\u03b8 (\\u00b0)=%{x}<br>Count Total=%{y}<extra></extra>\",\"legendgroup\":\"\",\"line\":{\"color\":\"#636efa\",\"dash\":\"solid\"},\"marker\":{\"symbol\":\"circle\"},\"mode\":\"lines\",\"name\":\"\",\"orientation\":\"v\",\"showlegend\":false,\"x\":[2.5,2.6,2.7,2.8,2.9,3.0,3.1,3.2,3.3,3.4,3.5,3.6,3.7,3.8,3.9,4.0,4.1,4.2,4.3,4.4,4.5,4.6,4.7,4.8,4.9,5.0,5.1,5.2,5.3,5.4,5.5,5.6,5.7,5.8,5.9,6.0,6.1,6.2,6.3,6.4,6.5,6.6,6.7,6.8,6.9,7.0,7.1,7.2,7.3,7.4,7.5,7.6,7.7,7.8,7.9,8.0,8.1,8.2,8.3,8.4,8.5,8.6,8.7,8.8,8.9,9.0,9.1,9.2,9.3,9.4,9.5,9.6,9.7,9.8,9.9,10.0,10.1,10.2,10.3,10.4,10.5,10.6,10.7,10.8,10.9,11.0,11.1,11.2,11.3,11.4,11.5,11.6,11.7,11.8,11.9,12.0,12.1,12.2,12.3,12.4,12.5,12.6,12.7,12.8,12.9,13.0,13.1,13.2,13.3,13.4,13.5,13.6,13.7,13.8,13.9,14.0,14.1,14.2,14.3,14.4,14.5,14.6,14.7,14.8,14.9,15.0,15.1,15.2,15.3,15.4,15.5,15.6,15.7,15.8,15.9,16.0,16.1,16.2,16.3,16.4,16.5,16.6,16.7,16.8,16.9,17.0,17.1,17.2,17.3,17.4,17.5,17.6,17.7,17.8,17.9,18.0,18.1,18.2,18.3,18.4,18.5,18.6,18.7,18.8,18.9,19.0,19.1,19.2,19.3,19.4,19.5,19.6,19.7,19.8,19.9,20.0,20.1,20.2,20.3,20.4,20.5,20.6,20.7,20.8,20.9,21.0,21.1,21.2,21.3,21.4,21.5,21.6,21.7,21.8,21.9,22.0,22.1,22.2,22.3,22.4,22.5,22.6,22.7,22.8,22.9,23.0,23.1,23.2,23.3,23.4,23.5,23.6,23.7,23.8,23.9,24.0,24.1,24.2,24.3,24.4,24.5,24.6,24.7,24.8,24.9,25.0,25.1,25.2,25.3,25.4,25.5,25.6,25.7,25.8,25.9,26.0,26.1,26.2,26.3,26.4,26.5,26.6,26.7,26.8,26.9,27.0,27.1,27.2,27.3,27.4,27.5,27.6,27.7,27.8,27.9,28.0,28.1,28.2,28.3,28.4,28.5,28.6,28.7,28.8,28.9,29.0,29.1,29.2,29.3,29.4,29.5,29.6,29.7,29.8,29.9,30.0],\"xaxis\":\"x\",\"y\":[23.0,22.0,30.0,28.0,30.0,20.0,26.0,31.0,34.0,50.0,122.0,423.0,798.0,1052.0,1407.0,1509.0,1682.0,1733.0,1737.0,1856.0,1895.0,1872.0,1882.0,1822.0,1691.0,1744.0,1737.0,1556.0,1645.0,1589.0,1470.0,1368.0,1390.0,1406.0,1290.0,1225.0,1307.0,1722.0,2850.0,2637.0,1849.0,1311.0,1220.0,1100.0,1055.0,1892.0,5372.0,5789.0,3938.0,2037.0,1111.0,952.0,991.0,901.0,881.0,828.0,852.0,817.0,851.0,783.0,774.0,750.0,753.0,710.0,660.0,698.0,648.0,630.0,603.0,568.0,518.0,538.0,520.0,479.0,499.0,466.0,418.0,444.0,420.0,415.0,421.0,378.0,359.0,371.0,374.0,315.0,317.0,338.0,322.0,332.0,299.0,293.0,320.0,307.0,270.0,299.0,282.0,299.0,274.0,280.0,294.0,332.0,379.0,569.0,724.0,592.0,411.0,302.0,277.0,251.0,259.0,229.0,271.0,260.0,264.0,237.0,247.0,253.0,307.0,961.0,1707.0,1594.0,859.0,412.0,242.0,265.0,227.0,200.0,199.0,175.0,181.0,188.0,194.0,187.0,170.0,185.0,200.0,199.0,177.0,151.0,188.0,151.0,178.0,165.0,163.0,166.0,154.0,165.0,157.0,177.0,138.0,136.0,137.0,131.0,151.0,133.0,137.0,117.0,135.0,124.0,138.0,126.0,125.0,117.0,101.0,129.0,135.0,159.0,133.0,142.0,184.0,231.0,208.0,118.0,130.0,121.0,100.0,99.0,87.0,93.0,98.0,82.0,105.0,101.0,100.0,99.0,87.0,111.0,80.0,87.0,95.0,82.0,90.0,102.0,131.0,276.0,458.0,462.0,317.0,164.0,101.0,84.0,101.0,80.0,96.0,80.0,73.0,73.0,59.0,77.0,78.0,68.0,65.0,64.0,63.0,55.0,81.0,66.0,58.0,42.0,66.0,57.0,51.0,56.0,60.0,53.0,59.0,59.0,50.0,56.0,50.0,55.0,44.0,58.0,45.0,66.0,63.0,57.0,51.0,69.0,79.0,75.0,55.0,54.0,57.0,44.0,51.0,60.0,50.0,52.0,62.0,42.0,57.0,53.0,43.0,42.0,47.0,38.0,48.0,47.0,43.0,44.0,45.0,44.0,43.0,43.0,47.0,38.0,39.0,47.0,37.0,58.0,45.0,52.0,61.0,83.0],\"yaxis\":\"y\",\"type\":\"scatter\"}],                        {\"template\":{\"data\":{\"bar\":[{\"error_x\":{\"color\":\"#2a3f5f\"},\"error_y\":{\"color\":\"#2a3f5f\"},\"marker\":{\"line\":{\"color\":\"#E5ECF6\",\"width\":0.5},\"pattern\":{\"fillmode\":\"overlay\",\"size\":10,\"solidity\":0.2}},\"type\":\"bar\"}],\"barpolar\":[{\"marker\":{\"line\":{\"color\":\"#E5ECF6\",\"width\":0.5},\"pattern\":{\"fillmode\":\"overlay\",\"size\":10,\"solidity\":0.2}},\"type\":\"barpolar\"}],\"carpet\":[{\"aaxis\":{\"endlinecolor\":\"#2a3f5f\",\"gridcolor\":\"white\",\"linecolor\":\"white\",\"minorgridcolor\":\"white\",\"startlinecolor\":\"#2a3f5f\"},\"baxis\":{\"endlinecolor\":\"#2a3f5f\",\"gridcolor\":\"white\",\"linecolor\":\"white\",\"minorgridcolor\":\"white\",\"startlinecolor\":\"#2a3f5f\"},\"type\":\"carpet\"}],\"choropleth\":[{\"colorbar\":{\"outlinewidth\":0,\"ticks\":\"\"},\"type\":\"choropleth\"}],\"contour\":[{\"colorbar\":{\"outlinewidth\":0,\"ticks\":\"\"},\"colorscale\":[[0.0,\"#0d0887\"],[0.1111111111111111,\"#46039f\"],[0.2222222222222222,\"#7201a8\"],[0.3333333333333333,\"#9c179e\"],[0.4444444444444444,\"#bd3786\"],[0.5555555555555556,\"#d8576b\"],[0.6666666666666666,\"#ed7953\"],[0.7777777777777778,\"#fb9f3a\"],[0.8888888888888888,\"#fdca26\"],[1.0,\"#f0f921\"]],\"type\":\"contour\"}],\"contourcarpet\":[{\"colorbar\":{\"outlinewidth\":0,\"ticks\":\"\"},\"type\":\"contourcarpet\"}],\"heatmap\":[{\"colorbar\":{\"outlinewidth\":0,\"ticks\":\"\"},\"colorscale\":[[0.0,\"#0d0887\"],[0.1111111111111111,\"#46039f\"],[0.2222222222222222,\"#7201a8\"],[0.3333333333333333,\"#9c179e\"],[0.4444444444444444,\"#bd3786\"],[0.5555555555555556,\"#d8576b\"],[0.6666666666666666,\"#ed7953\"],[0.7777777777777778,\"#fb9f3a\"],[0.8888888888888888,\"#fdca26\"],[1.0,\"#f0f921\"]],\"type\":\"heatmap\"}],\"heatmapgl\":[{\"colorbar\":{\"outlinewidth\":0,\"ticks\":\"\"},\"colorscale\":[[0.0,\"#0d0887\"],[0.1111111111111111,\"#46039f\"],[0.2222222222222222,\"#7201a8\"],[0.3333333333333333,\"#9c179e\"],[0.4444444444444444,\"#bd3786\"],[0.5555555555555556,\"#d8576b\"],[0.6666666666666666,\"#ed7953\"],[0.7777777777777778,\"#fb9f3a\"],[0.8888888888888888,\"#fdca26\"],[1.0,\"#f0f921\"]],\"type\":\"heatmapgl\"}],\"histogram\":[{\"marker\":{\"pattern\":{\"fillmode\":\"overlay\",\"size\":10,\"solidity\":0.2}},\"type\":\"histogram\"}],\"histogram2d\":[{\"colorbar\":{\"outlinewidth\":0,\"ticks\":\"\"},\"colorscale\":[[0.0,\"#0d0887\"],[0.1111111111111111,\"#46039f\"],[0.2222222222222222,\"#7201a8\"],[0.3333333333333333,\"#9c179e\"],[0.4444444444444444,\"#bd3786\"],[0.5555555555555556,\"#d8576b\"],[0.6666666666666666,\"#ed7953\"],[0.7777777777777778,\"#fb9f3a\"],[0.8888888888888888,\"#fdca26\"],[1.0,\"#f0f921\"]],\"type\":\"histogram2d\"}],\"histogram2dcontour\":[{\"colorbar\":{\"outlinewidth\":0,\"ticks\":\"\"},\"colorscale\":[[0.0,\"#0d0887\"],[0.1111111111111111,\"#46039f\"],[0.2222222222222222,\"#7201a8\"],[0.3333333333333333,\"#9c179e\"],[0.4444444444444444,\"#bd3786\"],[0.5555555555555556,\"#d8576b\"],[0.6666666666666666,\"#ed7953\"],[0.7777777777777778,\"#fb9f3a\"],[0.8888888888888888,\"#fdca26\"],[1.0,\"#f0f921\"]],\"type\":\"histogram2dcontour\"}],\"mesh3d\":[{\"colorbar\":{\"outlinewidth\":0,\"ticks\":\"\"},\"type\":\"mesh3d\"}],\"parcoords\":[{\"line\":{\"colorbar\":{\"outlinewidth\":0,\"ticks\":\"\"}},\"type\":\"parcoords\"}],\"pie\":[{\"automargin\":true,\"type\":\"pie\"}],\"scatter\":[{\"marker\":{\"colorbar\":{\"outlinewidth\":0,\"ticks\":\"\"}},\"type\":\"scatter\"}],\"scatter3d\":[{\"line\":{\"colorbar\":{\"outlinewidth\":0,\"ticks\":\"\"}},\"marker\":{\"colorbar\":{\"outlinewidth\":0,\"ticks\":\"\"}},\"type\":\"scatter3d\"}],\"scattercarpet\":[{\"marker\":{\"colorbar\":{\"outlinewidth\":0,\"ticks\":\"\"}},\"type\":\"scattercarpet\"}],\"scattergeo\":[{\"marker\":{\"colorbar\":{\"outlinewidth\":0,\"ticks\":\"\"}},\"type\":\"scattergeo\"}],\"scattergl\":[{\"marker\":{\"colorbar\":{\"outlinewidth\":0,\"ticks\":\"\"}},\"type\":\"scattergl\"}],\"scattermapbox\":[{\"marker\":{\"colorbar\":{\"outlinewidth\":0,\"ticks\":\"\"}},\"type\":\"scattermapbox\"}],\"scatterpolar\":[{\"marker\":{\"colorbar\":{\"outlinewidth\":0,\"ticks\":\"\"}},\"type\":\"scatterpolar\"}],\"scatterpolargl\":[{\"marker\":{\"colorbar\":{\"outlinewidth\":0,\"ticks\":\"\"}},\"type\":\"scatterpolargl\"}],\"scatterternary\":[{\"marker\":{\"colorbar\":{\"outlinewidth\":0,\"ticks\":\"\"}},\"type\":\"scatterternary\"}],\"surface\":[{\"colorbar\":{\"outlinewidth\":0,\"ticks\":\"\"},\"colorscale\":[[0.0,\"#0d0887\"],[0.1111111111111111,\"#46039f\"],[0.2222222222222222,\"#7201a8\"],[0.3333333333333333,\"#9c179e\"],[0.4444444444444444,\"#bd3786\"],[0.5555555555555556,\"#d8576b\"],[0.6666666666666666,\"#ed7953\"],[0.7777777777777778,\"#fb9f3a\"],[0.8888888888888888,\"#fdca26\"],[1.0,\"#f0f921\"]],\"type\":\"surface\"}],\"table\":[{\"cells\":{\"fill\":{\"color\":\"#EBF0F8\"},\"line\":{\"color\":\"white\"}},\"header\":{\"fill\":{\"color\":\"#C8D4E3\"},\"line\":{\"color\":\"white\"}},\"type\":\"table\"}]},\"layout\":{\"annotationdefaults\":{\"arrowcolor\":\"#2a3f5f\",\"arrowhead\":0,\"arrowwidth\":1},\"autotypenumbers\":\"strict\",\"coloraxis\":{\"colorbar\":{\"outlinewidth\":0,\"ticks\":\"\"}},\"colorscale\":{\"diverging\":[[0,\"#8e0152\"],[0.1,\"#c51b7d\"],[0.2,\"#de77ae\"],[0.3,\"#f1b6da\"],[0.4,\"#fde0ef\"],[0.5,\"#f7f7f7\"],[0.6,\"#e6f5d0\"],[0.7,\"#b8e186\"],[0.8,\"#7fbc41\"],[0.9,\"#4d9221\"],[1,\"#276419\"]],\"sequential\":[[0.0,\"#0d0887\"],[0.1111111111111111,\"#46039f\"],[0.2222222222222222,\"#7201a8\"],[0.3333333333333333,\"#9c179e\"],[0.4444444444444444,\"#bd3786\"],[0.5555555555555556,\"#d8576b\"],[0.6666666666666666,\"#ed7953\"],[0.7777777777777778,\"#fb9f3a\"],[0.8888888888888888,\"#fdca26\"],[1.0,\"#f0f921\"]],\"sequentialminus\":[[0.0,\"#0d0887\"],[0.1111111111111111,\"#46039f\"],[0.2222222222222222,\"#7201a8\"],[0.3333333333333333,\"#9c179e\"],[0.4444444444444444,\"#bd3786\"],[0.5555555555555556,\"#d8576b\"],[0.6666666666666666,\"#ed7953\"],[0.7777777777777778,\"#fb9f3a\"],[0.8888888888888888,\"#fdca26\"],[1.0,\"#f0f921\"]]},\"colorway\":[\"#636efa\",\"#EF553B\",\"#00cc96\",\"#ab63fa\",\"#FFA15A\",\"#19d3f3\",\"#FF6692\",\"#B6E880\",\"#FF97FF\",\"#FECB52\"],\"font\":{\"color\":\"#2a3f5f\"},\"geo\":{\"bgcolor\":\"white\",\"lakecolor\":\"white\",\"landcolor\":\"#E5ECF6\",\"showlakes\":true,\"showland\":true,\"subunitcolor\":\"white\"},\"hoverlabel\":{\"align\":\"left\"},\"hovermode\":\"closest\",\"mapbox\":{\"style\":\"light\"},\"paper_bgcolor\":\"white\",\"plot_bgcolor\":\"#E5ECF6\",\"polar\":{\"angularaxis\":{\"gridcolor\":\"white\",\"linecolor\":\"white\",\"ticks\":\"\"},\"bgcolor\":\"#E5ECF6\",\"radialaxis\":{\"gridcolor\":\"white\",\"linecolor\":\"white\",\"ticks\":\"\"}},\"scene\":{\"xaxis\":{\"backgroundcolor\":\"#E5ECF6\",\"gridcolor\":\"white\",\"gridwidth\":2,\"linecolor\":\"white\",\"showbackground\":true,\"ticks\":\"\",\"zerolinecolor\":\"white\"},\"yaxis\":{\"backgroundcolor\":\"#E5ECF6\",\"gridcolor\":\"white\",\"gridwidth\":2,\"linecolor\":\"white\",\"showbackground\":true,\"ticks\":\"\",\"zerolinecolor\":\"white\"},\"zaxis\":{\"backgroundcolor\":\"#E5ECF6\",\"gridcolor\":\"white\",\"gridwidth\":2,\"linecolor\":\"white\",\"showbackground\":true,\"ticks\":\"\",\"zerolinecolor\":\"white\"}},\"shapedefaults\":{\"line\":{\"color\":\"#2a3f5f\"}},\"ternary\":{\"aaxis\":{\"gridcolor\":\"white\",\"linecolor\":\"white\",\"ticks\":\"\"},\"baxis\":{\"gridcolor\":\"white\",\"linecolor\":\"white\",\"ticks\":\"\"},\"bgcolor\":\"#E5ECF6\",\"caxis\":{\"gridcolor\":\"white\",\"linecolor\":\"white\",\"ticks\":\"\"}},\"title\":{\"x\":0.05},\"xaxis\":{\"automargin\":true,\"gridcolor\":\"white\",\"linecolor\":\"white\",\"ticks\":\"\",\"title\":{\"standoff\":15},\"zerolinecolor\":\"white\",\"zerolinewidth\":2},\"yaxis\":{\"automargin\":true,\"gridcolor\":\"white\",\"linecolor\":\"white\",\"ticks\":\"\",\"title\":{\"standoff\":15},\"zerolinecolor\":\"white\",\"zerolinewidth\":2}}},\"xaxis\":{\"anchor\":\"y\",\"domain\":[0.0,1.0],\"title\":{\"text\":\"\\u03b8 (\\u00b0)\"}},\"yaxis\":{\"anchor\":\"x\",\"domain\":[0.0,1.0],\"title\":{\"text\":\"Count Total\"}},\"legend\":{\"tracegroupgap\":0},\"title\":{\"text\":\"X-Ray Detection - Total Count\"}},                        {\"responsive\": true}                    ).then(function(){\n",
              "                            \n",
              "var gd = document.getElementById('1c0e62b4-4273-4ab2-93f3-aef982dec79b');\n",
              "var x = new MutationObserver(function (mutations, observer) {{\n",
              "        var display = window.getComputedStyle(gd).display;\n",
              "        if (!display || display === 'none') {{\n",
              "            console.log([gd, 'removed!']);\n",
              "            Plotly.purge(gd);\n",
              "            observer.disconnect();\n",
              "        }}\n",
              "}});\n",
              "\n",
              "// Listen for the removal of the full notebook cells\n",
              "var notebookContainer = gd.closest('#notebook-container');\n",
              "if (notebookContainer) {{\n",
              "    x.observe(notebookContainer, {childList: true});\n",
              "}}\n",
              "\n",
              "// Listen for the clearing of the current output cell\n",
              "var outputEl = gd.closest('.output');\n",
              "if (outputEl) {{\n",
              "    x.observe(outputEl, {childList: true});\n",
              "}}\n",
              "\n",
              "                        })                };                            </script>        </div>\n",
              "</body>\n",
              "</html>"
            ]
          },
          "metadata": {}
        }
      ]
    },
    {
      "cell_type": "markdown",
      "source": [
        "**Selecting peaks to fit gaussian for n=1:**\n",
        "\n"
      ],
      "metadata": {
        "id": "x4sD9T2OYTdE"
      }
    },
    {
      "cell_type": "code",
      "source": [
        "c1x = c1['θ (°)']\n",
        "c1y = c1['Count Total']\n",
        "c1_s = c1['σ']\n",
        "\n",
        "#kβ:\n",
        "c1x_b = c1x[(c1x >= 6.1) & (c1x <= 6.6)] # x values for kβ peak\n",
        "c1y_b = c1y[(c1x >= 6.1) & (c1x <= 6.6)] # y values for kβ peak\n",
        "c1_s_b = c1_s[(c1x >= 6.1) & (c1x <= 6.6)] # sigma count values for kβ peak\n",
        "c1_b = pd.DataFrame({'x': c1x_b,'y': c1y_b, 'sy':c1_s_b})\n",
        "\n",
        "#kα:\n",
        "c1x_a = c1x[(c1x >= 6.9) & (c1x <= 7.6)] # x values for kα peak\n",
        "c1y_a = c1y[(c1x >= 6.9) & (c1x <= 7.6)] # y values for kα peak\n",
        "c1_s_a = c1_s[(c1x >= 6.9) & (c1x <= 7.6)] # sigma count values for kα peak \n",
        "c1_a = pd.DataFrame({'x': c1x_a,'y': c1y_a, 'sy':c1_s_a})\n",
        "\n",
        "#Checking the .describe() function:\n",
        "\n",
        "c1x_a.describe()"
      ],
      "metadata": {
        "id": "cfyluNhcYhpP",
        "colab": {
          "base_uri": "https://localhost:8080/"
        },
        "outputId": "583ffa96-5709-4baa-ec94-c47c4ec561dd"
      },
      "execution_count": 136,
      "outputs": [
        {
          "output_type": "execute_result",
          "data": {
            "text/plain": [
              "count    8.000000\n",
              "mean     7.250000\n",
              "std      0.244949\n",
              "min      6.900000\n",
              "25%      7.075000\n",
              "50%      7.250000\n",
              "75%      7.425000\n",
              "max      7.600000\n",
              "Name: θ (°), dtype: float64"
            ]
          },
          "metadata": {},
          "execution_count": 136
        }
      ]
    },
    {
      "cell_type": "markdown",
      "source": [
        "**The fitting was performed in two different ways: lmfit and scipy curve_fit**"
      ],
      "metadata": {
        "id": "DjPXc9_-aMM_"
      }
    },
    {
      "cell_type": "markdown",
      "source": [
        "#**Fitting with lmfit**\n",
        "\n",
        "*  It is not included here the count uncertainties."
      ],
      "metadata": {
        "id": "izWwzRuFas4l"
      }
    },
    {
      "cell_type": "code",
      "source": [
        "!pip install lmfit"
      ],
      "metadata": {
        "id": "INyiAuSraqx3"
      },
      "execution_count": null,
      "outputs": []
    },
    {
      "cell_type": "code",
      "source": [
        "from lmfit import Model\n",
        "\n",
        "def gaussian(x, amp, cen, wid):\n",
        "    return amp*np.exp(-(x-cen)**2/(2*wid**2))\n",
        "\n",
        "#Fitting kβ:\n",
        "b_gmodel = Model(gaussian)\n",
        "b_result = b_gmodel.fit(c1_b['y'], x=c1x_b, amp=2700, cen=6.3, wid=0.2)\n",
        "print(b_result.fit_report())\n",
        "\n",
        "\n",
        "plt.plot(c1x_b, c1y_b, 'o')\n",
        "plt.plot(c1x_b, b_result.init_fit, '--', label='Initial fit')\n",
        "plt.plot(c1x_b, b_result.best_fit, '-', label='Best fit')\n",
        "plt.title('Fitting kβ')\n",
        "plt.legend()\n",
        "plt.show()"
      ],
      "metadata": {
        "id": "Qfl2ZiBXbV1q",
        "colab": {
          "base_uri": "https://localhost:8080/",
          "height": 576
        },
        "outputId": "8005e164-797c-4d7c-c6a3-05cded57916d"
      },
      "execution_count": 138,
      "outputs": [
        {
          "output_type": "stream",
          "name": "stdout",
          "text": [
            "[[Model]]\n",
            "    Model(gaussian)\n",
            "[[Fit Statistics]]\n",
            "    # fitting method   = leastsq\n",
            "    # function evals   = 21\n",
            "    # data points      = 6\n",
            "    # variables        = 3\n",
            "    chi-square         = 193332.123\n",
            "    reduced chi-square = 64444.0410\n",
            "    Akaike info crit   = 68.2824322\n",
            "    Bayesian info crit = 67.6577106\n",
            "[[Variables]]\n",
            "    amp:  2716.82021 +/- 180.774086 (6.65%) (init = 2700)\n",
            "    cen:  6.35110561 +/- 0.01521899 (0.24%) (init = 6.3)\n",
            "    wid:  0.19359392 +/- 0.01954517 (10.10%) (init = 0.2)\n",
            "[[Correlations]] (unreported correlations are < 0.100)\n",
            "    C(amp, wid) = -0.641\n"
          ]
        },
        {
          "output_type": "display_data",
          "data": {
            "text/plain": [
              "<Figure size 432x288 with 1 Axes>"
            ],
            "image/png": "[encoded data removed]"
          },
          "metadata": {
            "needs_background": "light"
          }
        }
      ]
    },
    {
      "cell_type": "code",
      "source": [
        "#Fitting kα:\n",
        "a_gmodel = Model(gaussian)\n",
        "a_result = a_gmodel.fit(c1y_a, x=c1x_a, amp=5700, cen=7.2, wid=0.1)\n",
        "\n",
        "print(a_result.fit_report())\n",
        "\n",
        "plt.plot(c1x_a, c1y_a, 'o')\n",
        "plt.plot(c1x_a, a_result.init_fit, '--', label='initial fit')\n",
        "plt.plot(c1x_a, a_result.best_fit, '-', label='best fit')\n",
        "plt.title('Fitting kα')\n",
        "plt.legend()\n",
        "plt.show()"
      ],
      "metadata": {
        "id": "HJMg4X3qb3Ye",
        "colab": {
          "base_uri": "https://localhost:8080/",
          "height": 576
        },
        "outputId": "f334b5dc-ed3a-437b-aef8-9e04d7f79953"
      },
      "execution_count": 139,
      "outputs": [
        {
          "output_type": "stream",
          "name": "stdout",
          "text": [
            "[[Model]]\n",
            "    Model(gaussian)\n",
            "[[Fit Statistics]]\n",
            "    # fitting method   = leastsq\n",
            "    # function evals   = 33\n",
            "    # data points      = 8\n",
            "    # variables        = 3\n",
            "    chi-square         = 1874539.97\n",
            "    reduced chi-square = 374907.993\n",
            "    Akaike info crit   = 104.915458\n",
            "    Bayesian info crit = 105.153783\n",
            "[[Variables]]\n",
            "    amp:  5780.65505 +/- 466.586654 (8.07%) (init = 5700)\n",
            "    cen:  7.18760044 +/- 0.01367501 (0.19%) (init = 7.2)\n",
            "    wid:  0.14692197 +/- 0.01386542 (9.44%) (init = 0.1)\n",
            "[[Correlations]] (unreported correlations are < 0.100)\n",
            "    C(amp, wid) = -0.582\n"
          ]
        },
        {
          "output_type": "display_data",
          "data": {
            "text/plain": [
              "<Figure size 432x288 with 1 Axes>"
            ],
            "image/png": "[encoded data removed]"
          },
          "metadata": {
            "needs_background": "light"
          }
        }
      ]
    },
    {
      "cell_type": "markdown",
      "source": [
        "**Residuals:**"
      ],
      "metadata": {
        "id": "98-rwTCMdNiv"
      }
    },
    {
      "cell_type": "code",
      "source": [
        "# Residuals for kβ:\n",
        "residuals_b1 = c1y_b - b_result.best_fit\n",
        "plt.scatter(c1y_b, residuals_b1)\n",
        "plt.axhline(y=0, c='red', ls='--')\n",
        "plt.title('Residuals kβ, n=1')"
      ],
      "metadata": {
        "id": "echZiqtpc24d",
        "colab": {
          "base_uri": "https://localhost:8080/",
          "height": 298
        },
        "outputId": "2fbe4d58-92c1-41e9-85e2-1e8f208c5133"
      },
      "execution_count": 140,
      "outputs": [
        {
          "output_type": "execute_result",
          "data": {
            "text/plain": [
              "Text(0.5, 1.0, 'Residuals kβ, n=1')"
            ]
          },
          "metadata": {},
          "execution_count": 140
        },
        {
          "output_type": "display_data",
          "data": {
            "text/plain": [
              "<Figure size 432x288 with 1 Axes>"
            ],
            "image/png": "[encoded data removed]"
          },
          "metadata": {
            "needs_background": "light"
          }
        }
      ]
    },
    {
      "cell_type": "code",
      "source": [
        "# Residuals for kα:\n",
        "residuals_a1 = c1y_a - a_result.best_fit\n",
        "plt.scatter(c1y_a, residuals_a1)\n",
        "plt.axhline(y=0, c='red', ls='--')\n",
        "plt.title('Residuals kα, n=1')"
      ],
      "metadata": {
        "id": "gAFsyJiKdQH4",
        "colab": {
          "base_uri": "https://localhost:8080/",
          "height": 298
        },
        "outputId": "7e456aa3-8e40-43d6-8288-ac22eea8d6ea"
      },
      "execution_count": 141,
      "outputs": [
        {
          "output_type": "execute_result",
          "data": {
            "text/plain": [
              "Text(0.5, 1.0, 'Residuals kα, n=1')"
            ]
          },
          "metadata": {},
          "execution_count": 141
        },
        {
          "output_type": "display_data",
          "data": {
            "text/plain": [
              "<Figure size 432x288 with 1 Axes>"
            ],
            "image/png": "[encoded data removed]"
          },
          "metadata": {
            "needs_background": "light"
          }
        }
      ]
    },
    {
      "cell_type": "markdown",
      "source": [
        "#**Fitting with curve_fit:**\n",
        "\n",
        "\n",
        "*   It was included the count uncertainties.\n",
        "\n"
      ],
      "metadata": {
        "id": "ORMKWhXmdhxp"
      }
    },
    {
      "cell_type": "code",
      "source": [
        "def gauss (x, amp, cen, wid):  #amp=ymax, cen=center of the curve, wid=width of the curve\n",
        "    return amp*np.exp(-(x-cen)**2/(2*wid**2))\n",
        "\n",
        "#Fitting kβ:\n",
        "popt_b, pcov_b = curve_fit(gauss, c1_b['x'], c1_b['y'], sigma=c1_b['sy'], p0=[2000,6.3,0.2])\n",
        "a = popt_b[0]\n",
        "x0 = popt_b[1]\n",
        "sigma = popt_b[2]\n",
        "plt.plot(c1_b['x'],c1_b['y'], 'bo', label='Data')\n",
        "plt.errorbar(c1_b['x'],c1_b['y'],yerr=c1_b['sy'], color='b')\n",
        "plt.plot(c1_b['x'], gauss(c1_b['x'],*popt_b), color='r', label='Fit:' + '$\\mathcal{N}$' + f'$(\\mu \\\\approx {round(x0, 1)}, \\sigma \\\\approx {round(sigma,2)})$')\n",
        "plt.legend()\n",
        "print('Params:','\\n',popt_b, '\\n','\\n','Cov matrix:','\\n', pcov_b)"
      ],
      "metadata": {
        "id": "pmeLRPALjLoH",
        "colab": {
          "base_uri": "https://localhost:8080/",
          "height": 386
        },
        "outputId": "e282b772-b903-412a-c991-533e1502a180"
      },
      "execution_count": 142,
      "outputs": [
        {
          "output_type": "stream",
          "name": "stdout",
          "text": [
            "Params: \n",
            " [2.64496241e+03 6.35245926e+00 2.01087292e-01] \n",
            " \n",
            " Cov matrix: \n",
            " [[ 4.05354324e+04 -2.91138118e-02 -2.84181570e+00]\n",
            " [-2.91138118e-02  2.13198612e-04  6.22203020e-06]\n",
            " [-2.84181570e+00  6.22203020e-06  3.95767131e-04]]\n"
          ]
        },
        {
          "output_type": "display_data",
          "data": {
            "text/plain": [
              "<Figure size 432x288 with 1 Axes>"
            ],
            "image/png": "[encoded data removed]"
          },
          "metadata": {
            "needs_background": "light"
          }
        }
      ]
    },
    {
      "cell_type": "code",
      "source": [
        "#Fitting kα:\n",
        "popt_a, pcov_a = curve_fit(gauss, c1_a['x'], c1_a['y'], sigma=c1_a['sy'], p0=[5000,7.2,0.1])\n",
        "a = popt_a[0]\n",
        "x0 = popt_a[1]\n",
        "sigma = popt_a[2]\n",
        "plt.plot(c1_a['x'],c1_a['y'], 'go', label='Data')\n",
        "plt.errorbar(c1_a['x'],c1_a['y'],yerr=c1_a['sy'], color='g')\n",
        "plt.plot(c1_a['x'], gauss(c1_a['x'],*popt_a), color='purple', label='Fit:' + '$\\mathcal{N}$' + f'$(\\mu \\\\approx {round(x0, 1)}, \\sigma \\\\approx {round(sigma,2)})$')\n",
        "plt.legend()\n",
        "print('Params:','\\n',popt_a, '\\n','\\n','Cov matrix:','\\n', pcov_a)"
      ],
      "metadata": {
        "id": "XB6UlV4njppd",
        "colab": {
          "base_uri": "https://localhost:8080/",
          "height": 386
        },
        "outputId": "bf40ca3e-0e75-4b2d-9ea4-2e7450fda613"
      },
      "execution_count": 143,
      "outputs": [
        {
          "output_type": "stream",
          "name": "stdout",
          "text": [
            "Params: \n",
            " [5.21807494e+03 7.20048891e+00 1.63850088e-01] \n",
            " \n",
            " Cov matrix: \n",
            " [[ 5.08873196e+05 -2.39205801e-01 -7.98730028e+00]\n",
            " [-2.39205801e-01  3.12934964e-04 -2.24875499e-06]\n",
            " [-7.98730028e+00 -2.24875499e-06  2.81833819e-04]]\n"
          ]
        },
        {
          "output_type": "display_data",
          "data": {
            "text/plain": [
              "<Figure size 432x288 with 1 Axes>"
            ],
            "image/png": "[encoded data removed]"
          },
          "metadata": {
            "needs_background": "light"
          }
        }
      ]
    },
    {
      "cell_type": "markdown",
      "source": [
        "#**Comparing fits:**"
      ],
      "metadata": {
        "id": "-gGPq8BrkLGt"
      }
    },
    {
      "cell_type": "code",
      "source": [
        "print('Result for kβ usando lmfit:','\\n')\n",
        "display(b_result)\n",
        "print('\\n')\n",
        "\n",
        "print('Result for kα usando lmfit:','\\n')\n",
        "display(a_result)\n",
        "print('\\n')\n",
        "\n",
        "print('Result for kβ usando curve_fit:','\\n')\n",
        "print('amp:',popt_b[0],'|','inc:', np.sqrt(pcov_b[0][0]),'|','relative error:',(np.sqrt(pcov_b[0][0])/popt_b[0])*100,'%','\\n',\n",
        "      'cen:',popt_b[1],'|','inc:', np.sqrt(pcov_b[1][1]),'|','relative error:',(np.sqrt(pcov_b[1][1])/popt_b[1])*100,'%','\\n',\n",
        "      'wid:',popt_b[2],'|','inc:', np.sqrt(pcov_b[2][2]),'|','relative error:',(np.sqrt(pcov_b[2][2])/popt_b[2])*100,'%')\n",
        "print('\\n')\n",
        "\n",
        "print('Result for kα usando curve_fit:','\\n')\n",
        "print('amp:',popt_a[0],\"|\",'inc:', np.sqrt(pcov_a[0][0]),'|','relative error:',(np.sqrt(pcov_a[0][0])/popt_a[0])*100,'%','\\n',\n",
        "      'cen:',popt_a[1],'|','inc:', np.sqrt(pcov_a[1][1]),'|','relative error:',(np.sqrt(pcov_a[1][1])/popt_a[1])*100,'%','\\n',\n",
        "      'wid:',popt_a[2],'|','inc:', np.sqrt(pcov_a[2][2]),'|','relative error:',(np.sqrt(pcov_a[2][2])/popt_a[2])*100,'%')\n",
        "print('\\n')\n"
      ],
      "metadata": {
        "id": "OhSfijHNkQPg",
        "colab": {
          "base_uri": "https://localhost:8080/",
          "height": 1000
        },
        "outputId": "d76b3e78-5acf-4290-fd66-29725e982743"
      },
      "execution_count": 144,
      "outputs": [
        {
          "output_type": "stream",
          "name": "stdout",
          "text": [
            "Result for kβ usando lmfit: \n",
            "\n"
          ]
        },
        {
          "output_type": "display_data",
          "data": {
            "text/plain": [
              "<lmfit.model.ModelResult at 0x7f5db0699210>"
            ],
            "text/html": [
              "<h2> Model</h2> Model(gaussian) <h2>Fit Statistics</h2><table><tr><td>fitting method</td><td>leastsq</td><td></td></tr><tr><td># function evals</td><td>21</td><td></td></tr><tr><td># data points</td><td>6</td><td></td></tr><tr><td># variables</td><td>3</td><td></td></tr><tr><td>chi-square</td><td> 193332.123</td><td></td></tr><tr><td>reduced chi-square</td><td> 64444.0410</td><td></td></tr><tr><td>Akaike info crit.</td><td> 68.2824322</td><td></td></tr><tr><td>Bayesian info crit.</td><td> 67.6577106</td><td></td></tr></table><h2>Variables</h2><table><tr><th> name </th><th> value </th><th> standard error </th><th> relative error </th><th> initial value </th><th> min </th><th> max </th><th> vary </th></tr><tr><td> amp </td><td>  2716.82021 </td><td>  180.774086 </td><td> (6.65%) </td><td> 2700 </td><td>        -inf </td><td>         inf </td><td> True </td></tr><tr><td> cen </td><td>  6.35110561 </td><td>  0.01521899 </td><td> (0.24%) </td><td> 6.3 </td><td>        -inf </td><td>         inf </td><td> True </td></tr><tr><td> wid </td><td>  0.19359392 </td><td>  0.01954517 </td><td> (10.10%) </td><td> 0.2 </td><td>        -inf </td><td>         inf </td><td> True </td></tr></table><h2>Correlations (unreported correlations are < 0.100)</h2><table><tr><td>amp</td><td>wid</td><td>-0.6407</td></tr></table>"
            ]
          },
          "metadata": {}
        },
        {
          "output_type": "stream",
          "name": "stdout",
          "text": [
            "\n",
            "\n",
            "Result for kα usando lmfit: \n",
            "\n"
          ]
        },
        {
          "output_type": "display_data",
          "data": {
            "text/plain": [
              "<lmfit.model.ModelResult at 0x7f5db06da650>"
            ],
            "text/html": [
              "<h2> Model</h2> Model(gaussian) <h2>Fit Statistics</h2><table><tr><td>fitting method</td><td>leastsq</td><td></td></tr><tr><td># function evals</td><td>33</td><td></td></tr><tr><td># data points</td><td>8</td><td></td></tr><tr><td># variables</td><td>3</td><td></td></tr><tr><td>chi-square</td><td> 1874539.97</td><td></td></tr><tr><td>reduced chi-square</td><td> 374907.993</td><td></td></tr><tr><td>Akaike info crit.</td><td> 104.915458</td><td></td></tr><tr><td>Bayesian info crit.</td><td> 105.153783</td><td></td></tr></table><h2>Variables</h2><table><tr><th> name </th><th> value </th><th> standard error </th><th> relative error </th><th> initial value </th><th> min </th><th> max </th><th> vary </th></tr><tr><td> amp </td><td>  5780.65505 </td><td>  466.586654 </td><td> (8.07%) </td><td> 5700 </td><td>        -inf </td><td>         inf </td><td> True </td></tr><tr><td> cen </td><td>  7.18760044 </td><td>  0.01367501 </td><td> (0.19%) </td><td> 7.2 </td><td>        -inf </td><td>         inf </td><td> True </td></tr><tr><td> wid </td><td>  0.14692197 </td><td>  0.01386542 </td><td> (9.44%) </td><td> 0.1 </td><td>        -inf </td><td>         inf </td><td> True </td></tr></table><h2>Correlations (unreported correlations are < 0.100)</h2><table><tr><td>amp</td><td>wid</td><td>-0.5818</td></tr></table>"
            ]
          },
          "metadata": {}
        },
        {
          "output_type": "stream",
          "name": "stdout",
          "text": [
            "\n",
            "\n",
            "Result for kβ usando curve_fit: \n",
            "\n",
            "amp: 2644.9624079220625 | inc: 201.33413130776225 | relative error: 7.611984605328835 % \n",
            " cen: 6.352459257113444 | inc: 0.014601322255515687 | relative error: 0.22985306421548818 % \n",
            " wid: 0.2010872916801946 | inc: 0.019893896828674144 | relative error: 9.893164636337644 %\n",
            "\n",
            "\n",
            "Result for kα usando curve_fit: \n",
            "\n",
            "amp: 5218.074942471443 | inc: 713.3534862285985 | relative error: 13.670817190117473 % \n",
            " cen: 7.20048890559297 | inc: 0.01768996790410834 | relative error: 0.2456773163051148 % \n",
            " wid: 0.16385008820897612 | inc: 0.016787906935612187 | relative error: 10.245894353258276 %\n",
            "\n",
            "\n"
          ]
        }
      ]
    },
    {
      "cell_type": "markdown",
      "source": [
        "**$R^2$:**"
      ],
      "metadata": {
        "id": "ehnXAgwakz3R"
      }
    },
    {
      "cell_type": "code",
      "source": [
        "def rsquared(y, yfit):\n",
        "    slope, intercept, r_value, p_value, std_err = lr(y, yfit)\n",
        "    return r_value**2\n",
        "\n",
        "# R2 values for lmfit:\n",
        "b_r2_lm = rsquared(c1_b['y'], b_result.best_fit)\n",
        "a_r2_lm = rsquared(c1_a['y'], a_result.best_fit)\n",
        "\n",
        "# R2 values for curve_fit():\n",
        "b_r2_cf = rsquared(c1_b['y'], gauss(c1_b['x'],*popt_b))\n",
        "a_r2_cf = rsquared(c1_a['y'], gauss(c1_a['x'],*popt_a))\n",
        "\n",
        "print(a_r2_cf, a_r2_lm, b_r2_cf,b_r2_lm)"
      ],
      "metadata": {
        "id": "m3jMsqkdk4dz",
        "colab": {
          "base_uri": "https://localhost:8080/"
        },
        "outputId": "67b6d675-635d-411f-d819-6d83190d8e25"
      },
      "execution_count": 145,
      "outputs": [
        {
          "output_type": "stream",
          "name": "stdout",
          "text": [
            "0.9114308286398127 0.9464523858672238 0.9075663912785384 0.9118822592525601\n"
          ]
        }
      ]
    },
    {
      "cell_type": "markdown",
      "source": [
        "#**Applying the parameters fitted with lmft to calculate λ:**\n",
        "\n",
        "\n",
        "*   OBS.: Comparing the fitting methods it is possible to conclude there is no big difference between parameters and its uncertainties values looking to relative errors and $R^2$.\n",
        "\n"
      ],
      "metadata": {
        "id": "GVHNE3nClObB"
      }
    },
    {
      "cell_type": "code",
      "source": [
        "#Calculating λ from fitted θ values. These values are the 'cen' parameter,\n",
        "#which is the mean of gaussian curve fitted. Let's apply Bragg equation: nλ=2dsen(θ) => λ = 2dsen(θ)\n",
        "\n",
        "d = 0.282*10**(-9) #meters\n",
        "#kβ:\n",
        "lambda_b = 2*d*np.sin(6.3511*(np.pi/180))\n",
        "\n",
        "#Para kα:\n",
        "lambda_a = 2*d*np.sin(7.18760*(np.pi/180))"
      ],
      "metadata": {
        "id": "JRfqABKJlsaL"
      },
      "execution_count": 146,
      "outputs": []
    },
    {
      "cell_type": "markdown",
      "source": [
        "**Calculating energy from λ and comparing them to the expected values:**\n",
        "\n",
        "Energy equation: E = hc/λ"
      ],
      "metadata": {
        "id": "3_azuChRnMNp"
      }
    },
    {
      "cell_type": "code",
      "source": [
        "h = 4.14*10**(-15) #eV s\n",
        "c = 3*10**8 #m/s\n",
        "\n",
        "#Expected values:\n",
        "E_ka_t = 17440 #eV  \n",
        "E_kb_t = 19600 #eV\n",
        "\n",
        "#kβ:\n",
        "E_b = (h*c)/lambda_b\n",
        "desvio_a = (abs(E_b - E_kb_t)/E_kb_t)*100 #desvio percentual de 0.92%\n",
        "\n",
        "#kα:\n",
        "E_a = (h*c)/lambda_a\n",
        "desvio_b = (abs(E_a - E_ka_t)/E_ka_t)*100 #desvio percentual de 1.57%"
      ],
      "metadata": {
        "id": "rTJvrXTFnHYG"
      },
      "execution_count": 147,
      "outputs": []
    },
    {
      "cell_type": "markdown",
      "source": [
        "**Verifying the angles for n = 2 and n = 3:**"
      ],
      "metadata": {
        "id": "f0ljQNI7oAaY"
      }
    },
    {
      "cell_type": "markdown",
      "source": [
        "n = 2:"
      ],
      "metadata": {
        "id": "YSe-Ib7yoJlH"
      }
    },
    {
      "cell_type": "code",
      "source": [
        "#kα:\n",
        "theta_a_n2 = np.arcsin(lambda_a/d)*(180/np.pi) #degrees\n",
        "\n",
        "#kβ:\n",
        "theta_b_n2 = np.arcsin(lambda_b/d)*(180/np.pi) #degrees\n",
        "\n",
        "#I did quick check using the plotted figure."
      ],
      "metadata": {
        "id": "6X5aoUs-oG6w"
      },
      "execution_count": 148,
      "outputs": []
    },
    {
      "cell_type": "markdown",
      "source": [
        "n = 3:"
      ],
      "metadata": {
        "id": "Kju0-JNxoVjY"
      }
    },
    {
      "cell_type": "code",
      "source": [
        "#kα:\n",
        "theta_a_n3 = np.arcsin((3*lambda_a)/(2*d))*(180/np.pi) #degrees\n",
        "\n",
        "#kβ:\n",
        "theta_b_n3 = np.arcsin((3*lambda_b)/(2*d))*(180/np.pi) #degrees\n",
        "\n",
        "#I did quick check using the plotted figure."
      ],
      "metadata": {
        "id": "HCBiYaW5oWie"
      },
      "execution_count": 149,
      "outputs": []
    },
    {
      "cell_type": "markdown",
      "source": [
        "#**Dataset 2:**\n",
        "\n",
        "*   Plot number of photons/second X Energy (keV).\n",
        "*   Plot uncertainties.\n",
        "*   Does the characteristic energies match to the expected ones? What are the percentage deviation? \n",
        "*   For each spectra (acceleration tension range from 18 kV to 35 kV) calculate the λmin value (through experimental values θmin or Emax).\n",
        "*   Calculate Planck constant **h** from a acceleration tension X λmin plot.\n",
        "\n",
        "**Analysis infos:**\n",
        "\n",
        "*   The data aquisition software returns photons (counts)/second. To plot count/s X Energy, first calculate λ from θ values applying Bragg equation nλ = 2dsin(θ) and considering n=1. From these λ values it is possible to calculate energy and do the plots. To calculate the count uncertainties consider the calculation explained before: multiply count values from table by Δt then apply $\\sqrt{N}$/Δt for each count data. The plot count/s X Energy must be done with the orginal values given by the software, so after calculate uncertainties divide the count values by Δt.\n",
        "*   To calculate the characteristic energy let's fit gaussian function, the same way it was done for dataset 1.\n",
        "*   The items above are going to be applied for all the 10 subsets and for each subset we obtain one λmin (which is the same for Δt = 1 s and Δt = 5 s for the same tension value). Then we plot Emax X λmin.\n",
        "*   To calculate **h** we fit the Emax X λmin plot.\n"
      ],
      "metadata": {
        "id": "Zz4Pfn_aokEz"
      }
    },
    {
      "cell_type": "markdown",
      "source": [
        "**Reading datasets:**"
      ],
      "metadata": {
        "id": "b05kW2gXCtKg"
      }
    },
    {
      "cell_type": "code",
      "source": [
        "def read_c2(tension, time):\n",
        "  tensao = str(tension)\n",
        "  tempo = str(time)\n",
        "  #Constant values:\n",
        "  h = 4.14*10**(-15) #eV s\n",
        "  c = 3*10**8 #m/s\n",
        "  d = 0.282*10**(-9) #meters\n",
        "\n",
        "  d1 = np.loadtxt(f'/content/drive/MyDrive/Raio X/Raio X/Dados/c2-{tension}-{time}.txt', skiprows=1, dtype=np.str)\n",
        "  d2 = np.char.replace(d1, ',', '.').astype(np.float64)\n",
        "  d3 = pd.DataFrame(d2, columns=['\\u03B8 (°)','Count'])\n",
        "  lambdaa = 2*d*np.sin(d3['\\u03B8 (°)']*np.pi/180)\n",
        "  d3['Energy (keV)'] = ((h*c)/lambdaa)/1000\n",
        "  d3['σx (°)'] = 0.05\n",
        "  if tempo == '5':\n",
        "    d3['Count'] = d3['Count']*5\n",
        "    d3['σy'] = np.sqrt(d3['Count'])/5\n",
        "    d3['Count'] = d3['Count']/5\n",
        "  else:\n",
        "    d3['σy'] = np.sqrt(d3['Count'])\n",
        "  return d3\n",
        "\n",
        "#Dataset 2: defining variables for quick check\n",
        "\n",
        "c2_18_1 = read_c2(18,1) #U = 18 kV and Δt = 1s\n",
        "c2_18_5 = read_c2(18,5) #U = 18 kV and Δt = 5s\n",
        "\n",
        "c2_25_1 = read_c2(25,1) #U = 25 kV and Δt = 1s\n",
        "c2_25_5 = read_c2(25,5) #U = 25 kV and Δt = 5s\n",
        "\n",
        "c2_28_1 = read_c2(28,1) #U = 28 kV and Δt = 1s\n",
        "c2_28_5 = read_c2(28,5) #U = 28 kV and Δt = 5s\n",
        "\n",
        "c2_30_1 = read_c2(30,1) #U = 30 kV and Δt = 1s\n",
        "c2_30_5 = read_c2(30,5) #U = 30 kV and Δt = 5s\n",
        "\n",
        "c2_35_1 = read_c2(35,1) #U = 35 kV and Δt = 1s\n",
        "c2_35_5 = read_c2(35,5) #U = 35 kV and Δt = 5s"
      ],
      "metadata": {
        "id": "KpcoRt-HCsBW",
        "colab": {
          "base_uri": "https://localhost:8080/"
        },
        "outputId": "7c8c1040-bfbd-4ef0-b7b4-2d0cb98a6834"
      },
      "execution_count": 150,
      "outputs": [
        {
          "output_type": "stream",
          "name": "stderr",
          "text": [
            "/usr/local/lib/python3.7/dist-packages/ipykernel_launcher.py:9: DeprecationWarning:\n",
            "\n",
            "`np.str` is a deprecated alias for the builtin `str`. To silence this warning, use `str` by itself. Doing this will not modify any behavior and is safe. If you specifically wanted the numpy scalar type, use `np.str_` here.\n",
            "Deprecated in NumPy 1.20; for more details and guidance: https://numpy.org/devdocs/release/1.20.0-notes.html#deprecations\n",
            "\n"
          ]
        }
      ]
    },
    {
      "cell_type": "markdown",
      "source": [
        "**Plotting graphs:**"
      ],
      "metadata": {
        "id": "rFW_sFZnOL_j"
      }
    },
    {
      "cell_type": "code",
      "source": [
        "def plot_energy():\n",
        "  '''This function plots the energy data'''\n",
        "  p = []\n",
        "  delta = str(input('Delta time: '))\n",
        "  while len(p) <= 4:\n",
        "    ddp = str(input('Type ddp: '))\n",
        "    time = str(input('Type time: '))\n",
        "    data = read_c2(ddp,time)\n",
        "    g = go.Scatter(x=data['Energy (keV)'], y=data['Count'], mode='lines+markers', name=f'{ddp} kV')\n",
        "    p.append(g)\n",
        "  layout = go.Layout(title=f'Count/s X Energy - Δt = {delta}s')\n",
        "  figure = go.Figure(data=p, layout=layout)\n",
        "  figure.update_xaxes(title_text='Energy (keV)')\n",
        "  figure.update_yaxes(title_text='Count')\n",
        "  return figure\n",
        "\n",
        "\n",
        "def plot_theta():\n",
        "  '''This function plots the theta data'''\n",
        "  p = []\n",
        "  delta = str(input('Delta time: '))\n",
        "  while len(p) <= 4:\n",
        "    ddp = str(input('Type ddp: '))\n",
        "    time = str(input('Type time: '))\n",
        "    data = read_c2(ddp,time)\n",
        "    g = go.Scatter(x=data['\\u03B8 (°)'], y=data['Count'], mode = 'lines+markers', name=f'{ddp} kV')\n",
        "    p.append(g)\n",
        "  layout = go.Layout(title=f'Count/s X Energy - Δt = {delta}s')\n",
        "  figure = go.Figure(data=p, layout=layout)\n",
        "  figure.update_xaxes(title_text='\\u03B8 (°)')\n",
        "  figure.update_yaxes(title_text='Count')\n",
        "  return figure\n",
        "\n",
        "def plot_one_energy():\n",
        "  '''This function plots one curve, count X energy'''\n",
        "  delta = str(input('Delta time: '))\n",
        "  ddp = str(input('Type ddp: '))\n",
        "  time = str(input('Type time: '))\n",
        "  data = read_c2(ddp,time)\n",
        "  figure = px.line(data, x='Energy (keV)', y='Count', title = f'Count/s vs Energy - Δt = {delta}s - U = {ddp} V', error_y=data['σy'])\n",
        "  return figure\n",
        "\n",
        "def plot_one_theta():\n",
        "  '''This function plots one curve, count X theta'''\n",
        "  delta = str(input('Delta time: '))\n",
        "  ddp = str(input('Type ddp: '))\n",
        "  time = str(input('Type time: '))\n",
        "  data = read_c2(ddp,time)\n",
        "  figure = px.line(data, x='\\u03B8 (°)', y='Count', title = f'Count/s vs Angle - Δt = {delta}s - U = {ddp} V', error_y=data['σy'], error_x=data['σx (°)'])\n",
        "  return figure"
      ],
      "metadata": {
        "id": "cRj8wLJadil7"
      },
      "execution_count": 151,
      "outputs": []
    },
    {
      "cell_type": "markdown",
      "source": [
        "**Selecting the x axis range to fit the curves:**\n",
        "\n",
        "*   Plot the 5 lines.\n",
        "*   Define the range for kα and kβ peaks zooming the curves.\n",
        "*   The range is going to be the same since the Δt doesn't change the energy of the peaks. "
      ],
      "metadata": {
        "id": "hbIFEwM9QtPC"
      }
    },
    {
      "cell_type": "code",
      "source": [
        "# Test cell\n",
        "plot_energy()"
      ],
      "metadata": {
        "id": "rcKWsW5yQsYL",
        "colab": {
          "base_uri": "https://localhost:8080/",
          "height": 840
        },
        "outputId": "94128d97-68a0-4607-bd99-b068918ca5b3"
      },
      "execution_count": 152,
      "outputs": [
        {
          "name": "stdout",
          "output_type": "stream",
          "text": [
            "Delta time: 5\n",
            "Type ddp: 18\n",
            "Type time: 5\n"
          ]
        },
        {
          "output_type": "stream",
          "name": "stderr",
          "text": [
            "/usr/local/lib/python3.7/dist-packages/ipykernel_launcher.py:9: DeprecationWarning:\n",
            "\n",
            "`np.str` is a deprecated alias for the builtin `str`. To silence this warning, use `str` by itself. Doing this will not modify any behavior and is safe. If you specifically wanted the numpy scalar type, use `np.str_` here.\n",
            "Deprecated in NumPy 1.20; for more details and guidance: https://numpy.org/devdocs/release/1.20.0-notes.html#deprecations\n",
            "\n"
          ]
        },
        {
          "name": "stdout",
          "output_type": "stream",
          "text": [
            "Type ddp: 25\n",
            "Type time: 5\n",
            "Type ddp: 28\n",
            "Type time: 5\n",
            "Type ddp: 30\n",
            "Type time: 5\n",
            "Type ddp: 35\n",
            "Type time: 5\n"
          ]
        },
        {
          "output_type": "display_data",
          "data": {
            "text/html": [
              "<html>\n",
              "<head><meta charset=\"utf-8\" /></head>\n",
              "<body>\n",
              "    <div>            <script src=\"https://cdnjs.cloudflare.com/ajax/libs/mathjax/2.7.5/MathJax.js?config=TeX-AMS-MML_SVG\"></script><script type=\"text/javascript\">if (window.MathJax) {MathJax.Hub.Config({SVG: {font: \"STIX-Web\"}});}</script>                <script type=\"text/javascript\">window.PlotlyConfig = {MathJaxConfig: 'local'};</script>\n",
              "        <script src=\"https://cdn.plot.ly/plotly-2.8.3.min.js\"></script>                <div id=\"1e39f139-cff9-4aaf-9146-e6ed406bd9d1\" class=\"plotly-graph-div\" style=\"height:525px; width:100%;\"></div>            <script type=\"text/javascript\">                                    window.PLOTLYENV=window.PLOTLYENV || {};                                    if (document.getElementById(\"1e39f139-cff9-4aaf-9146-e6ed406bd9d1\")) {                    Plotly.newPlot(                        \"1e39f139-cff9-4aaf-9146-e6ed406bd9d1\",                        [{\"mode\":\"lines+markers\",\"name\":\"18 kV\",\"x\":[50.48506621907493,48.54458999261461,46.74790026419236,45.07959134276659,43.52638246038707,42.076763618346405,40.7207099792377,39.44944981050139,38.25527462005452,37.131382797397116,36.07175005910043,35.07102148671375,34.12442107203765,33.22767554472263,32.3769499186986,31.56879270664001,30.80008915182636,30.068021141165396,29.370032711748088,28.70380026105507,28.067206729135656,27.45831914832867,26.875369058976347,26.316735373174108,25.780929336836532,25.266581296315536,24.772429021886936,24.29730737852705,23.840139166035378,23.399926976921336,22.97574594252163,22.566737256319286,22.172102379018575,21.79109784309499,21.423030585695987,21.06725374825176,20.723162889238953,20.390192563451205,20.06781322705338,19.75552843278699,19.452872284079753,19.159407120599706,18.874721411073132,18.598427832030364,18.3301615136171,18.0695784357648,17.816353959895984,17.57018148298736,17.330771202257996,17.097848980017822,16.871155299328304,16.650444302110966,16.43548290220843,16.22604996667165,16.0219355592277,15.82294024048764,15.628874419990746,15.439557755660141,15.254818596671315,15.074493466115708,14.89842658018219,14.726469400884,14.558480219632106,14.3943237692013,14.233870861855896,14.07699805160032,13.923587318698985,13.773525774770881,13.626705386910352,13.483022719417196,13.342378691838524,13.204678352133008,13.06983066386624,12.937748306434887,12.80834748739855,12.68154776607162,12.55727188759492,12.435445626767772,12.315997640977246,12.198859331612292,12.083964713396993,11.971250291120137,11.860654943277067,11.752119812175948,11.645588200093165,11.54100547109303,11.438318958154476,11.33747787527316,11.238433234230675,11.14113776574435,11.045545844730968,10.951613419436137,10.859297944198099,10.76855831563026,10.67935481202149,10.59164903576633],\"y\":[0.4,0.0,0.4,0.6,0.8,0.6,1.0,0.2,0.0,0.0,0.2,1.0,0.2,0.2,0.4,0.6,1.4,0.2,0.2,0.6,1.0,1.2,0.0,0.4,0.6,1.4,0.6,0.6,0.4,0.4,0.6,0.8,1.4,0.2,0.6,0.2,0.8,0.6,1.4,0.6,0.4,0.6,1.0,0.6,0.8,0.8,4.4,9.4,15.2,23.6,25.8,24.6,30.8,32.0,37.8,33.8,37.4,37.2,34.4,37.0,34.6,32.8,30.4,31.8,27.2,34.4,25.0,25.8,24.4,21.4,22.0,15.6,18.0,14.0,13.8,12.6,16.2,10.4,12.2,11.6,9.2,11.4,9.4,7.4,8.0,6.8,7.8,8.6,5.8,4.4,3.4,4.6,4.0,2.2,2.2,2.4],\"type\":\"scatter\"},{\"mode\":\"lines+markers\",\"name\":\"25 kV\",\"x\":[50.48506621907493,48.54458999261461,46.74790026419236,45.07959134276659,43.52638246038707,42.076763618346405,40.7207099792377,39.44944981050139,38.25527462005452,37.131382797397116,36.07175005910043,35.07102148671375,34.12442107203765,33.22767554472263,32.3769499186986,31.56879270664001,30.80008915182636,30.068021141165396,29.370032711748088,28.70380026105507,28.067206729135656,27.45831914832867,26.875369058976347,26.316735373174108,25.780929336836532,25.266581296315536,24.772429021886936,24.29730737852705,23.840139166035378,23.399926976921336,22.97574594252163,22.566737256319286,22.172102379018575,21.79109784309499,21.423030585695987,21.06725374825176,20.723162889238953,20.390192563451205,20.06781322705338,19.75552843278699,19.452872284079753,19.159407120599706,18.874721411073132,18.598427832030364,18.3301615136171,18.0695784357648,17.816353959895984,17.57018148298736,17.330771202257996,17.097848980017822,16.871155299328304,16.650444302110966,16.43548290220843,16.22604996667165,16.0219355592277,15.82294024048764,15.628874419990746,15.439557755660141,15.254818596671315,15.074493466115708,14.89842658018219,14.726469400884,14.558480219632106,14.3943237692013,14.233870861855896,14.07699805160032,13.923587318698985,13.773525774770881,13.626705386910352,13.483022719417196,13.342378691838524,13.204678352133008,13.06983066386624,12.937748306434887,12.80834748739855,12.68154776607162,12.55727188759492,12.435445626767772,12.315997640977246,12.198859331612292,12.083964713396993,11.971250291120137,11.860654943277067,11.752119812175948,11.645588200093165,11.54100547109303,11.438318958154476,11.33747787527316,11.238433234230675,11.14113776574435,11.045545844730968,10.951613419436137,10.859297944198099,10.76855831563026,10.67935481202149,10.59164903576633],\"y\":[1.6,1.2,1.4,1.8,2.2,2.0,2.4,2.8,3.0,2.4,2.6,1.6,1.4,2.4,2.2,2.6,1.4,2.4,2.4,1.6,3.2,3.0,2.2,2.8,2.0,7.2,24.6,53.0,81.4,106.4,120.4,131.6,150.0,143.6,147.8,159.2,160.0,190.6,242.6,250.0,209.6,181.4,179.4,172.4,165.0,183.4,375.0,456.6,361.2,227.4,157.8,146.4,133.8,134.4,125.2,119.8,124.6,101.0,97.0,106.8,94.6,80.0,86.8,77.6,72.2,71.6,64.8,68.6,56.0,49.6,47.8,37.4,43.6,41.0,37.0,31.6,30.0,33.2,27.8,25.2,28.4,25.4,26.6,28.8,30.2,30.0,37.4,30.2,29.4,28.4,26.6,33.4,34.6,29.8,28.4,30.0],\"type\":\"scatter\"},{\"mode\":\"lines+markers\",\"name\":\"28 kV\",\"x\":[50.48506621907493,48.54458999261461,46.74790026419236,45.07959134276659,43.52638246038707,42.076763618346405,40.7207099792377,39.44944981050139,38.25527462005452,37.131382797397116,36.07175005910043,35.07102148671375,34.12442107203765,33.22767554472263,32.3769499186986,31.56879270664001,30.80008915182636,30.068021141165396,29.370032711748088,28.70380026105507,28.067206729135656,27.45831914832867,26.875369058976347,26.316735373174108,25.780929336836532,25.266581296315536,24.772429021886936,24.29730737852705,23.840139166035378,23.399926976921336,22.97574594252163,22.566737256319286,22.172102379018575,21.79109784309499,21.423030585695987,21.06725374825176,20.723162889238953,20.390192563451205,20.06781322705338,19.75552843278699,19.452872284079753,19.159407120599706,18.874721411073132,18.598427832030364,18.3301615136171,18.0695784357648,17.816353959895984,17.57018148298736,17.330771202257996,17.097848980017822,16.871155299328304,16.650444302110966,16.43548290220843,16.22604996667165,16.0219355592277,15.82294024048764,15.628874419990746,15.439557755660141,15.254818596671315,15.074493466115708,14.89842658018219,14.726469400884,14.558480219632106,14.3943237692013,14.233870861855896,14.07699805160032,13.923587318698985,13.773525774770881,13.626705386910352,13.483022719417196,13.342378691838524,13.204678352133008,13.06983066386624,12.937748306434887,12.80834748739855,12.68154776607162,12.55727188759492,12.435445626767772,12.315997640977246,12.198859331612292,12.083964713396993,11.971250291120137,11.860654943277067,11.752119812175948,11.645588200093165,11.54100547109303,11.438318958154476,11.33747787527316,11.238433234230675,11.14113776574435,11.045545844730968,10.951613419436137,10.859297944198099,10.76855831563026,10.67935481202149,10.59164903576633],\"y\":[3.4,3.2,2.8,3.8,2.8,3.2,3.6,3.8,4.2,5.8,5.2,5.8,3.8,4.8,3.6,3.8,2.8,5.4,4.2,7.0,30.0,66.6,123.4,161.4,191.4,223.8,238.0,239.4,251.4,263.2,277.8,260.2,252.0,247.4,261.4,249.2,260.0,294.8,406.6,452.4,360.8,271.0,245.8,233.2,224.2,269.6,712.8,888.4,671.6,369.0,217.8,182.6,176.2,173.4,155.6,138.0,147.8,139.6,130.4,122.6,120.6,103.8,108.2,105.2,97.2,83.8,79.6,73.4,78.6,74.8,72.4,67.4,65.4,77.6,69.2,70.4,73.2,68.8,63.6,61.0,64.2,62.4,62.6,65.4,60.4,55.2,49.8,56.0,59.0,55.2,58.0,48.8,46.2,53.2,50.8,40.0],\"type\":\"scatter\"},{\"mode\":\"lines+markers\",\"name\":\"30 kV\",\"x\":[50.48506621907493,48.54458999261461,46.74790026419236,45.07959134276659,43.52638246038707,42.076763618346405,40.7207099792377,39.44944981050139,38.25527462005452,37.131382797397116,36.07175005910043,35.07102148671375,34.12442107203765,33.22767554472263,32.3769499186986,31.56879270664001,30.80008915182636,30.068021141165396,29.370032711748088,28.70380026105507,28.067206729135656,27.45831914832867,26.875369058976347,26.316735373174108,25.780929336836532,25.266581296315536,24.772429021886936,24.29730737852705,23.840139166035378,23.399926976921336,22.97574594252163,22.566737256319286,22.172102379018575,21.79109784309499,21.423030585695987,21.06725374825176,20.723162889238953,20.390192563451205,20.06781322705338,19.75552843278699,19.452872284079753,19.159407120599706,18.874721411073132,18.598427832030364,18.3301615136171,18.0695784357648,17.816353959895984,17.57018148298736,17.330771202257996,17.097848980017822,16.871155299328304,16.650444302110966,16.43548290220843,16.22604996667165,16.0219355592277,15.82294024048764,15.628874419990746,15.439557755660141,15.254818596671315,15.074493466115708,14.89842658018219,14.726469400884,14.558480219632106,14.3943237692013,14.233870861855896,14.07699805160032,13.923587318698985,13.773525774770881,13.626705386910352,13.483022719417196,13.342378691838524,13.204678352133008,13.06983066386624,12.937748306434887,12.80834748739855,12.68154776607162,12.55727188759492,12.435445626767772,12.315997640977246,12.198859331612292,12.083964713396993,11.971250291120137,11.860654943277067,11.752119812175948,11.645588200093165,11.54100547109303,11.438318958154476,11.33747787527316,11.238433234230675,11.14113776574435,11.045545844730968,10.951613419436137,10.859297944198099,10.76855831563026,10.67935481202149,10.59164903576633],\"y\":[2.6,4.0,4.2,4.6,4.6,4.0,4.2,6.0,4.2,4.4,5.6,3.6,5.6,6.6,5.0,8.2,12.2,37.8,101.4,174.4,225.4,264.4,298.8,326.0,336.0,333.8,350.6,340.0,345.8,334.2,336.6,337.2,327.6,334.4,313.8,304.8,316.2,360.0,567.0,580.4,434.8,341.0,283.8,268.4,274.4,332.4,942.4,1173.6,889.8,504.8,266.8,219.4,199.4,194.2,179.8,163.4,161.6,158.2,152.6,150.2,125.8,140.4,129.2,124.2,130.0,130.4,120.8,128.6,121.2,115.2,99.2,99.4,98.8,100.8,96.8,104.6,93.0,94.6,93.2,81.6,90.6,80.4,80.6,79.8,80.8,75.2,73.4,68.6,73.0,66.2,61.2,58.6,64.8,61.2,55.0,62.4],\"type\":\"scatter\"},{\"mode\":\"lines+markers\",\"name\":\"35 kV\",\"x\":[50.48506621907493,48.54458999261461,46.74790026419236,45.07959134276659,43.52638246038707,42.076763618346405,40.7207099792377,39.44944981050139,38.25527462005452,37.131382797397116,36.07175005910043,35.07102148671375,34.12442107203765,33.22767554472263,32.3769499186986,31.56879270664001,30.80008915182636,30.068021141165396,29.370032711748088,28.70380026105507,28.067206729135656,27.45831914832867,26.875369058976347,26.316735373174108,25.780929336836532,25.266581296315536,24.772429021886936,24.29730737852705,23.840139166035378,23.399926976921336,22.97574594252163,22.566737256319286,22.172102379018575,21.79109784309499,21.423030585695987,21.06725374825176,20.723162889238953,20.390192563451205,20.06781322705338,19.75552843278699,19.452872284079753,19.159407120599706,18.874721411073132,18.598427832030364,18.3301615136171,18.0695784357648,17.816353959895984,17.57018148298736,17.330771202257996,17.097848980017822,16.871155299328304,16.650444302110966,16.43548290220843,16.22604996667165,16.0219355592277,15.82294024048764,15.628874419990746,15.439557755660141,15.254818596671315,15.074493466115708,14.89842658018219,14.726469400884,14.558480219632106,14.3943237692013,14.233870861855896,14.07699805160032,13.923587318698985,13.773525774770881,13.626705386910352,13.483022719417196,13.342378691838524,13.204678352133008,13.06983066386624,12.937748306434887,12.80834748739855,12.68154776607162,12.55727188759492,12.435445626767772,12.315997640977246,12.198859331612292,12.083964713396993,11.971250291120137,11.860654943277067,11.752119812175948,11.645588200093165,11.54100547109303,11.438318958154476,11.33747787527316,11.238433234230675,11.14113776574435,11.045545844730968,10.951613419436137,10.859297944198099,10.76855831563026,10.67935481202149,10.59164903576633],\"y\":[9.2,7.0,9.2,6.6,9.6,9.0,11.8,10.0,11.8,16.8,36.0,127.4,251.4,363.8,448.2,498.4,535.6,565.2,569.6,595.4,602.0,607.4,602.0,607.0,592.8,560.6,560.8,533.2,517.0,527.2,494.6,473.2,480.0,460.4,433.6,402.6,435.8,537.6,886.8,888.8,653.6,455.8,381.2,386.0,361.8,483.0,1561.8,1965.2,1441.0,815.0,385.4,326.2,312.8,297.4,289.0,295.2,290.4,274.8,269.6,255.8,265.8,254.0,230.0,230.0,229.8,228.6,213.0,215.4,214.4,191.2,187.4,176.4,168.2,162.8,160.2,161.2,147.0,147.6,136.4,146.8,133.8,133.4,127.6,131.2,118.6,122.2,110.2,105.6,110.6,100.8,101.8,104.8,103.0,99.6,97.6,97.0],\"type\":\"scatter\"}],                        {\"title\":{\"text\":\"Count/s X Energy - \\u0394t = 5s\"},\"template\":{\"data\":{\"bar\":[{\"error_x\":{\"color\":\"#2a3f5f\"},\"error_y\":{\"color\":\"#2a3f5f\"},\"marker\":{\"line\":{\"color\":\"#E5ECF6\",\"width\":0.5},\"pattern\":{\"fillmode\":\"overlay\",\"size\":10,\"solidity\":0.2}},\"type\":\"bar\"}],\"barpolar\":[{\"marker\":{\"line\":{\"color\":\"#E5ECF6\",\"width\":0.5},\"pattern\":{\"fillmode\":\"overlay\",\"size\":10,\"solidity\":0.2}},\"type\":\"barpolar\"}],\"carpet\":[{\"aaxis\":{\"endlinecolor\":\"#2a3f5f\",\"gridcolor\":\"white\",\"linecolor\":\"white\",\"minorgridcolor\":\"white\",\"startlinecolor\":\"#2a3f5f\"},\"baxis\":{\"endlinecolor\":\"#2a3f5f\",\"gridcolor\":\"white\",\"linecolor\":\"white\",\"minorgridcolor\":\"white\",\"startlinecolor\":\"#2a3f5f\"},\"type\":\"carpet\"}],\"choropleth\":[{\"colorbar\":{\"outlinewidth\":0,\"ticks\":\"\"},\"type\":\"choropleth\"}],\"contour\":[{\"colorbar\":{\"outlinewidth\":0,\"ticks\":\"\"},\"colorscale\":[[0.0,\"#0d0887\"],[0.1111111111111111,\"#46039f\"],[0.2222222222222222,\"#7201a8\"],[0.3333333333333333,\"#9c179e\"],[0.4444444444444444,\"#bd3786\"],[0.5555555555555556,\"#d8576b\"],[0.6666666666666666,\"#ed7953\"],[0.7777777777777778,\"#fb9f3a\"],[0.8888888888888888,\"#fdca26\"],[1.0,\"#f0f921\"]],\"type\":\"contour\"}],\"contourcarpet\":[{\"colorbar\":{\"outlinewidth\":0,\"ticks\":\"\"},\"type\":\"contourcarpet\"}],\"heatmap\":[{\"colorbar\":{\"outlinewidth\":0,\"ticks\":\"\"},\"colorscale\":[[0.0,\"#0d0887\"],[0.1111111111111111,\"#46039f\"],[0.2222222222222222,\"#7201a8\"],[0.3333333333333333,\"#9c179e\"],[0.4444444444444444,\"#bd3786\"],[0.5555555555555556,\"#d8576b\"],[0.6666666666666666,\"#ed7953\"],[0.7777777777777778,\"#fb9f3a\"],[0.8888888888888888,\"#fdca26\"],[1.0,\"#f0f921\"]],\"type\":\"heatmap\"}],\"heatmapgl\":[{\"colorbar\":{\"outlinewidth\":0,\"ticks\":\"\"},\"colorscale\":[[0.0,\"#0d0887\"],[0.1111111111111111,\"#46039f\"],[0.2222222222222222,\"#7201a8\"],[0.3333333333333333,\"#9c179e\"],[0.4444444444444444,\"#bd3786\"],[0.5555555555555556,\"#d8576b\"],[0.6666666666666666,\"#ed7953\"],[0.7777777777777778,\"#fb9f3a\"],[0.8888888888888888,\"#fdca26\"],[1.0,\"#f0f921\"]],\"type\":\"heatmapgl\"}],\"histogram\":[{\"marker\":{\"pattern\":{\"fillmode\":\"overlay\",\"size\":10,\"solidity\":0.2}},\"type\":\"histogram\"}],\"histogram2d\":[{\"colorbar\":{\"outlinewidth\":0,\"ticks\":\"\"},\"colorscale\":[[0.0,\"#0d0887\"],[0.1111111111111111,\"#46039f\"],[0.2222222222222222,\"#7201a8\"],[0.3333333333333333,\"#9c179e\"],[0.4444444444444444,\"#bd3786\"],[0.5555555555555556,\"#d8576b\"],[0.6666666666666666,\"#ed7953\"],[0.7777777777777778,\"#fb9f3a\"],[0.8888888888888888,\"#fdca26\"],[1.0,\"#f0f921\"]],\"type\":\"histogram2d\"}],\"histogram2dcontour\":[{\"colorbar\":{\"outlinewidth\":0,\"ticks\":\"\"},\"colorscale\":[[0.0,\"#0d0887\"],[0.1111111111111111,\"#46039f\"],[0.2222222222222222,\"#7201a8\"],[0.3333333333333333,\"#9c179e\"],[0.4444444444444444,\"#bd3786\"],[0.5555555555555556,\"#d8576b\"],[0.6666666666666666,\"#ed7953\"],[0.7777777777777778,\"#fb9f3a\"],[0.8888888888888888,\"#fdca26\"],[1.0,\"#f0f921\"]],\"type\":\"histogram2dcontour\"}],\"mesh3d\":[{\"colorbar\":{\"outlinewidth\":0,\"ticks\":\"\"},\"type\":\"mesh3d\"}],\"parcoords\":[{\"line\":{\"colorbar\":{\"outlinewidth\":0,\"ticks\":\"\"}},\"type\":\"parcoords\"}],\"pie\":[{\"automargin\":true,\"type\":\"pie\"}],\"scatter\":[{\"marker\":{\"colorbar\":{\"outlinewidth\":0,\"ticks\":\"\"}},\"type\":\"scatter\"}],\"scatter3d\":[{\"line\":{\"colorbar\":{\"outlinewidth\":0,\"ticks\":\"\"}},\"marker\":{\"colorbar\":{\"outlinewidth\":0,\"ticks\":\"\"}},\"type\":\"scatter3d\"}],\"scattercarpet\":[{\"marker\":{\"colorbar\":{\"outlinewidth\":0,\"ticks\":\"\"}},\"type\":\"scattercarpet\"}],\"scattergeo\":[{\"marker\":{\"colorbar\":{\"outlinewidth\":0,\"ticks\":\"\"}},\"type\":\"scattergeo\"}],\"scattergl\":[{\"marker\":{\"colorbar\":{\"outlinewidth\":0,\"ticks\":\"\"}},\"type\":\"scattergl\"}],\"scattermapbox\":[{\"marker\":{\"colorbar\":{\"outlinewidth\":0,\"ticks\":\"\"}},\"type\":\"scattermapbox\"}],\"scatterpolar\":[{\"marker\":{\"colorbar\":{\"outlinewidth\":0,\"ticks\":\"\"}},\"type\":\"scatterpolar\"}],\"scatterpolargl\":[{\"marker\":{\"colorbar\":{\"outlinewidth\":0,\"ticks\":\"\"}},\"type\":\"scatterpolargl\"}],\"scatterternary\":[{\"marker\":{\"colorbar\":{\"outlinewidth\":0,\"ticks\":\"\"}},\"type\":\"scatterternary\"}],\"surface\":[{\"colorbar\":{\"outlinewidth\":0,\"ticks\":\"\"},\"colorscale\":[[0.0,\"#0d0887\"],[0.1111111111111111,\"#46039f\"],[0.2222222222222222,\"#7201a8\"],[0.3333333333333333,\"#9c179e\"],[0.4444444444444444,\"#bd3786\"],[0.5555555555555556,\"#d8576b\"],[0.6666666666666666,\"#ed7953\"],[0.7777777777777778,\"#fb9f3a\"],[0.8888888888888888,\"#fdca26\"],[1.0,\"#f0f921\"]],\"type\":\"surface\"}],\"table\":[{\"cells\":{\"fill\":{\"color\":\"#EBF0F8\"},\"line\":{\"color\":\"white\"}},\"header\":{\"fill\":{\"color\":\"#C8D4E3\"},\"line\":{\"color\":\"white\"}},\"type\":\"table\"}]},\"layout\":{\"annotationdefaults\":{\"arrowcolor\":\"#2a3f5f\",\"arrowhead\":0,\"arrowwidth\":1},\"autotypenumbers\":\"strict\",\"coloraxis\":{\"colorbar\":{\"outlinewidth\":0,\"ticks\":\"\"}},\"colorscale\":{\"diverging\":[[0,\"#8e0152\"],[0.1,\"#c51b7d\"],[0.2,\"#de77ae\"],[0.3,\"#f1b6da\"],[0.4,\"#fde0ef\"],[0.5,\"#f7f7f7\"],[0.6,\"#e6f5d0\"],[0.7,\"#b8e186\"],[0.8,\"#7fbc41\"],[0.9,\"#4d9221\"],[1,\"#276419\"]],\"sequential\":[[0.0,\"#0d0887\"],[0.1111111111111111,\"#46039f\"],[0.2222222222222222,\"#7201a8\"],[0.3333333333333333,\"#9c179e\"],[0.4444444444444444,\"#bd3786\"],[0.5555555555555556,\"#d8576b\"],[0.6666666666666666,\"#ed7953\"],[0.7777777777777778,\"#fb9f3a\"],[0.8888888888888888,\"#fdca26\"],[1.0,\"#f0f921\"]],\"sequentialminus\":[[0.0,\"#0d0887\"],[0.1111111111111111,\"#46039f\"],[0.2222222222222222,\"#7201a8\"],[0.3333333333333333,\"#9c179e\"],[0.4444444444444444,\"#bd3786\"],[0.5555555555555556,\"#d8576b\"],[0.6666666666666666,\"#ed7953\"],[0.7777777777777778,\"#fb9f3a\"],[0.8888888888888888,\"#fdca26\"],[1.0,\"#f0f921\"]]},\"colorway\":[\"#636efa\",\"#EF553B\",\"#00cc96\",\"#ab63fa\",\"#FFA15A\",\"#19d3f3\",\"#FF6692\",\"#B6E880\",\"#FF97FF\",\"#FECB52\"],\"font\":{\"color\":\"#2a3f5f\"},\"geo\":{\"bgcolor\":\"white\",\"lakecolor\":\"white\",\"landcolor\":\"#E5ECF6\",\"showlakes\":true,\"showland\":true,\"subunitcolor\":\"white\"},\"hoverlabel\":{\"align\":\"left\"},\"hovermode\":\"closest\",\"mapbox\":{\"style\":\"light\"},\"paper_bgcolor\":\"white\",\"plot_bgcolor\":\"#E5ECF6\",\"polar\":{\"angularaxis\":{\"gridcolor\":\"white\",\"linecolor\":\"white\",\"ticks\":\"\"},\"bgcolor\":\"#E5ECF6\",\"radialaxis\":{\"gridcolor\":\"white\",\"linecolor\":\"white\",\"ticks\":\"\"}},\"scene\":{\"xaxis\":{\"backgroundcolor\":\"#E5ECF6\",\"gridcolor\":\"white\",\"gridwidth\":2,\"linecolor\":\"white\",\"showbackground\":true,\"ticks\":\"\",\"zerolinecolor\":\"white\"},\"yaxis\":{\"backgroundcolor\":\"#E5ECF6\",\"gridcolor\":\"white\",\"gridwidth\":2,\"linecolor\":\"white\",\"showbackground\":true,\"ticks\":\"\",\"zerolinecolor\":\"white\"},\"zaxis\":{\"backgroundcolor\":\"#E5ECF6\",\"gridcolor\":\"white\",\"gridwidth\":2,\"linecolor\":\"white\",\"showbackground\":true,\"ticks\":\"\",\"zerolinecolor\":\"white\"}},\"shapedefaults\":{\"line\":{\"color\":\"#2a3f5f\"}},\"ternary\":{\"aaxis\":{\"gridcolor\":\"white\",\"linecolor\":\"white\",\"ticks\":\"\"},\"baxis\":{\"gridcolor\":\"white\",\"linecolor\":\"white\",\"ticks\":\"\"},\"bgcolor\":\"#E5ECF6\",\"caxis\":{\"gridcolor\":\"white\",\"linecolor\":\"white\",\"ticks\":\"\"}},\"title\":{\"x\":0.05},\"xaxis\":{\"automargin\":true,\"gridcolor\":\"white\",\"linecolor\":\"white\",\"ticks\":\"\",\"title\":{\"standoff\":15},\"zerolinecolor\":\"white\",\"zerolinewidth\":2},\"yaxis\":{\"automargin\":true,\"gridcolor\":\"white\",\"linecolor\":\"white\",\"ticks\":\"\",\"title\":{\"standoff\":15},\"zerolinecolor\":\"white\",\"zerolinewidth\":2}}},\"xaxis\":{\"title\":{\"text\":\"Energy (keV)\"}},\"yaxis\":{\"title\":{\"text\":\"Count\"}}},                        {\"responsive\": true}                    ).then(function(){\n",
              "                            \n",
              "var gd = document.getElementById('1e39f139-cff9-4aaf-9146-e6ed406bd9d1');\n",
              "var x = new MutationObserver(function (mutations, observer) {{\n",
              "        var display = window.getComputedStyle(gd).display;\n",
              "        if (!display || display === 'none') {{\n",
              "            console.log([gd, 'removed!']);\n",
              "            Plotly.purge(gd);\n",
              "            observer.disconnect();\n",
              "        }}\n",
              "}});\n",
              "\n",
              "// Listen for the removal of the full notebook cells\n",
              "var notebookContainer = gd.closest('#notebook-container');\n",
              "if (notebookContainer) {{\n",
              "    x.observe(notebookContainer, {childList: true});\n",
              "}}\n",
              "\n",
              "// Listen for the clearing of the current output cell\n",
              "var outputEl = gd.closest('.output');\n",
              "if (outputEl) {{\n",
              "    x.observe(outputEl, {childList: true});\n",
              "}}\n",
              "\n",
              "                        })                };                            </script>        </div>\n",
              "</body>\n",
              "</html>"
            ]
          },
          "metadata": {}
        }
      ]
    },
    {
      "cell_type": "code",
      "source": [
        "# Test cell\n",
        "plot_one_energy()"
      ],
      "metadata": {
        "id": "h1sIj_YC-dI6",
        "colab": {
          "base_uri": "https://localhost:8080/",
          "height": 701
        },
        "outputId": "83c57c45-9e09-453d-db70-78fd1cb8a451"
      },
      "execution_count": 153,
      "outputs": [
        {
          "name": "stdout",
          "output_type": "stream",
          "text": [
            "Delta time: 5\n",
            "Type ddp: 28\n",
            "Type time: 5\n"
          ]
        },
        {
          "output_type": "stream",
          "name": "stderr",
          "text": [
            "/usr/local/lib/python3.7/dist-packages/ipykernel_launcher.py:9: DeprecationWarning:\n",
            "\n",
            "`np.str` is a deprecated alias for the builtin `str`. To silence this warning, use `str` by itself. Doing this will not modify any behavior and is safe. If you specifically wanted the numpy scalar type, use `np.str_` here.\n",
            "Deprecated in NumPy 1.20; for more details and guidance: https://numpy.org/devdocs/release/1.20.0-notes.html#deprecations\n",
            "\n"
          ]
        },
        {
          "output_type": "display_data",
          "data": {
            "text/html": [
              "<html>\n",
              "<head><meta charset=\"utf-8\" /></head>\n",
              "<body>\n",
              "    <div>            <script src=\"https://cdnjs.cloudflare.com/ajax/libs/mathjax/2.7.5/MathJax.js?config=TeX-AMS-MML_SVG\"></script><script type=\"text/javascript\">if (window.MathJax) {MathJax.Hub.Config({SVG: {font: \"STIX-Web\"}});}</script>                <script type=\"text/javascript\">window.PlotlyConfig = {MathJaxConfig: 'local'};</script>\n",
              "        <script src=\"https://cdn.plot.ly/plotly-2.8.3.min.js\"></script>                <div id=\"8b4720ce-e3ed-4b2b-b169-4170428205ea\" class=\"plotly-graph-div\" style=\"height:525px; width:100%;\"></div>            <script type=\"text/javascript\">                                    window.PLOTLYENV=window.PLOTLYENV || {};                                    if (document.getElementById(\"8b4720ce-e3ed-4b2b-b169-4170428205ea\")) {                    Plotly.newPlot(                        \"8b4720ce-e3ed-4b2b-b169-4170428205ea\",                        [{\"error_y\":{\"array\":[0.8246211251235321,0.8,0.7483314773547882,0.8717797887081348,0.7483314773547882,0.8,0.8485281374238569,0.8717797887081348,0.916515138991168,1.0770329614269007,1.0198039027185568,1.0770329614269007,0.8717797887081348,0.9797958971132712,0.8485281374238569,0.8717797887081348,0.7483314773547882,1.0392304845413265,0.916515138991168,1.1832159566199232,2.449489742783178,3.6496575181789317,4.967896939349688,5.681549084536717,6.187083319303207,6.690291473471092,6.899275324264136,6.919537556802477,7.090839160494335,7.255342858886822,7.45385806143369,7.213875518748573,7.0992957397195395,7.03420215802759,7.230490993010088,7.059745037889117,7.211102550927978,7.678541528180986,9.017760254076396,9.512097560475292,8.49470423263812,7.362064927722384,7.011419257183242,6.829348431585549,6.696267617113283,7.343023900274328,11.93984924527944,13.329666162361306,11.589650555560336,8.590692637965812,6.6,6.043177971895251,5.9363288318623315,5.888972745734183,5.578530272392541,5.253570214625479,5.436910887627275,5.2839379254491625,5.106858133921482,4.951767361255979,4.91121166312347,4.556314299957807,4.651881339845203,4.586937976471885,4.409081537009721,4.093897898091744,3.989987468652001,3.8314488121336034,3.964845520319802,3.867815921162743,3.8052595180880893,3.671511950137164,3.616628264005025,3.9395431207184415,3.720215047547655,3.752332607858744,3.8262252939417984,3.7094473981982814,3.5665109000254014,3.4928498393145957,3.5832945734337835,3.532704346531139,3.5383612025908264,3.616628264005025,3.4756294393965534,3.3226495451672298,3.1559467676119,3.3466401061363023,3.4351128074635335,3.3226495451672298,3.4058772731852804,3.1240998703626617,3.0397368307141326,3.261901286060018,3.1874754901018454,2.8284271247461903]},\"hovertemplate\":\"Energy (keV)=%{x}<br>Count=%{y}<extra></extra>\",\"legendgroup\":\"\",\"line\":{\"color\":\"#636efa\",\"dash\":\"solid\"},\"marker\":{\"symbol\":\"circle\"},\"mode\":\"lines\",\"name\":\"\",\"orientation\":\"v\",\"showlegend\":false,\"x\":[50.48506621907493,48.54458999261461,46.74790026419236,45.07959134276659,43.52638246038707,42.076763618346405,40.7207099792377,39.44944981050139,38.25527462005452,37.131382797397116,36.07175005910043,35.07102148671375,34.12442107203765,33.22767554472263,32.3769499186986,31.56879270664001,30.80008915182636,30.068021141165396,29.370032711748088,28.70380026105507,28.067206729135656,27.45831914832867,26.875369058976347,26.316735373174108,25.780929336836532,25.266581296315536,24.772429021886936,24.29730737852705,23.840139166035378,23.399926976921336,22.97574594252163,22.566737256319286,22.172102379018575,21.79109784309499,21.423030585695987,21.06725374825176,20.723162889238953,20.390192563451205,20.06781322705338,19.75552843278699,19.452872284079753,19.159407120599706,18.874721411073132,18.598427832030364,18.3301615136171,18.0695784357648,17.816353959895984,17.57018148298736,17.330771202257996,17.097848980017822,16.871155299328304,16.650444302110966,16.43548290220843,16.22604996667165,16.0219355592277,15.82294024048764,15.628874419990746,15.439557755660141,15.254818596671315,15.074493466115708,14.89842658018219,14.726469400884,14.558480219632106,14.3943237692013,14.233870861855896,14.07699805160032,13.923587318698985,13.773525774770881,13.626705386910352,13.483022719417196,13.342378691838524,13.204678352133008,13.06983066386624,12.937748306434887,12.80834748739855,12.68154776607162,12.55727188759492,12.435445626767772,12.315997640977246,12.198859331612292,12.083964713396993,11.971250291120137,11.860654943277067,11.752119812175948,11.645588200093165,11.54100547109303,11.438318958154476,11.33747787527316,11.238433234230675,11.14113776574435,11.045545844730968,10.951613419436137,10.859297944198099,10.76855831563026,10.67935481202149,10.59164903576633],\"xaxis\":\"x\",\"y\":[3.4,3.2,2.8,3.8,2.8,3.2,3.6,3.8,4.2,5.8,5.2,5.8,3.8,4.8,3.6,3.8,2.8,5.4,4.2,7.0,30.0,66.6,123.4,161.4,191.4,223.8,238.0,239.4,251.4,263.2,277.8,260.2,252.0,247.4,261.4,249.2,260.0,294.8,406.6,452.4,360.8,271.0,245.8,233.2,224.2,269.6,712.8,888.4,671.6,369.0,217.8,182.6,176.2,173.4,155.6,138.0,147.8,139.6,130.4,122.6,120.6,103.8,108.2,105.2,97.2,83.8,79.6,73.4,78.6,74.8,72.4,67.4,65.4,77.6,69.2,70.4,73.2,68.8,63.6,61.0,64.2,62.4,62.6,65.4,60.4,55.2,49.8,56.0,59.0,55.2,58.0,48.8,46.2,53.2,50.8,40.0],\"yaxis\":\"y\",\"type\":\"scatter\"}],                        {\"template\":{\"data\":{\"bar\":[{\"error_x\":{\"color\":\"#2a3f5f\"},\"error_y\":{\"color\":\"#2a3f5f\"},\"marker\":{\"line\":{\"color\":\"#E5ECF6\",\"width\":0.5},\"pattern\":{\"fillmode\":\"overlay\",\"size\":10,\"solidity\":0.2}},\"type\":\"bar\"}],\"barpolar\":[{\"marker\":{\"line\":{\"color\":\"#E5ECF6\",\"width\":0.5},\"pattern\":{\"fillmode\":\"overlay\",\"size\":10,\"solidity\":0.2}},\"type\":\"barpolar\"}],\"carpet\":[{\"aaxis\":{\"endlinecolor\":\"#2a3f5f\",\"gridcolor\":\"white\",\"linecolor\":\"white\",\"minorgridcolor\":\"white\",\"startlinecolor\":\"#2a3f5f\"},\"baxis\":{\"endlinecolor\":\"#2a3f5f\",\"gridcolor\":\"white\",\"linecolor\":\"white\",\"minorgridcolor\":\"white\",\"startlinecolor\":\"#2a3f5f\"},\"type\":\"carpet\"}],\"choropleth\":[{\"colorbar\":{\"outlinewidth\":0,\"ticks\":\"\"},\"type\":\"choropleth\"}],\"contour\":[{\"colorbar\":{\"outlinewidth\":0,\"ticks\":\"\"},\"colorscale\":[[0.0,\"#0d0887\"],[0.1111111111111111,\"#46039f\"],[0.2222222222222222,\"#7201a8\"],[0.3333333333333333,\"#9c179e\"],[0.4444444444444444,\"#bd3786\"],[0.5555555555555556,\"#d8576b\"],[0.6666666666666666,\"#ed7953\"],[0.7777777777777778,\"#fb9f3a\"],[0.8888888888888888,\"#fdca26\"],[1.0,\"#f0f921\"]],\"type\":\"contour\"}],\"contourcarpet\":[{\"colorbar\":{\"outlinewidth\":0,\"ticks\":\"\"},\"type\":\"contourcarpet\"}],\"heatmap\":[{\"colorbar\":{\"outlinewidth\":0,\"ticks\":\"\"},\"colorscale\":[[0.0,\"#0d0887\"],[0.1111111111111111,\"#46039f\"],[0.2222222222222222,\"#7201a8\"],[0.3333333333333333,\"#9c179e\"],[0.4444444444444444,\"#bd3786\"],[0.5555555555555556,\"#d8576b\"],[0.6666666666666666,\"#ed7953\"],[0.7777777777777778,\"#fb9f3a\"],[0.8888888888888888,\"#fdca26\"],[1.0,\"#f0f921\"]],\"type\":\"heatmap\"}],\"heatmapgl\":[{\"colorbar\":{\"outlinewidth\":0,\"ticks\":\"\"},\"colorscale\":[[0.0,\"#0d0887\"],[0.1111111111111111,\"#46039f\"],[0.2222222222222222,\"#7201a8\"],[0.3333333333333333,\"#9c179e\"],[0.4444444444444444,\"#bd3786\"],[0.5555555555555556,\"#d8576b\"],[0.6666666666666666,\"#ed7953\"],[0.7777777777777778,\"#fb9f3a\"],[0.8888888888888888,\"#fdca26\"],[1.0,\"#f0f921\"]],\"type\":\"heatmapgl\"}],\"histogram\":[{\"marker\":{\"pattern\":{\"fillmode\":\"overlay\",\"size\":10,\"solidity\":0.2}},\"type\":\"histogram\"}],\"histogram2d\":[{\"colorbar\":{\"outlinewidth\":0,\"ticks\":\"\"},\"colorscale\":[[0.0,\"#0d0887\"],[0.1111111111111111,\"#46039f\"],[0.2222222222222222,\"#7201a8\"],[0.3333333333333333,\"#9c179e\"],[0.4444444444444444,\"#bd3786\"],[0.5555555555555556,\"#d8576b\"],[0.6666666666666666,\"#ed7953\"],[0.7777777777777778,\"#fb9f3a\"],[0.8888888888888888,\"#fdca26\"],[1.0,\"#f0f921\"]],\"type\":\"histogram2d\"}],\"histogram2dcontour\":[{\"colorbar\":{\"outlinewidth\":0,\"ticks\":\"\"},\"colorscale\":[[0.0,\"#0d0887\"],[0.1111111111111111,\"#46039f\"],[0.2222222222222222,\"#7201a8\"],[0.3333333333333333,\"#9c179e\"],[0.4444444444444444,\"#bd3786\"],[0.5555555555555556,\"#d8576b\"],[0.6666666666666666,\"#ed7953\"],[0.7777777777777778,\"#fb9f3a\"],[0.8888888888888888,\"#fdca26\"],[1.0,\"#f0f921\"]],\"type\":\"histogram2dcontour\"}],\"mesh3d\":[{\"colorbar\":{\"outlinewidth\":0,\"ticks\":\"\"},\"type\":\"mesh3d\"}],\"parcoords\":[{\"line\":{\"colorbar\":{\"outlinewidth\":0,\"ticks\":\"\"}},\"type\":\"parcoords\"}],\"pie\":[{\"automargin\":true,\"type\":\"pie\"}],\"scatter\":[{\"marker\":{\"colorbar\":{\"outlinewidth\":0,\"ticks\":\"\"}},\"type\":\"scatter\"}],\"scatter3d\":[{\"line\":{\"colorbar\":{\"outlinewidth\":0,\"ticks\":\"\"}},\"marker\":{\"colorbar\":{\"outlinewidth\":0,\"ticks\":\"\"}},\"type\":\"scatter3d\"}],\"scattercarpet\":[{\"marker\":{\"colorbar\":{\"outlinewidth\":0,\"ticks\":\"\"}},\"type\":\"scattercarpet\"}],\"scattergeo\":[{\"marker\":{\"colorbar\":{\"outlinewidth\":0,\"ticks\":\"\"}},\"type\":\"scattergeo\"}],\"scattergl\":[{\"marker\":{\"colorbar\":{\"outlinewidth\":0,\"ticks\":\"\"}},\"type\":\"scattergl\"}],\"scattermapbox\":[{\"marker\":{\"colorbar\":{\"outlinewidth\":0,\"ticks\":\"\"}},\"type\":\"scattermapbox\"}],\"scatterpolar\":[{\"marker\":{\"colorbar\":{\"outlinewidth\":0,\"ticks\":\"\"}},\"type\":\"scatterpolar\"}],\"scatterpolargl\":[{\"marker\":{\"colorbar\":{\"outlinewidth\":0,\"ticks\":\"\"}},\"type\":\"scatterpolargl\"}],\"scatterternary\":[{\"marker\":{\"colorbar\":{\"outlinewidth\":0,\"ticks\":\"\"}},\"type\":\"scatterternary\"}],\"surface\":[{\"colorbar\":{\"outlinewidth\":0,\"ticks\":\"\"},\"colorscale\":[[0.0,\"#0d0887\"],[0.1111111111111111,\"#46039f\"],[0.2222222222222222,\"#7201a8\"],[0.3333333333333333,\"#9c179e\"],[0.4444444444444444,\"#bd3786\"],[0.5555555555555556,\"#d8576b\"],[0.6666666666666666,\"#ed7953\"],[0.7777777777777778,\"#fb9f3a\"],[0.8888888888888888,\"#fdca26\"],[1.0,\"#f0f921\"]],\"type\":\"surface\"}],\"table\":[{\"cells\":{\"fill\":{\"color\":\"#EBF0F8\"},\"line\":{\"color\":\"white\"}},\"header\":{\"fill\":{\"color\":\"#C8D4E3\"},\"line\":{\"color\":\"white\"}},\"type\":\"table\"}]},\"layout\":{\"annotationdefaults\":{\"arrowcolor\":\"#2a3f5f\",\"arrowhead\":0,\"arrowwidth\":1},\"autotypenumbers\":\"strict\",\"coloraxis\":{\"colorbar\":{\"outlinewidth\":0,\"ticks\":\"\"}},\"colorscale\":{\"diverging\":[[0,\"#8e0152\"],[0.1,\"#c51b7d\"],[0.2,\"#de77ae\"],[0.3,\"#f1b6da\"],[0.4,\"#fde0ef\"],[0.5,\"#f7f7f7\"],[0.6,\"#e6f5d0\"],[0.7,\"#b8e186\"],[0.8,\"#7fbc41\"],[0.9,\"#4d9221\"],[1,\"#276419\"]],\"sequential\":[[0.0,\"#0d0887\"],[0.1111111111111111,\"#46039f\"],[0.2222222222222222,\"#7201a8\"],[0.3333333333333333,\"#9c179e\"],[0.4444444444444444,\"#bd3786\"],[0.5555555555555556,\"#d8576b\"],[0.6666666666666666,\"#ed7953\"],[0.7777777777777778,\"#fb9f3a\"],[0.8888888888888888,\"#fdca26\"],[1.0,\"#f0f921\"]],\"sequentialminus\":[[0.0,\"#0d0887\"],[0.1111111111111111,\"#46039f\"],[0.2222222222222222,\"#7201a8\"],[0.3333333333333333,\"#9c179e\"],[0.4444444444444444,\"#bd3786\"],[0.5555555555555556,\"#d8576b\"],[0.6666666666666666,\"#ed7953\"],[0.7777777777777778,\"#fb9f3a\"],[0.8888888888888888,\"#fdca26\"],[1.0,\"#f0f921\"]]},\"colorway\":[\"#636efa\",\"#EF553B\",\"#00cc96\",\"#ab63fa\",\"#FFA15A\",\"#19d3f3\",\"#FF6692\",\"#B6E880\",\"#FF97FF\",\"#FECB52\"],\"font\":{\"color\":\"#2a3f5f\"},\"geo\":{\"bgcolor\":\"white\",\"lakecolor\":\"white\",\"landcolor\":\"#E5ECF6\",\"showlakes\":true,\"showland\":true,\"subunitcolor\":\"white\"},\"hoverlabel\":{\"align\":\"left\"},\"hovermode\":\"closest\",\"mapbox\":{\"style\":\"light\"},\"paper_bgcolor\":\"white\",\"plot_bgcolor\":\"#E5ECF6\",\"polar\":{\"angularaxis\":{\"gridcolor\":\"white\",\"linecolor\":\"white\",\"ticks\":\"\"},\"bgcolor\":\"#E5ECF6\",\"radialaxis\":{\"gridcolor\":\"white\",\"linecolor\":\"white\",\"ticks\":\"\"}},\"scene\":{\"xaxis\":{\"backgroundcolor\":\"#E5ECF6\",\"gridcolor\":\"white\",\"gridwidth\":2,\"linecolor\":\"white\",\"showbackground\":true,\"ticks\":\"\",\"zerolinecolor\":\"white\"},\"yaxis\":{\"backgroundcolor\":\"#E5ECF6\",\"gridcolor\":\"white\",\"gridwidth\":2,\"linecolor\":\"white\",\"showbackground\":true,\"ticks\":\"\",\"zerolinecolor\":\"white\"},\"zaxis\":{\"backgroundcolor\":\"#E5ECF6\",\"gridcolor\":\"white\",\"gridwidth\":2,\"linecolor\":\"white\",\"showbackground\":true,\"ticks\":\"\",\"zerolinecolor\":\"white\"}},\"shapedefaults\":{\"line\":{\"color\":\"#2a3f5f\"}},\"ternary\":{\"aaxis\":{\"gridcolor\":\"white\",\"linecolor\":\"white\",\"ticks\":\"\"},\"baxis\":{\"gridcolor\":\"white\",\"linecolor\":\"white\",\"ticks\":\"\"},\"bgcolor\":\"#E5ECF6\",\"caxis\":{\"gridcolor\":\"white\",\"linecolor\":\"white\",\"ticks\":\"\"}},\"title\":{\"x\":0.05},\"xaxis\":{\"automargin\":true,\"gridcolor\":\"white\",\"linecolor\":\"white\",\"ticks\":\"\",\"title\":{\"standoff\":15},\"zerolinecolor\":\"white\",\"zerolinewidth\":2},\"yaxis\":{\"automargin\":true,\"gridcolor\":\"white\",\"linecolor\":\"white\",\"ticks\":\"\",\"title\":{\"standoff\":15},\"zerolinecolor\":\"white\",\"zerolinewidth\":2}}},\"xaxis\":{\"anchor\":\"y\",\"domain\":[0.0,1.0],\"title\":{\"text\":\"Energy (keV)\"}},\"yaxis\":{\"anchor\":\"x\",\"domain\":[0.0,1.0],\"title\":{\"text\":\"Count\"}},\"legend\":{\"tracegroupgap\":0},\"title\":{\"text\":\"Count/s vs Energy - \\u0394t = 5s - U = 28 V\"}},                        {\"responsive\": true}                    ).then(function(){\n",
              "                            \n",
              "var gd = document.getElementById('8b4720ce-e3ed-4b2b-b169-4170428205ea');\n",
              "var x = new MutationObserver(function (mutations, observer) {{\n",
              "        var display = window.getComputedStyle(gd).display;\n",
              "        if (!display || display === 'none') {{\n",
              "            console.log([gd, 'removed!']);\n",
              "            Plotly.purge(gd);\n",
              "            observer.disconnect();\n",
              "        }}\n",
              "}});\n",
              "\n",
              "// Listen for the removal of the full notebook cells\n",
              "var notebookContainer = gd.closest('#notebook-container');\n",
              "if (notebookContainer) {{\n",
              "    x.observe(notebookContainer, {childList: true});\n",
              "}}\n",
              "\n",
              "// Listen for the clearing of the current output cell\n",
              "var outputEl = gd.closest('.output');\n",
              "if (outputEl) {{\n",
              "    x.observe(outputEl, {childList: true});\n",
              "}}\n",
              "\n",
              "                        })                };                            </script>        </div>\n",
              "</body>\n",
              "</html>"
            ]
          },
          "metadata": {}
        }
      ]
    },
    {
      "cell_type": "markdown",
      "source": [
        "**Δt = 5 s and Δt = 1 s:**\n",
        "\n",
        "**kα:** 16.4 to 18.6\n",
        "\n",
        "**kβ:** 18.9 to 20.7\n",
        "\n"
      ],
      "metadata": {
        "id": "MCg4_lYIV7kH"
      }
    },
    {
      "cell_type": "markdown",
      "source": [
        "##**Fitting the curves:**\n"
      ],
      "metadata": {
        "id": "YcOTUGt2enX5"
      }
    },
    {
      "cell_type": "markdown",
      "source": [
        "**The function fitted is going to be the gaussian function.**\n",
        "\n",
        "**First I will define a fucntion for each peak (kα and kβ) to estimate the initial parameters.**\n",
        "\n",
        "**Then, I will define a function to fit both kα and kβ.**"
      ],
      "metadata": {
        "id": "-iCv4Zryiy0n"
      }
    },
    {
      "cell_type": "code",
      "source": [
        "def estimate_param_ka(delta, ddp, time):\n",
        "  '''This function allows to estimate parameters for kα curve to fit it and select the x axis to fit.'''\n",
        "  delta = str(delta)\n",
        "  ddp = str(ddp)\n",
        "  time = str(time)\n",
        "  data = read_c2(ddp,time)\n",
        "\n",
        "  #x axis range selecting for kα: x, y, σy and σx\n",
        "  xa = data['Energy (keV)'][(data['Energy (keV)'] >= 16.8) & (data['Energy (keV)'] <= 18.1)]\n",
        "  ya = data['Count'][(data['Energy (keV)'] >= 16.8) & (data['Energy (keV)'] <= 18.1)]\n",
        "  sya = data['σy'][(data['Energy (keV)'] >= 16.8) & (data['Energy (keV)'] <= 18.1)]\n",
        "  sxa = data['σx (°)'][(data['Energy (keV)'] >= 16.8) & (data['Energy (keV)'] <= 18.1)]\n",
        "\n",
        "  amp = np.max(ya)\n",
        "  cen = np.median(xa)\n",
        "  sigma = np.max(xa)-np.min(xa)\n",
        "\n",
        "  return  [[amp, cen, sigma],[xa,ya,sya,sxa]]\n",
        "\n",
        "  \n",
        "def estimate_param_kb(delta, ddp, time):\n",
        "  '''This function allows to estimate parameters for kβ curve to fit it, and select x axis to fit.'''\n",
        "  delta = str(delta)\n",
        "  ddp = str(ddp)\n",
        "  time = str(time)\n",
        "  data = read_c2(ddp,time)\n",
        "\n",
        "  #x axis range selecting for kβ: x, y, σy and σx\n",
        "  xb = data['Energy (keV)'][(data['Energy (keV)'] >= 18.9) & (data['Energy (keV)'] <= 20.7)]\n",
        "  yb = data['Count'][(data['Energy (keV)'] >= 18.9) & (data['Energy (keV)'] <= 20.7)]\n",
        "  syb = data['σy'][(data['Energy (keV)'] >= 18.9) & (data['Energy (keV)'] <= 20.7)]\n",
        "  sxb = data['σx (°)'][(data['Energy (keV)'] >= 18.9) & (data['Energy (keV)'] <= 20.7)]\n",
        "\n",
        "  amp = np.max(yb)\n",
        "  cen = np.median(xb)\n",
        "  sigma = np.max(xb)-np.min(xb)\n",
        "\n",
        "  return [[amp, cen, sigma],[xb,yb,syb,sxb]]\n"
      ],
      "metadata": {
        "id": "GEMAA-vreX0O"
      },
      "execution_count": 154,
      "outputs": []
    },
    {
      "cell_type": "markdown",
      "source": [
        "**The curves are going to be fitted with ODR (Orthogonal Distance Regression) scipy algorithm due to errors in both x and y axes.**"
      ],
      "metadata": {
        "id": "5Oo6sGljtZgH"
      }
    },
    {
      "cell_type": "code",
      "source": [
        "def gauss (p,x):  #amp=ymax, cen=center of the curve, wid=width of the curve\n",
        "    amp, cen, wid = p\n",
        "    return amp*np.exp(-(x-cen)**2/(2*wid**2))\n",
        "\n",
        "def fit_odr():\n",
        "  delta = str(input('Delta time: '))\n",
        "  ddp = str(input('Type ddp: '))\n",
        "  time = str(input('Type time: '))\n",
        "  data = read_c2(ddp,time)\n",
        "\n",
        "  #kα curve:\n",
        "  param_a = estimate_param_ka(delta, ddp, time)[0]\n",
        "  feature_a = estimate_param_ka(delta, ddp, time)[1][0]\n",
        "  target_a = estimate_param_ka(delta,ddp,time)[1][1]\n",
        "  model_a = odr.Model(gauss)\n",
        "  data_a = odr.RealData(feature_a, target_a, sx = estimate_param_ka(delta,ddp,time)[1][3], sy = estimate_param_ka(delta,ddp,time)[1][2])\n",
        "  ordinal_distance_reg_a = odr.ODR(data_a, model_a, beta0=param_a)\n",
        "  result_outputs_a = ordinal_distance_reg_a.run()\n",
        "\n",
        "  #kβ curve:\n",
        "  param_b = estimate_param_kb(delta, ddp, time)[0]\n",
        "  feature_b = estimate_param_kb(delta, ddp, time)[1][0]\n",
        "  target_b = estimate_param_kb(delta,ddp,time)[1][1]\n",
        "  model_b = odr.Model(gauss)\n",
        "  data_b = odr.RealData(feature_b, target_b, sx = estimate_param_kb(delta,ddp,time)[1][3], sy = estimate_param_kb(delta,ddp,time)[1][2])\n",
        "  ordinal_distance_reg_b = odr.ODR(data_b, model_b, beta0=param_b)\n",
        "  result_outputs_b = ordinal_distance_reg_b.run()\n",
        "\n",
        "  popt_a = result_outputs_a.beta\n",
        "  perr_a = np.sqrt(np.diag(result_outputs_a.cov_beta))\n",
        "\n",
        "  popt_b = result_outputs_b.beta\n",
        "  perr_b = np.sqrt(np.diag(result_outputs_b.cov_beta))\n",
        "\n",
        "\n",
        "  fig, (ax1,ax2) = plt.subplots(2)\n",
        "  ax1.plot(feature_a, target_a, 'bo', label='Data - kα')\n",
        "  ax1.errorbar(feature_a,target_a,yerr=estimate_param_ka(delta, ddp, time)[1][2],xerr=estimate_param_ka(delta, ddp, time)[1][3], color='b')\n",
        "  ax1.plot(feature_a, gauss(popt_a, feature_a), color='r', label= 'Fit - kα')\n",
        "  ax1.set_title(f'Fit kα - U = {ddp} V - Δt = {delta}s')\n",
        "  ax1.set_xlabel('E (keV)')\n",
        "  ax1.set_ylabel('Count')\n",
        "  ax1.legend()\n",
        "\n",
        "  \n",
        "  ax2.plot(feature_b, target_b, 'bo', label='Data - kβ')\n",
        "  ax2.errorbar(feature_b,target_b,yerr=estimate_param_kb(delta, ddp, time)[1][2],xerr=estimate_param_kb(delta, ddp, time)[1][3], color='b')\n",
        "  ax2.plot(feature_b, gauss(popt_b, feature_b), color='r', label= 'Fit - kβ')\n",
        "  ax2.set_title(f'Fit kβ - U = {ddp} V - Δt = {delta}s')\n",
        "  ax2.set_xlabel('E (keV)')\n",
        "  ax2.set_ylabel('Count')\n",
        "  ax2.legend()\n",
        "  \n",
        "  return ax1,result_outputs_a.pprint(), ax2, result_outputs_b.pprint()"
      ],
      "metadata": {
        "id": "TiqW0ZDPt6bD"
      },
      "execution_count": 155,
      "outputs": []
    },
    {
      "cell_type": "code",
      "source": [
        "# Cell to fit curves:\n",
        "fit_odr()"
      ],
      "metadata": {
        "id": "h1R1TCGziFEw",
        "colab": {
          "base_uri": "https://localhost:8080/",
          "height": 1000
        },
        "outputId": "e821b8ed-5a9d-40d2-d0ee-b5f95aeb01d8"
      },
      "execution_count": 156,
      "outputs": [
        {
          "output_type": "stream",
          "name": "stdout",
          "text": [
            "Delta time: 5\n",
            "Type ddp: 35\n",
            "Type time: 5\n",
            "Beta: [ 1.97012136e+03  1.75441467e+01 -3.40898571e-01]\n",
            "Beta Std Error: [3.55486309e+01 2.69464558e-02 2.06795495e-02]\n",
            "Beta Covariance: [[ 9.37395185e+02 -2.38203116e-01  1.41177310e-01]\n",
            " [-2.38203116e-01  5.38617259e-04 -1.17697336e-04]\n",
            " [ 1.41177310e-01 -1.17697336e-04  3.17218940e-04]]\n",
            "Residual Variance: 1.3481028883659973\n",
            "Inverse Condition #: 0.07157513435299567\n",
            "Reason(s) for Halting:\n",
            "  Sum of squares convergence\n",
            "Beta: [ 9.20439078e+02  1.98668581e+01 -5.46853716e-01]\n",
            "Beta Std Error: [27.86839085  0.03394323  0.04586834]\n",
            "Beta Covariance: [[ 4.12748916e+02  3.88992398e-03  3.36716365e-01]\n",
            " [ 3.88992398e-03  6.12305873e-04 -1.68468209e-04]\n",
            " [ 3.36716365e-01 -1.68468209e-04  1.11811942e-03]]\n",
            "Residual Variance: 1.881645663989016\n",
            "Inverse Condition #: 0.03837163960160313\n",
            "Reason(s) for Halting:\n",
            "  Sum of squares convergence\n"
          ]
        },
        {
          "output_type": "stream",
          "name": "stderr",
          "text": [
            "/usr/local/lib/python3.7/dist-packages/ipykernel_launcher.py:9: DeprecationWarning:\n",
            "\n",
            "`np.str` is a deprecated alias for the builtin `str`. To silence this warning, use `str` by itself. Doing this will not modify any behavior and is safe. If you specifically wanted the numpy scalar type, use `np.str_` here.\n",
            "Deprecated in NumPy 1.20; for more details and guidance: https://numpy.org/devdocs/release/1.20.0-notes.html#deprecations\n",
            "\n",
            "/usr/local/lib/python3.7/dist-packages/ipykernel_launcher.py:9: DeprecationWarning:\n",
            "\n",
            "`np.str` is a deprecated alias for the builtin `str`. To silence this warning, use `str` by itself. Doing this will not modify any behavior and is safe. If you specifically wanted the numpy scalar type, use `np.str_` here.\n",
            "Deprecated in NumPy 1.20; for more details and guidance: https://numpy.org/devdocs/release/1.20.0-notes.html#deprecations\n",
            "\n",
            "/usr/local/lib/python3.7/dist-packages/ipykernel_launcher.py:9: DeprecationWarning:\n",
            "\n",
            "`np.str` is a deprecated alias for the builtin `str`. To silence this warning, use `str` by itself. Doing this will not modify any behavior and is safe. If you specifically wanted the numpy scalar type, use `np.str_` here.\n",
            "Deprecated in NumPy 1.20; for more details and guidance: https://numpy.org/devdocs/release/1.20.0-notes.html#deprecations\n",
            "\n"
          ]
        },
        {
          "output_type": "execute_result",
          "data": {
            "text/plain": [
              "(<matplotlib.axes._subplots.AxesSubplot at 0x7f5db13b9a10>,\n",
              " None,\n",
              " <matplotlib.axes._subplots.AxesSubplot at 0x7f5db31e6890>,\n",
              " None)"
            ]
          },
          "metadata": {},
          "execution_count": 156
        },
        {
          "output_type": "display_data",
          "data": {
            "text/plain": [
              "<Figure size 432x288 with 2 Axes>"
            ],
            "image/png": "[encoded data removed]"
          },
          "metadata": {
            "needs_background": "light"
          }
        }
      ]
    },
    {
      "cell_type": "code",
      "source": [
        "# Cell to save parameters:"
      ],
      "metadata": {
        "id": "PzJpTN0F9Za1"
      },
      "execution_count": null,
      "outputs": []
    },
    {
      "cell_type": "markdown",
      "source": [
        "**$R^2$:**"
      ],
      "metadata": {
        "id": "m4j3zx4n9OCA"
      }
    },
    {
      "cell_type": "code",
      "source": [
        "# Cell to calculate R^2:"
      ],
      "metadata": {
        "id": "3IwJt-kd9SsT"
      },
      "execution_count": null,
      "outputs": []
    },
    {
      "cell_type": "markdown",
      "source": [
        "#**Calculating h (Planck constant):**"
      ],
      "metadata": {
        "id": "V-CrYsGL8zvY"
      }
    },
    {
      "cell_type": "markdown",
      "source": [
        "**The next step is to plot Emax X λmin for each point to fit the curve and find h (Planck constant).**\n",
        "\n",
        "**To do this, first we must find the λmin from the the count X θ plot. The λmin will be selected manually.**"
      ],
      "metadata": {
        "id": "mHhTPj1o7-R_"
      }
    },
    {
      "cell_type": "markdown",
      "source": [
        "**Plotting the graphs to estimate the λmin values:**"
      ],
      "metadata": {
        "id": "B1F6wWUcWLEM"
      }
    },
    {
      "cell_type": "code",
      "source": [
        "plot_one_theta()"
      ],
      "metadata": {
        "id": "U0VQwFWJ79rd",
        "colab": {
          "base_uri": "https://localhost:8080/",
          "height": 701
        },
        "outputId": "19a48dd9-99df-425a-ecbb-767897a046f5"
      },
      "execution_count": 157,
      "outputs": [
        {
          "name": "stdout",
          "output_type": "stream",
          "text": [
            "Delta time: 5\n",
            "Type ddp: 25\n",
            "Type time: 5\n"
          ]
        },
        {
          "output_type": "stream",
          "name": "stderr",
          "text": [
            "/usr/local/lib/python3.7/dist-packages/ipykernel_launcher.py:9: DeprecationWarning:\n",
            "\n",
            "`np.str` is a deprecated alias for the builtin `str`. To silence this warning, use `str` by itself. Doing this will not modify any behavior and is safe. If you specifically wanted the numpy scalar type, use `np.str_` here.\n",
            "Deprecated in NumPy 1.20; for more details and guidance: https://numpy.org/devdocs/release/1.20.0-notes.html#deprecations\n",
            "\n"
          ]
        },
        {
          "output_type": "display_data",
          "data": {
            "text/html": [
              "<html>\n",
              "<head><meta charset=\"utf-8\" /></head>\n",
              "<body>\n",
              "    <div>            <script src=\"https://cdnjs.cloudflare.com/ajax/libs/mathjax/2.7.5/MathJax.js?config=TeX-AMS-MML_SVG\"></script><script type=\"text/javascript\">if (window.MathJax) {MathJax.Hub.Config({SVG: {font: \"STIX-Web\"}});}</script>                <script type=\"text/javascript\">window.PlotlyConfig = {MathJaxConfig: 'local'};</script>\n",
              "        <script src=\"https://cdn.plot.ly/plotly-2.8.3.min.js\"></script>                <div id=\"aab63da4-c2d8-413c-ad2e-309180a8746f\" class=\"plotly-graph-div\" style=\"height:525px; width:100%;\"></div>            <script type=\"text/javascript\">                                    window.PLOTLYENV=window.PLOTLYENV || {};                                    if (document.getElementById(\"aab63da4-c2d8-413c-ad2e-309180a8746f\")) {                    Plotly.newPlot(                        \"aab63da4-c2d8-413c-ad2e-309180a8746f\",                        [{\"error_x\":{\"array\":[0.05,0.05,0.05,0.05,0.05,0.05,0.05,0.05,0.05,0.05,0.05,0.05,0.05,0.05,0.05,0.05,0.05,0.05,0.05,0.05,0.05,0.05,0.05,0.05,0.05,0.05,0.05,0.05,0.05,0.05,0.05,0.05,0.05,0.05,0.05,0.05,0.05,0.05,0.05,0.05,0.05,0.05,0.05,0.05,0.05,0.05,0.05,0.05,0.05,0.05,0.05,0.05,0.05,0.05,0.05,0.05,0.05,0.05,0.05,0.05,0.05,0.05,0.05,0.05,0.05,0.05,0.05,0.05,0.05,0.05,0.05,0.05,0.05,0.05,0.05,0.05,0.05,0.05,0.05,0.05,0.05,0.05,0.05,0.05,0.05,0.05,0.05,0.05,0.05,0.05,0.05,0.05,0.05,0.05,0.05,0.05]},\"error_y\":{\"array\":[0.565685424949238,0.4898979485566356,0.5291502622129182,0.6,0.6633249580710799,0.6324555320336759,0.6928203230275509,0.7483314773547882,0.7745966692414834,0.6928203230275509,0.7211102550927978,0.565685424949238,0.5291502622129182,0.6928203230275509,0.6633249580710799,0.7211102550927978,0.5291502622129182,0.6928203230275509,0.6928203230275509,0.565685424949238,0.8,0.7745966692414834,0.6633249580710799,0.7483314773547882,0.6324555320336759,1.2,2.2181073012818837,3.255764119219941,4.034848200366403,4.613025037868319,4.907137658554118,5.130302135352264,5.477225575051661,5.359104402789705,5.436910887627275,5.642694391866354,5.656854249492381,6.174139616173252,6.965629906907199,7.0710678118654755,6.474565622495459,6.023288138550239,5.989991652748775,5.871967302361279,5.744562646538029,6.056401571890688,8.660254037844386,9.556149852320232,8.499411744350311,6.743886120034946,5.617828762075256,5.411099703387473,5.173006862551025,5.184592558726289,5.0039984012787215,4.894895300208167,4.991993589739474,4.494441010848846,4.4045431091090474,4.621688003316537,4.349712634186309,4.0,4.166533331199932,3.9395431207184415,3.8,3.7841775856849003,3.6,3.7040518354904273,3.3466401061363023,3.1496031496047245,3.0919249667480613,2.734958866235469,2.95296461204668,2.8635642126552705,2.720294101747089,2.513961017995307,2.449489742783178,2.5768197453450252,2.357965224510319,2.244994432064365,2.3832750575625967,2.253885533916929,2.3065125189341593,2.4,2.4576411454889016,2.449489742783178,2.734958866235469,2.4576411454889016,2.4248711305964283,2.3832750575625967,2.3065125189341593,2.584569596664017,2.630589287593181,2.4413111231467406,2.3832750575625967,2.449489742783178]},\"hovertemplate\":\"\\u03b8 (\\u00b0)=%{x}<br>Count=%{y}<extra></extra>\",\"legendgroup\":\"\",\"line\":{\"color\":\"#636efa\",\"dash\":\"solid\"},\"marker\":{\"symbol\":\"circle\"},\"mode\":\"lines\",\"name\":\"\",\"orientation\":\"v\",\"showlegend\":false,\"x\":[2.5,2.6,2.7,2.8,2.9,3.0,3.1,3.2,3.3,3.4,3.5,3.6,3.7,3.8,3.9,4.0,4.1,4.2,4.3,4.4,4.5,4.6,4.7,4.8,4.9,5.0,5.1,5.2,5.3,5.4,5.5,5.6,5.7,5.8,5.9,6.0,6.1,6.2,6.3,6.4,6.5,6.6,6.7,6.8,6.9,7.0,7.1,7.2,7.3,7.4,7.5,7.6,7.7,7.8,7.9,8.0,8.1,8.2,8.3,8.4,8.5,8.6,8.7,8.8,8.9,9.0,9.1,9.2,9.3,9.4,9.5,9.6,9.7,9.8,9.9,10.0,10.1,10.2,10.3,10.4,10.5,10.6,10.7,10.8,10.9,11.0,11.1,11.2,11.3,11.4,11.5,11.6,11.7,11.8,11.9,12.0],\"xaxis\":\"x\",\"y\":[1.6,1.2,1.4,1.8,2.2,2.0,2.4,2.8,3.0,2.4,2.6,1.6,1.4,2.4,2.2,2.6,1.4,2.4,2.4,1.6,3.2,3.0,2.2,2.8,2.0,7.2,24.6,53.0,81.4,106.4,120.4,131.6,150.0,143.6,147.8,159.2,160.0,190.6,242.6,250.0,209.6,181.4,179.4,172.4,165.0,183.4,375.0,456.6,361.2,227.4,157.8,146.4,133.8,134.4,125.2,119.8,124.6,101.0,97.0,106.8,94.6,80.0,86.8,77.6,72.2,71.6,64.8,68.6,56.0,49.6,47.8,37.4,43.6,41.0,37.0,31.6,30.0,33.2,27.8,25.2,28.4,25.4,26.6,28.8,30.2,30.0,37.4,30.2,29.4,28.4,26.6,33.4,34.6,29.8,28.4,30.0],\"yaxis\":\"y\",\"type\":\"scatter\"}],                        {\"template\":{\"data\":{\"bar\":[{\"error_x\":{\"color\":\"#2a3f5f\"},\"error_y\":{\"color\":\"#2a3f5f\"},\"marker\":{\"line\":{\"color\":\"#E5ECF6\",\"width\":0.5},\"pattern\":{\"fillmode\":\"overlay\",\"size\":10,\"solidity\":0.2}},\"type\":\"bar\"}],\"barpolar\":[{\"marker\":{\"line\":{\"color\":\"#E5ECF6\",\"width\":0.5},\"pattern\":{\"fillmode\":\"overlay\",\"size\":10,\"solidity\":0.2}},\"type\":\"barpolar\"}],\"carpet\":[{\"aaxis\":{\"endlinecolor\":\"#2a3f5f\",\"gridcolor\":\"white\",\"linecolor\":\"white\",\"minorgridcolor\":\"white\",\"startlinecolor\":\"#2a3f5f\"},\"baxis\":{\"endlinecolor\":\"#2a3f5f\",\"gridcolor\":\"white\",\"linecolor\":\"white\",\"minorgridcolor\":\"white\",\"startlinecolor\":\"#2a3f5f\"},\"type\":\"carpet\"}],\"choropleth\":[{\"colorbar\":{\"outlinewidth\":0,\"ticks\":\"\"},\"type\":\"choropleth\"}],\"contour\":[{\"colorbar\":{\"outlinewidth\":0,\"ticks\":\"\"},\"colorscale\":[[0.0,\"#0d0887\"],[0.1111111111111111,\"#46039f\"],[0.2222222222222222,\"#7201a8\"],[0.3333333333333333,\"#9c179e\"],[0.4444444444444444,\"#bd3786\"],[0.5555555555555556,\"#d8576b\"],[0.6666666666666666,\"#ed7953\"],[0.7777777777777778,\"#fb9f3a\"],[0.8888888888888888,\"#fdca26\"],[1.0,\"#f0f921\"]],\"type\":\"contour\"}],\"contourcarpet\":[{\"colorbar\":{\"outlinewidth\":0,\"ticks\":\"\"},\"type\":\"contourcarpet\"}],\"heatmap\":[{\"colorbar\":{\"outlinewidth\":0,\"ticks\":\"\"},\"colorscale\":[[0.0,\"#0d0887\"],[0.1111111111111111,\"#46039f\"],[0.2222222222222222,\"#7201a8\"],[0.3333333333333333,\"#9c179e\"],[0.4444444444444444,\"#bd3786\"],[0.5555555555555556,\"#d8576b\"],[0.6666666666666666,\"#ed7953\"],[0.7777777777777778,\"#fb9f3a\"],[0.8888888888888888,\"#fdca26\"],[1.0,\"#f0f921\"]],\"type\":\"heatmap\"}],\"heatmapgl\":[{\"colorbar\":{\"outlinewidth\":0,\"ticks\":\"\"},\"colorscale\":[[0.0,\"#0d0887\"],[0.1111111111111111,\"#46039f\"],[0.2222222222222222,\"#7201a8\"],[0.3333333333333333,\"#9c179e\"],[0.4444444444444444,\"#bd3786\"],[0.5555555555555556,\"#d8576b\"],[0.6666666666666666,\"#ed7953\"],[0.7777777777777778,\"#fb9f3a\"],[0.8888888888888888,\"#fdca26\"],[1.0,\"#f0f921\"]],\"type\":\"heatmapgl\"}],\"histogram\":[{\"marker\":{\"pattern\":{\"fillmode\":\"overlay\",\"size\":10,\"solidity\":0.2}},\"type\":\"histogram\"}],\"histogram2d\":[{\"colorbar\":{\"outlinewidth\":0,\"ticks\":\"\"},\"colorscale\":[[0.0,\"#0d0887\"],[0.1111111111111111,\"#46039f\"],[0.2222222222222222,\"#7201a8\"],[0.3333333333333333,\"#9c179e\"],[0.4444444444444444,\"#bd3786\"],[0.5555555555555556,\"#d8576b\"],[0.6666666666666666,\"#ed7953\"],[0.7777777777777778,\"#fb9f3a\"],[0.8888888888888888,\"#fdca26\"],[1.0,\"#f0f921\"]],\"type\":\"histogram2d\"}],\"histogram2dcontour\":[{\"colorbar\":{\"outlinewidth\":0,\"ticks\":\"\"},\"colorscale\":[[0.0,\"#0d0887\"],[0.1111111111111111,\"#46039f\"],[0.2222222222222222,\"#7201a8\"],[0.3333333333333333,\"#9c179e\"],[0.4444444444444444,\"#bd3786\"],[0.5555555555555556,\"#d8576b\"],[0.6666666666666666,\"#ed7953\"],[0.7777777777777778,\"#fb9f3a\"],[0.8888888888888888,\"#fdca26\"],[1.0,\"#f0f921\"]],\"type\":\"histogram2dcontour\"}],\"mesh3d\":[{\"colorbar\":{\"outlinewidth\":0,\"ticks\":\"\"},\"type\":\"mesh3d\"}],\"parcoords\":[{\"line\":{\"colorbar\":{\"outlinewidth\":0,\"ticks\":\"\"}},\"type\":\"parcoords\"}],\"pie\":[{\"automargin\":true,\"type\":\"pie\"}],\"scatter\":[{\"marker\":{\"colorbar\":{\"outlinewidth\":0,\"ticks\":\"\"}},\"type\":\"scatter\"}],\"scatter3d\":[{\"line\":{\"colorbar\":{\"outlinewidth\":0,\"ticks\":\"\"}},\"marker\":{\"colorbar\":{\"outlinewidth\":0,\"ticks\":\"\"}},\"type\":\"scatter3d\"}],\"scattercarpet\":[{\"marker\":{\"colorbar\":{\"outlinewidth\":0,\"ticks\":\"\"}},\"type\":\"scattercarpet\"}],\"scattergeo\":[{\"marker\":{\"colorbar\":{\"outlinewidth\":0,\"ticks\":\"\"}},\"type\":\"scattergeo\"}],\"scattergl\":[{\"marker\":{\"colorbar\":{\"outlinewidth\":0,\"ticks\":\"\"}},\"type\":\"scattergl\"}],\"scattermapbox\":[{\"marker\":{\"colorbar\":{\"outlinewidth\":0,\"ticks\":\"\"}},\"type\":\"scattermapbox\"}],\"scatterpolar\":[{\"marker\":{\"colorbar\":{\"outlinewidth\":0,\"ticks\":\"\"}},\"type\":\"scatterpolar\"}],\"scatterpolargl\":[{\"marker\":{\"colorbar\":{\"outlinewidth\":0,\"ticks\":\"\"}},\"type\":\"scatterpolargl\"}],\"scatterternary\":[{\"marker\":{\"colorbar\":{\"outlinewidth\":0,\"ticks\":\"\"}},\"type\":\"scatterternary\"}],\"surface\":[{\"colorbar\":{\"outlinewidth\":0,\"ticks\":\"\"},\"colorscale\":[[0.0,\"#0d0887\"],[0.1111111111111111,\"#46039f\"],[0.2222222222222222,\"#7201a8\"],[0.3333333333333333,\"#9c179e\"],[0.4444444444444444,\"#bd3786\"],[0.5555555555555556,\"#d8576b\"],[0.6666666666666666,\"#ed7953\"],[0.7777777777777778,\"#fb9f3a\"],[0.8888888888888888,\"#fdca26\"],[1.0,\"#f0f921\"]],\"type\":\"surface\"}],\"table\":[{\"cells\":{\"fill\":{\"color\":\"#EBF0F8\"},\"line\":{\"color\":\"white\"}},\"header\":{\"fill\":{\"color\":\"#C8D4E3\"},\"line\":{\"color\":\"white\"}},\"type\":\"table\"}]},\"layout\":{\"annotationdefaults\":{\"arrowcolor\":\"#2a3f5f\",\"arrowhead\":0,\"arrowwidth\":1},\"autotypenumbers\":\"strict\",\"coloraxis\":{\"colorbar\":{\"outlinewidth\":0,\"ticks\":\"\"}},\"colorscale\":{\"diverging\":[[0,\"#8e0152\"],[0.1,\"#c51b7d\"],[0.2,\"#de77ae\"],[0.3,\"#f1b6da\"],[0.4,\"#fde0ef\"],[0.5,\"#f7f7f7\"],[0.6,\"#e6f5d0\"],[0.7,\"#b8e186\"],[0.8,\"#7fbc41\"],[0.9,\"#4d9221\"],[1,\"#276419\"]],\"sequential\":[[0.0,\"#0d0887\"],[0.1111111111111111,\"#46039f\"],[0.2222222222222222,\"#7201a8\"],[0.3333333333333333,\"#9c179e\"],[0.4444444444444444,\"#bd3786\"],[0.5555555555555556,\"#d8576b\"],[0.6666666666666666,\"#ed7953\"],[0.7777777777777778,\"#fb9f3a\"],[0.8888888888888888,\"#fdca26\"],[1.0,\"#f0f921\"]],\"sequentialminus\":[[0.0,\"#0d0887\"],[0.1111111111111111,\"#46039f\"],[0.2222222222222222,\"#7201a8\"],[0.3333333333333333,\"#9c179e\"],[0.4444444444444444,\"#bd3786\"],[0.5555555555555556,\"#d8576b\"],[0.6666666666666666,\"#ed7953\"],[0.7777777777777778,\"#fb9f3a\"],[0.8888888888888888,\"#fdca26\"],[1.0,\"#f0f921\"]]},\"colorway\":[\"#636efa\",\"#EF553B\",\"#00cc96\",\"#ab63fa\",\"#FFA15A\",\"#19d3f3\",\"#FF6692\",\"#B6E880\",\"#FF97FF\",\"#FECB52\"],\"font\":{\"color\":\"#2a3f5f\"},\"geo\":{\"bgcolor\":\"white\",\"lakecolor\":\"white\",\"landcolor\":\"#E5ECF6\",\"showlakes\":true,\"showland\":true,\"subunitcolor\":\"white\"},\"hoverlabel\":{\"align\":\"left\"},\"hovermode\":\"closest\",\"mapbox\":{\"style\":\"light\"},\"paper_bgcolor\":\"white\",\"plot_bgcolor\":\"#E5ECF6\",\"polar\":{\"angularaxis\":{\"gridcolor\":\"white\",\"linecolor\":\"white\",\"ticks\":\"\"},\"bgcolor\":\"#E5ECF6\",\"radialaxis\":{\"gridcolor\":\"white\",\"linecolor\":\"white\",\"ticks\":\"\"}},\"scene\":{\"xaxis\":{\"backgroundcolor\":\"#E5ECF6\",\"gridcolor\":\"white\",\"gridwidth\":2,\"linecolor\":\"white\",\"showbackground\":true,\"ticks\":\"\",\"zerolinecolor\":\"white\"},\"yaxis\":{\"backgroundcolor\":\"#E5ECF6\",\"gridcolor\":\"white\",\"gridwidth\":2,\"linecolor\":\"white\",\"showbackground\":true,\"ticks\":\"\",\"zerolinecolor\":\"white\"},\"zaxis\":{\"backgroundcolor\":\"#E5ECF6\",\"gridcolor\":\"white\",\"gridwidth\":2,\"linecolor\":\"white\",\"showbackground\":true,\"ticks\":\"\",\"zerolinecolor\":\"white\"}},\"shapedefaults\":{\"line\":{\"color\":\"#2a3f5f\"}},\"ternary\":{\"aaxis\":{\"gridcolor\":\"white\",\"linecolor\":\"white\",\"ticks\":\"\"},\"baxis\":{\"gridcolor\":\"white\",\"linecolor\":\"white\",\"ticks\":\"\"},\"bgcolor\":\"#E5ECF6\",\"caxis\":{\"gridcolor\":\"white\",\"linecolor\":\"white\",\"ticks\":\"\"}},\"title\":{\"x\":0.05},\"xaxis\":{\"automargin\":true,\"gridcolor\":\"white\",\"linecolor\":\"white\",\"ticks\":\"\",\"title\":{\"standoff\":15},\"zerolinecolor\":\"white\",\"zerolinewidth\":2},\"yaxis\":{\"automargin\":true,\"gridcolor\":\"white\",\"linecolor\":\"white\",\"ticks\":\"\",\"title\":{\"standoff\":15},\"zerolinecolor\":\"white\",\"zerolinewidth\":2}}},\"xaxis\":{\"anchor\":\"y\",\"domain\":[0.0,1.0],\"title\":{\"text\":\"\\u03b8 (\\u00b0)\"}},\"yaxis\":{\"anchor\":\"x\",\"domain\":[0.0,1.0],\"title\":{\"text\":\"Count\"}},\"legend\":{\"tracegroupgap\":0},\"title\":{\"text\":\"Count/s vs Angle - \\u0394t = 5s - U = 25 V\"}},                        {\"responsive\": true}                    ).then(function(){\n",
              "                            \n",
              "var gd = document.getElementById('aab63da4-c2d8-413c-ad2e-309180a8746f');\n",
              "var x = new MutationObserver(function (mutations, observer) {{\n",
              "        var display = window.getComputedStyle(gd).display;\n",
              "        if (!display || display === 'none') {{\n",
              "            console.log([gd, 'removed!']);\n",
              "            Plotly.purge(gd);\n",
              "            observer.disconnect();\n",
              "        }}\n",
              "}});\n",
              "\n",
              "// Listen for the removal of the full notebook cells\n",
              "var notebookContainer = gd.closest('#notebook-container');\n",
              "if (notebookContainer) {{\n",
              "    x.observe(notebookContainer, {childList: true});\n",
              "}}\n",
              "\n",
              "// Listen for the clearing of the current output cell\n",
              "var outputEl = gd.closest('.output');\n",
              "if (outputEl) {{\n",
              "    x.observe(outputEl, {childList: true});\n",
              "}}\n",
              "\n",
              "                        })                };                            </script>        </div>\n",
              "</body>\n",
              "</html>"
            ]
          },
          "metadata": {}
        }
      ]
    },
    {
      "cell_type": "markdown",
      "source": [
        "**Creating dataframe to keep the λ values:**\n",
        "\n",
        "*  Store the θ values selected manually into a list.\n",
        "*  Use the nλ = 2dsin(θ) to convert the θ values into λ values and propagate the uncertaities.\n",
        "*  d = 0.282 nm, that is the same **d** applied before, the crystal parameter.\n",
        "*  n = 1 \n",
        "*  The values are the same for Δt = 1 s and Δt = 5 s.\n",
        "*  The values Emax: 18 keV, 25 keV, 28 keV, 30 keV, 35 keV. The uncertainty is 1%."
      ],
      "metadata": {
        "id": "-TSrLFFqWc6w"
      }
    },
    {
      "cell_type": "code",
      "source": [
        "# Crystal parameter d:\n",
        "d = 0.282*(10**(-9)) #meters\n",
        "\n",
        "thetas = [7, 5, 4.5, 4.1, 3.5] \n",
        "theta_sigma = 0.05\n",
        "\n",
        "lambdas = []\n",
        "lamda_sigma = []\n",
        "\n",
        "for i in range (len(thetas)):\n",
        "  lambdas.append(2*d*np.sin(thetas[i]*np.pi/180))\n",
        "  convert = np.cos(thetas[i]*np.pi/180)\n",
        "  sigma_lambda = 2*d*convert*theta_sigma\n",
        "  lamda_sigma.append(sigma_lambda)\n",
        "\n",
        "\n",
        "energy_lambda = pd.DataFrame({'λmin (m)': lambdas, 'σλ': lamda_sigma, 'Emax (keV)': [18, 25, 28, 30, 35], 'σE': [0.18, 0.25, 0.28, 0.30, 0.35]})\n",
        "energy_lambda"
      ],
      "metadata": {
        "colab": {
          "base_uri": "https://localhost:8080/",
          "height": 206
        },
        "id": "f_tpvCMBWoik",
        "outputId": "92be7d15-676b-49f7-df49-9acbf590a7c5"
      },
      "execution_count": 158,
      "outputs": [
        {
          "output_type": "execute_result",
          "data": {
            "text/plain": [
              "       λmin (m)            σλ  Emax (keV)    σE\n",
              "0  6.873431e-11  2.798980e-11          18  0.18\n",
              "1  4.915584e-11  2.809269e-11          25  0.25\n",
              "2  4.425093e-11  2.811307e-11          28  0.28\n",
              "3  4.032456e-11  2.812783e-11          30  0.30\n",
              "4  3.443138e-11  2.814740e-11          35  0.35"
            ],
            "text/html": [
              "\n",
              "  <div id=\"df-0268dc28-0e16-44f5-9f8c-06b0e0404ab1\">\n",
              "    <div class=\"colab-df-container\">\n",
              "      <div>\n",
              "<style scoped>\n",
              "    .dataframe tbody tr th:only-of-type {\n",
              "        vertical-align: middle;\n",
              "    }\n",
              "\n",
              "    .dataframe tbody tr th {\n",
              "        vertical-align: top;\n",
              "    }\n",
              "\n",
              "    .dataframe thead th {\n",
              "        text-align: right;\n",
              "    }\n",
              "</style>\n",
              "<table border=\"1\" class=\"dataframe\">\n",
              "  <thead>\n",
              "    <tr style=\"text-align: right;\">\n",
              "      <th></th>\n",
              "      <th>λmin (m)</th>\n",
              "      <th>σλ</th>\n",
              "      <th>Emax (keV)</th>\n",
              "      <th>σE</th>\n",
              "    </tr>\n",
              "  </thead>\n",
              "  <tbody>\n",
              "    <tr>\n",
              "      <th>0</th>\n",
              "      <td>6.873431e-11</td>\n",
              "      <td>2.798980e-11</td>\n",
              "      <td>18</td>\n",
              "      <td>0.18</td>\n",
              "    </tr>\n",
              "    <tr>\n",
              "      <th>1</th>\n",
              "      <td>4.915584e-11</td>\n",
              "      <td>2.809269e-11</td>\n",
              "      <td>25</td>\n",
              "      <td>0.25</td>\n",
              "    </tr>\n",
              "    <tr>\n",
              "      <th>2</th>\n",
              "      <td>4.425093e-11</td>\n",
              "      <td>2.811307e-11</td>\n",
              "      <td>28</td>\n",
              "      <td>0.28</td>\n",
              "    </tr>\n",
              "    <tr>\n",
              "      <th>3</th>\n",
              "      <td>4.032456e-11</td>\n",
              "      <td>2.812783e-11</td>\n",
              "      <td>30</td>\n",
              "      <td>0.30</td>\n",
              "    </tr>\n",
              "    <tr>\n",
              "      <th>4</th>\n",
              "      <td>3.443138e-11</td>\n",
              "      <td>2.814740e-11</td>\n",
              "      <td>35</td>\n",
              "      <td>0.35</td>\n",
              "    </tr>\n",
              "  </tbody>\n",
              "</table>\n",
              "</div>\n",
              "      <button class=\"colab-df-convert\" onclick=\"convertToInteractive('df-0268dc28-0e16-44f5-9f8c-06b0e0404ab1')\"\n",
              "              title=\"Convert this dataframe to an interactive table.\"\n",
              "              style=\"display:none;\">\n",
              "        \n",
              "  <svg xmlns=\"http://www.w3.org/2000/svg\" height=\"24px\"viewBox=\"0 0 24 24\"\n",
              "       width=\"24px\">\n",
              "    <path d=\"M0 0h24v24H0V0z\" fill=\"none\"/>\n",
              "    <path d=\"M18.56 5.44l.94 2.06.94-2.06 2.06-.94-2.06-.94-.94-2.06-.94 2.06-2.06.94zm-11 1L8.5 8.5l.94-2.06 2.06-.94-2.06-.94L8.5 2.5l-.94 2.06-2.06.94zm10 10l.94 2.06.94-2.06 2.06-.94-2.06-.94-.94-2.06-.94 2.06-2.06.94z\"/><path d=\"M17.41 7.96l-1.37-1.37c-.4-.4-.92-.59-1.43-.59-.52 0-1.04.2-1.43.59L10.3 9.45l-7.72 7.72c-.78.78-.78 2.05 0 2.83L4 21.41c.39.39.9.59 1.41.59.51 0 1.02-.2 1.41-.59l7.78-7.78 2.81-2.81c.8-.78.8-2.07 0-2.86zM5.41 20L4 18.59l7.72-7.72 1.47 1.35L5.41 20z\"/>\n",
              "  </svg>\n",
              "      </button>\n",
              "      \n",
              "  <style>\n",
              "    .colab-df-container {\n",
              "      display:flex;\n",
              "      flex-wrap:wrap;\n",
              "      gap: 12px;\n",
              "    }\n",
              "\n",
              "    .colab-df-convert {\n",
              "      background-color: #E8F0FE;\n",
              "      border: none;\n",
              "      border-radius: 50%;\n",
              "      cursor: pointer;\n",
              "      display: none;\n",
              "      fill: #1967D2;\n",
              "      height: 32px;\n",
              "      padding: 0 0 0 0;\n",
              "      width: 32px;\n",
              "    }\n",
              "\n",
              "    .colab-df-convert:hover {\n",
              "      background-color: #E2EBFA;\n",
              "      box-shadow: 0px 1px 2px rgba(60, 64, 67, 0.3), 0px 1px 3px 1px rgba(60, 64, 67, 0.15);\n",
              "      fill: #174EA6;\n",
              "    }\n",
              "\n",
              "    [theme=dark] .colab-df-convert {\n",
              "      background-color: #3B4455;\n",
              "      fill: #D2E3FC;\n",
              "    }\n",
              "\n",
              "    [theme=dark] .colab-df-convert:hover {\n",
              "      background-color: #434B5C;\n",
              "      box-shadow: 0px 1px 3px 1px rgba(0, 0, 0, 0.15);\n",
              "      filter: drop-shadow(0px 1px 2px rgba(0, 0, 0, 0.3));\n",
              "      fill: #FFFFFF;\n",
              "    }\n",
              "  </style>\n",
              "\n",
              "      <script>\n",
              "        const buttonEl =\n",
              "          document.querySelector('#df-0268dc28-0e16-44f5-9f8c-06b0e0404ab1 button.colab-df-convert');\n",
              "        buttonEl.style.display =\n",
              "          google.colab.kernel.accessAllowed ? 'block' : 'none';\n",
              "\n",
              "        async function convertToInteractive(key) {\n",
              "          const element = document.querySelector('#df-0268dc28-0e16-44f5-9f8c-06b0e0404ab1');\n",
              "          const dataTable =\n",
              "            await google.colab.kernel.invokeFunction('convertToInteractive',\n",
              "                                                     [key], {});\n",
              "          if (!dataTable) return;\n",
              "\n",
              "          const docLinkHtml = 'Like what you see? Visit the ' +\n",
              "            '<a target=\"_blank\" href=https://colab.research.google.com/notebooks/data_table.ipynb>data table notebook</a>'\n",
              "            + ' to learn more about interactive tables.';\n",
              "          element.innerHTML = '';\n",
              "          dataTable['output_type'] = 'display_data';\n",
              "          await google.colab.output.renderOutput(dataTable, element);\n",
              "          const docLink = document.createElement('div');\n",
              "          docLink.innerHTML = docLinkHtml;\n",
              "          element.appendChild(docLink);\n",
              "        }\n",
              "      </script>\n",
              "    </div>\n",
              "  </div>\n",
              "  "
            ]
          },
          "metadata": {},
          "execution_count": 158
        }
      ]
    },
    {
      "cell_type": "markdown",
      "source": [
        "**Plotting the Emax X λmin graphs:**\n",
        "\n"
      ],
      "metadata": {
        "id": "qWtYw1FiddY5"
      }
    },
    {
      "cell_type": "code",
      "source": [
        "figure3 = px.line(energy_lambda, x='λmin (m)', y='Emax (keV)', title = 'Emax X λmin - Dataset 2', error_y=energy_lambda['σE'], error_x=energy_lambda['σλ'])\n",
        "figure3"
      ],
      "metadata": {
        "id": "S96CJaMPkAGq",
        "colab": {
          "base_uri": "https://localhost:8080/",
          "height": 542
        },
        "outputId": "43ca3ca4-30fb-407f-d02f-a0d15947b81b"
      },
      "execution_count": 159,
      "outputs": [
        {
          "output_type": "display_data",
          "data": {
            "text/html": [
              "<html>\n",
              "<head><meta charset=\"utf-8\" /></head>\n",
              "<body>\n",
              "    <div>            <script src=\"https://cdnjs.cloudflare.com/ajax/libs/mathjax/2.7.5/MathJax.js?config=TeX-AMS-MML_SVG\"></script><script type=\"text/javascript\">if (window.MathJax) {MathJax.Hub.Config({SVG: {font: \"STIX-Web\"}});}</script>                <script type=\"text/javascript\">window.PlotlyConfig = {MathJaxConfig: 'local'};</script>\n",
              "        <script src=\"https://cdn.plot.ly/plotly-2.8.3.min.js\"></script>                <div id=\"51b9ee2c-07d2-4a39-b366-fdc6c4a77b94\" class=\"plotly-graph-div\" style=\"height:525px; width:100%;\"></div>            <script type=\"text/javascript\">                                    window.PLOTLYENV=window.PLOTLYENV || {};                                    if (document.getElementById(\"51b9ee2c-07d2-4a39-b366-fdc6c4a77b94\")) {                    Plotly.newPlot(                        \"51b9ee2c-07d2-4a39-b366-fdc6c4a77b94\",                        [{\"error_x\":{\"array\":[2.7989801476285285e-11,2.8092690486187227e-11,2.811306881127421e-11,2.8127830078652622e-11,2.8147401315496647e-11]},\"error_y\":{\"array\":[0.18,0.25,0.28,0.3,0.35]},\"hovertemplate\":\"\\u03bbmin (m)=%{x}<br>Emax (keV)=%{y}<extra></extra>\",\"legendgroup\":\"\",\"line\":{\"color\":\"#636efa\",\"dash\":\"solid\"},\"marker\":{\"symbol\":\"circle\"},\"mode\":\"lines\",\"name\":\"\",\"orientation\":\"v\",\"showlegend\":false,\"x\":[6.873430968050318e-11,4.915583890967921e-11,4.425092999050455e-11,4.0324558603634855e-11,3.443137629765928e-11],\"xaxis\":\"x\",\"y\":[18,25,28,30,35],\"yaxis\":\"y\",\"type\":\"scatter\"}],                        {\"template\":{\"data\":{\"bar\":[{\"error_x\":{\"color\":\"#2a3f5f\"},\"error_y\":{\"color\":\"#2a3f5f\"},\"marker\":{\"line\":{\"color\":\"#E5ECF6\",\"width\":0.5},\"pattern\":{\"fillmode\":\"overlay\",\"size\":10,\"solidity\":0.2}},\"type\":\"bar\"}],\"barpolar\":[{\"marker\":{\"line\":{\"color\":\"#E5ECF6\",\"width\":0.5},\"pattern\":{\"fillmode\":\"overlay\",\"size\":10,\"solidity\":0.2}},\"type\":\"barpolar\"}],\"carpet\":[{\"aaxis\":{\"endlinecolor\":\"#2a3f5f\",\"gridcolor\":\"white\",\"linecolor\":\"white\",\"minorgridcolor\":\"white\",\"startlinecolor\":\"#2a3f5f\"},\"baxis\":{\"endlinecolor\":\"#2a3f5f\",\"gridcolor\":\"white\",\"linecolor\":\"white\",\"minorgridcolor\":\"white\",\"startlinecolor\":\"#2a3f5f\"},\"type\":\"carpet\"}],\"choropleth\":[{\"colorbar\":{\"outlinewidth\":0,\"ticks\":\"\"},\"type\":\"choropleth\"}],\"contour\":[{\"colorbar\":{\"outlinewidth\":0,\"ticks\":\"\"},\"colorscale\":[[0.0,\"#0d0887\"],[0.1111111111111111,\"#46039f\"],[0.2222222222222222,\"#7201a8\"],[0.3333333333333333,\"#9c179e\"],[0.4444444444444444,\"#bd3786\"],[0.5555555555555556,\"#d8576b\"],[0.6666666666666666,\"#ed7953\"],[0.7777777777777778,\"#fb9f3a\"],[0.8888888888888888,\"#fdca26\"],[1.0,\"#f0f921\"]],\"type\":\"contour\"}],\"contourcarpet\":[{\"colorbar\":{\"outlinewidth\":0,\"ticks\":\"\"},\"type\":\"contourcarpet\"}],\"heatmap\":[{\"colorbar\":{\"outlinewidth\":0,\"ticks\":\"\"},\"colorscale\":[[0.0,\"#0d0887\"],[0.1111111111111111,\"#46039f\"],[0.2222222222222222,\"#7201a8\"],[0.3333333333333333,\"#9c179e\"],[0.4444444444444444,\"#bd3786\"],[0.5555555555555556,\"#d8576b\"],[0.6666666666666666,\"#ed7953\"],[0.7777777777777778,\"#fb9f3a\"],[0.8888888888888888,\"#fdca26\"],[1.0,\"#f0f921\"]],\"type\":\"heatmap\"}],\"heatmapgl\":[{\"colorbar\":{\"outlinewidth\":0,\"ticks\":\"\"},\"colorscale\":[[0.0,\"#0d0887\"],[0.1111111111111111,\"#46039f\"],[0.2222222222222222,\"#7201a8\"],[0.3333333333333333,\"#9c179e\"],[0.4444444444444444,\"#bd3786\"],[0.5555555555555556,\"#d8576b\"],[0.6666666666666666,\"#ed7953\"],[0.7777777777777778,\"#fb9f3a\"],[0.8888888888888888,\"#fdca26\"],[1.0,\"#f0f921\"]],\"type\":\"heatmapgl\"}],\"histogram\":[{\"marker\":{\"pattern\":{\"fillmode\":\"overlay\",\"size\":10,\"solidity\":0.2}},\"type\":\"histogram\"}],\"histogram2d\":[{\"colorbar\":{\"outlinewidth\":0,\"ticks\":\"\"},\"colorscale\":[[0.0,\"#0d0887\"],[0.1111111111111111,\"#46039f\"],[0.2222222222222222,\"#7201a8\"],[0.3333333333333333,\"#9c179e\"],[0.4444444444444444,\"#bd3786\"],[0.5555555555555556,\"#d8576b\"],[0.6666666666666666,\"#ed7953\"],[0.7777777777777778,\"#fb9f3a\"],[0.8888888888888888,\"#fdca26\"],[1.0,\"#f0f921\"]],\"type\":\"histogram2d\"}],\"histogram2dcontour\":[{\"colorbar\":{\"outlinewidth\":0,\"ticks\":\"\"},\"colorscale\":[[0.0,\"#0d0887\"],[0.1111111111111111,\"#46039f\"],[0.2222222222222222,\"#7201a8\"],[0.3333333333333333,\"#9c179e\"],[0.4444444444444444,\"#bd3786\"],[0.5555555555555556,\"#d8576b\"],[0.6666666666666666,\"#ed7953\"],[0.7777777777777778,\"#fb9f3a\"],[0.8888888888888888,\"#fdca26\"],[1.0,\"#f0f921\"]],\"type\":\"histogram2dcontour\"}],\"mesh3d\":[{\"colorbar\":{\"outlinewidth\":0,\"ticks\":\"\"},\"type\":\"mesh3d\"}],\"parcoords\":[{\"line\":{\"colorbar\":{\"outlinewidth\":0,\"ticks\":\"\"}},\"type\":\"parcoords\"}],\"pie\":[{\"automargin\":true,\"type\":\"pie\"}],\"scatter\":[{\"marker\":{\"colorbar\":{\"outlinewidth\":0,\"ticks\":\"\"}},\"type\":\"scatter\"}],\"scatter3d\":[{\"line\":{\"colorbar\":{\"outlinewidth\":0,\"ticks\":\"\"}},\"marker\":{\"colorbar\":{\"outlinewidth\":0,\"ticks\":\"\"}},\"type\":\"scatter3d\"}],\"scattercarpet\":[{\"marker\":{\"colorbar\":{\"outlinewidth\":0,\"ticks\":\"\"}},\"type\":\"scattercarpet\"}],\"scattergeo\":[{\"marker\":{\"colorbar\":{\"outlinewidth\":0,\"ticks\":\"\"}},\"type\":\"scattergeo\"}],\"scattergl\":[{\"marker\":{\"colorbar\":{\"outlinewidth\":0,\"ticks\":\"\"}},\"type\":\"scattergl\"}],\"scattermapbox\":[{\"marker\":{\"colorbar\":{\"outlinewidth\":0,\"ticks\":\"\"}},\"type\":\"scattermapbox\"}],\"scatterpolar\":[{\"marker\":{\"colorbar\":{\"outlinewidth\":0,\"ticks\":\"\"}},\"type\":\"scatterpolar\"}],\"scatterpolargl\":[{\"marker\":{\"colorbar\":{\"outlinewidth\":0,\"ticks\":\"\"}},\"type\":\"scatterpolargl\"}],\"scatterternary\":[{\"marker\":{\"colorbar\":{\"outlinewidth\":0,\"ticks\":\"\"}},\"type\":\"scatterternary\"}],\"surface\":[{\"colorbar\":{\"outlinewidth\":0,\"ticks\":\"\"},\"colorscale\":[[0.0,\"#0d0887\"],[0.1111111111111111,\"#46039f\"],[0.2222222222222222,\"#7201a8\"],[0.3333333333333333,\"#9c179e\"],[0.4444444444444444,\"#bd3786\"],[0.5555555555555556,\"#d8576b\"],[0.6666666666666666,\"#ed7953\"],[0.7777777777777778,\"#fb9f3a\"],[0.8888888888888888,\"#fdca26\"],[1.0,\"#f0f921\"]],\"type\":\"surface\"}],\"table\":[{\"cells\":{\"fill\":{\"color\":\"#EBF0F8\"},\"line\":{\"color\":\"white\"}},\"header\":{\"fill\":{\"color\":\"#C8D4E3\"},\"line\":{\"color\":\"white\"}},\"type\":\"table\"}]},\"layout\":{\"annotationdefaults\":{\"arrowcolor\":\"#2a3f5f\",\"arrowhead\":0,\"arrowwidth\":1},\"autotypenumbers\":\"strict\",\"coloraxis\":{\"colorbar\":{\"outlinewidth\":0,\"ticks\":\"\"}},\"colorscale\":{\"diverging\":[[0,\"#8e0152\"],[0.1,\"#c51b7d\"],[0.2,\"#de77ae\"],[0.3,\"#f1b6da\"],[0.4,\"#fde0ef\"],[0.5,\"#f7f7f7\"],[0.6,\"#e6f5d0\"],[0.7,\"#b8e186\"],[0.8,\"#7fbc41\"],[0.9,\"#4d9221\"],[1,\"#276419\"]],\"sequential\":[[0.0,\"#0d0887\"],[0.1111111111111111,\"#46039f\"],[0.2222222222222222,\"#7201a8\"],[0.3333333333333333,\"#9c179e\"],[0.4444444444444444,\"#bd3786\"],[0.5555555555555556,\"#d8576b\"],[0.6666666666666666,\"#ed7953\"],[0.7777777777777778,\"#fb9f3a\"],[0.8888888888888888,\"#fdca26\"],[1.0,\"#f0f921\"]],\"sequentialminus\":[[0.0,\"#0d0887\"],[0.1111111111111111,\"#46039f\"],[0.2222222222222222,\"#7201a8\"],[0.3333333333333333,\"#9c179e\"],[0.4444444444444444,\"#bd3786\"],[0.5555555555555556,\"#d8576b\"],[0.6666666666666666,\"#ed7953\"],[0.7777777777777778,\"#fb9f3a\"],[0.8888888888888888,\"#fdca26\"],[1.0,\"#f0f921\"]]},\"colorway\":[\"#636efa\",\"#EF553B\",\"#00cc96\",\"#ab63fa\",\"#FFA15A\",\"#19d3f3\",\"#FF6692\",\"#B6E880\",\"#FF97FF\",\"#FECB52\"],\"font\":{\"color\":\"#2a3f5f\"},\"geo\":{\"bgcolor\":\"white\",\"lakecolor\":\"white\",\"landcolor\":\"#E5ECF6\",\"showlakes\":true,\"showland\":true,\"subunitcolor\":\"white\"},\"hoverlabel\":{\"align\":\"left\"},\"hovermode\":\"closest\",\"mapbox\":{\"style\":\"light\"},\"paper_bgcolor\":\"white\",\"plot_bgcolor\":\"#E5ECF6\",\"polar\":{\"angularaxis\":{\"gridcolor\":\"white\",\"linecolor\":\"white\",\"ticks\":\"\"},\"bgcolor\":\"#E5ECF6\",\"radialaxis\":{\"gridcolor\":\"white\",\"linecolor\":\"white\",\"ticks\":\"\"}},\"scene\":{\"xaxis\":{\"backgroundcolor\":\"#E5ECF6\",\"gridcolor\":\"white\",\"gridwidth\":2,\"linecolor\":\"white\",\"showbackground\":true,\"ticks\":\"\",\"zerolinecolor\":\"white\"},\"yaxis\":{\"backgroundcolor\":\"#E5ECF6\",\"gridcolor\":\"white\",\"gridwidth\":2,\"linecolor\":\"white\",\"showbackground\":true,\"ticks\":\"\",\"zerolinecolor\":\"white\"},\"zaxis\":{\"backgroundcolor\":\"#E5ECF6\",\"gridcolor\":\"white\",\"gridwidth\":2,\"linecolor\":\"white\",\"showbackground\":true,\"ticks\":\"\",\"zerolinecolor\":\"white\"}},\"shapedefaults\":{\"line\":{\"color\":\"#2a3f5f\"}},\"ternary\":{\"aaxis\":{\"gridcolor\":\"white\",\"linecolor\":\"white\",\"ticks\":\"\"},\"baxis\":{\"gridcolor\":\"white\",\"linecolor\":\"white\",\"ticks\":\"\"},\"bgcolor\":\"#E5ECF6\",\"caxis\":{\"gridcolor\":\"white\",\"linecolor\":\"white\",\"ticks\":\"\"}},\"title\":{\"x\":0.05},\"xaxis\":{\"automargin\":true,\"gridcolor\":\"white\",\"linecolor\":\"white\",\"ticks\":\"\",\"title\":{\"standoff\":15},\"zerolinecolor\":\"white\",\"zerolinewidth\":2},\"yaxis\":{\"automargin\":true,\"gridcolor\":\"white\",\"linecolor\":\"white\",\"ticks\":\"\",\"title\":{\"standoff\":15},\"zerolinecolor\":\"white\",\"zerolinewidth\":2}}},\"xaxis\":{\"anchor\":\"y\",\"domain\":[0.0,1.0],\"title\":{\"text\":\"\\u03bbmin (m)\"}},\"yaxis\":{\"anchor\":\"x\",\"domain\":[0.0,1.0],\"title\":{\"text\":\"Emax (keV)\"}},\"legend\":{\"tracegroupgap\":0},\"title\":{\"text\":\"Emax X \\u03bbmin - Dataset 2\"}},                        {\"responsive\": true}                    ).then(function(){\n",
              "                            \n",
              "var gd = document.getElementById('51b9ee2c-07d2-4a39-b366-fdc6c4a77b94');\n",
              "var x = new MutationObserver(function (mutations, observer) {{\n",
              "        var display = window.getComputedStyle(gd).display;\n",
              "        if (!display || display === 'none') {{\n",
              "            console.log([gd, 'removed!']);\n",
              "            Plotly.purge(gd);\n",
              "            observer.disconnect();\n",
              "        }}\n",
              "}});\n",
              "\n",
              "// Listen for the removal of the full notebook cells\n",
              "var notebookContainer = gd.closest('#notebook-container');\n",
              "if (notebookContainer) {{\n",
              "    x.observe(notebookContainer, {childList: true});\n",
              "}}\n",
              "\n",
              "// Listen for the clearing of the current output cell\n",
              "var outputEl = gd.closest('.output');\n",
              "if (outputEl) {{\n",
              "    x.observe(outputEl, {childList: true});\n",
              "}}\n",
              "\n",
              "                        })                };                            </script>        </div>\n",
              "</body>\n",
              "</html>"
            ]
          },
          "metadata": {}
        }
      ]
    },
    {
      "cell_type": "markdown",
      "source": [
        "**Fitting with curve_fit:**\n",
        "\n",
        "*   The energy was is multiplied by 1000 so the **h** value is given in eV.\n",
        "*   The plot is λmin X Energy so I can use the λ uncertainties in curve_fit."
      ],
      "metadata": {
        "id": "c25Oool1AIcv"
      }
    },
    {
      "cell_type": "code",
      "source": [
        "def fun (x, h): \n",
        "    c = 3*10**8 #m/s\n",
        "    return (h*c)/x  #Here I am multiplying by 1 to symbolize the e (electron charge) value. \n",
        "\n",
        "popt_fun, pcov_fun = curve_fit(fun, energy_lambda['Emax (keV)']*1000, energy_lambda['λmin (m)'] , sigma=energy_lambda['σλ'])\n",
        "a_fun = popt_fun[0]\n",
        "plt.plot(energy_lambda['Emax (keV)']*1000, energy_lambda['λmin (m)'], 'bo', label='Data')\n",
        "plt.errorbar(energy_lambda['Emax (keV)']*1000, energy_lambda['λmin (m)'], xerr=energy_lambda['σE']*1000, yerr=energy_lambda['σλ'], color='b')\n",
        "plt.plot(energy_lambda['Emax (keV)']*1000, fun(energy_lambda['Emax (keV)']*1000, *popt_fun), color='r', label='Fit', lw=4)\n",
        "plt.ylabel('λmin (m)')\n",
        "plt.xlabel('Emax (eV)')\n",
        "plt.grid()\n",
        "plt.legend()\n",
        "print('Params:','\\n',popt_fun, '\\n','\\n','Cov matrix:','\\n', pcov_fun)"
      ],
      "metadata": {
        "colab": {
          "base_uri": "https://localhost:8080/",
          "height": 377
        },
        "id": "aRxT5Il_x8_K",
        "outputId": "de472b1e-2c48-4ec6-dd47-dfa87a0158b6"
      },
      "execution_count": 160,
      "outputs": [
        {
          "output_type": "stream",
          "name": "stdout",
          "text": [
            "Params: \n",
            " [4.09555628e-15] \n",
            " \n",
            " Cov matrix: \n",
            " [[4.26263502e-34]]\n"
          ]
        },
        {
          "output_type": "display_data",
          "data": {
            "text/plain": [
              "<Figure size 432x288 with 1 Axes>"
            ],
            "image/png": "[encoded data removed]"
          },
          "metadata": {
            "needs_background": "light"
          }
        }
      ]
    },
    {
      "cell_type": "markdown",
      "source": [
        "**Checking the percentage deviation from theoritical value:**\n",
        "\n",
        "*   Theoritical value: $4.13566743 × 10^{-15}$ eV . s"
      ],
      "metadata": {
        "id": "zhKLbFl7JyN6"
      }
    },
    {
      "cell_type": "code",
      "source": [
        "dev = (abs(4.09555628e-15 - 4.13566743e-15)/(4.13566743e-15))*100\n",
        "print('The percentage deviation is:', dev)"
      ],
      "metadata": {
        "colab": {
          "base_uri": "https://localhost:8080/"
        },
        "id": "o8f0DrVPEK0d",
        "outputId": "be85053e-cb84-411c-f144-4490ac5443d3"
      },
      "execution_count": 161,
      "outputs": [
        {
          "output_type": "stream",
          "name": "stdout",
          "text": [
            "The percentage deviation is: 0.9698833544746697\n"
          ]
        }
      ]
    }
  ]
}