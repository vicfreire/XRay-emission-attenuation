{
  "nbformat": 4,
  "nbformat_minor": 0,
  "metadata": {
    "colab": {
      "name": "X-Ray Production - Project.ipynb",
      "provenance": []
    },
    "kernelspec": {
      "name": "python3",
      "display_name": "Python 3"
    },
    "language_info": {
      "name": "python"
    }
  },
  "cells": [
    {
      "cell_type": "markdown",
      "source": [
        "#**X-Ray Production**\n",
        "\n",
        "**Observations:**\n",
        "\n",
        "This experiment was peformed at the Institute of Physics, University of São Paulo in 2022 and it is part of modern physics laboratory classes. It was used NaCl to diffract X-Ray. \n",
        "\n",
        "**Experiment main goals:**\n",
        "\n",
        "1.   To determine the X-Ray emission spectra of Mo tube (Count vs Energy): characteristic radiation and bremsstrahlung radiation.\n",
        "2.   To determine the Planck constant from the bremsstrahlung radiation.\n",
        "3.   To evaluate the relation between θmin and acceleration potencial difference (or Emax) (V).\n",
        "\n",
        "OBS.: the potential difference is sometimes refered as ddp in the code, which comes from 'diferença de potencial' in portuguese\n",
        "\n",
        "**Datasets observations:**\n",
        "\n",
        "\n",
        "\n",
        "*   The first dataset consists of 3 subsets at the angle range from θmin = 2.5̊  and θmax = 30̊ , Δt = 1s, Δθ = 0.1̊ , I = 1 mA and U = 35 kV.\n",
        "*   The second dataset consists of 10 subsets with 5 different tension values, and for each tension value there is 2 values of Δt: 1s and 5s. All subsets were measured at the angle range from θmin = 2.5̊  and θmax = 12̊, I = 1 mA, and Δθ = 0.1̊. The tension values are: 18 kV, 25 kV, 28 kV, 30 kV and 35 kV.\n",
        "\n",
        "\n",
        "**Experiment observations:**\n",
        "\n",
        "\n",
        "\n",
        "*   The uncertainty in maximum energy (θmin) is 1%.\n",
        "*   The equipament uncertainty in θ is 0.05̊.\n",
        "*   The equipment software delivers the count  column divided by Δt, so in the case of sets where Δt = 5s we have to multiply the count column by 5 and then add the influence of time in the uncertainty calculation: σ(N) = $\\sqrt{N}$/Δt.\n",
        "\n",
        "\n"
      ],
      "metadata": {
        "id": "88warHV9CJvK"
      }
    },
    {
      "cell_type": "markdown",
      "source": [
        "**Importing libraries:**"
      ],
      "metadata": {
        "id": "s0QvwYcjMsw_"
      }
    },
    {
      "cell_type": "code",
      "source": [
        "from google.colab import drive\n",
        "drive.mount('/content/drive')\n",
        "\n",
        "import pandas as pd\n",
        "import numpy as np\n",
        "import matplotlib.pyplot as plt\n",
        "import seaborn as sns\n",
        "import plotly.express as px\n",
        "import plotly.graph_objects as go\n",
        "from scipy.optimize import curve_fit\n",
        "from scipy.stats import norm\n",
        "from scipy.stats import linregress as lr\n",
        "from scipy import odr\n",
        "import math"
      ],
      "metadata": {
        "id": "qqVCTEwRLcWI"
      },
      "execution_count": null,
      "outputs": []
    },
    {
      "cell_type": "markdown",
      "source": [
        "#**Dataset 1:**\n",
        "\n",
        "*   Comment qualitatively the observed spectra (continuous spectra and characteristic lines).\n",
        "*   How to evaluate the experimental uncertainties?\n",
        "*   Does the characteristic energies match to the expected ones?\n",
        "*   Does the angles to n=2 and n=3 match to the expected ones?\n",
        "\n",
        "**Analysis infos:**\n",
        "\n",
        "*   The X-Ray detection obbey the Poisson distribution function. That is why the uncertanty is given by σ(N) = $\\sqrt{N}$/Δt (N is the sum of the photons in time interval Δt).\n",
        "*   To calculate characteristic peaks (kα and kβ) energies, first we obtain λ from θ values applied in Bragg equation **nλ = 2dsin(θ)**, where d = 0.282 nm (d value for NaCl), n=1. To calculate energy we calculate **E = hc/λ**.\n",
        "   * **h = $4.14×10^{−15}$  eV s**\n",
        "   * **c =  $3×10^8$  m/s**\n",
        "*   To verify the angles for n = 2 and n = 3 we apply the λ found for n = 1 and compare them with the values from the graph curves. \n",
        "*   The expected values for kα and kβ are:\n",
        "    * **kα = 17.44 eV**\n",
        "    * **kβ = 19.60 eV**\n",
        "\n",
        "\n",
        "\n"
      ],
      "metadata": {
        "id": "cKrSnW_-OmRR"
      }
    },
    {
      "cell_type": "markdown",
      "source": [
        "**Reading datasets:**"
      ],
      "metadata": {
        "id": "aXU3fX6VMzdG"
      }
    },
    {
      "cell_type": "code",
      "source": [
        "def read_c1(num):\n",
        "  num = str(num)\n",
        "  d1 = np.loadtxt(f'/content/drive/MyDrive/Raio X/Raio X/Dados/c1-{num}.txt', skiprows=1, dtype=np.str)\n",
        "  d2 = np.char.replace(d1, ',', '.').astype(np.float64)\n",
        "  d3 = pd.DataFrame(d2, columns=['\\u03B8 (°)','Count'])\n",
        "  return d3\n",
        "\n",
        " \n",
        "\n",
        "#Dataset 1:\n",
        "c1_1 = read_c1(1)  #subset 1\n",
        "c1_2 = read_c1(2)  #subset 2\n",
        "c1_3 = read_c1(3)  #subset 3\n"
      ],
      "metadata": {
        "id": "47-Vrb7XM2-2"
      },
      "execution_count": null,
      "outputs": []
    },
    {
      "cell_type": "markdown",
      "source": [
        "**Checking datasets:**"
      ],
      "metadata": {
        "id": "vT-A7jYmN-6J"
      }
    },
    {
      "cell_type": "code",
      "source": [
        "c1_1"
      ],
      "metadata": {
        "id": "Gs_mg_ngOCSp"
      },
      "execution_count": null,
      "outputs": []
    },
    {
      "cell_type": "markdown",
      "source": [
        "**Merging the 3 subsets from dataset 1 to a dataset called c1 and calculating the uncertainty in total count:**"
      ],
      "metadata": {
        "id": "69Q4M1heWYJx"
      }
    },
    {
      "cell_type": "code",
      "source": [
        "merge1c1 = pd.merge(c1_1, c1_2, how='outer', on = '\\u03B8 (°)')\n",
        "c1 = pd.merge(merge1c1, c1_3, how='outer', on = '\\u03B8 (°)')\n",
        "c1.columns = ['\\u03B8 (°)', 'Count 1', 'Count 2', 'Count 3']\n",
        "\n",
        "#Add the extra column summing the column values up and the column with uncertainties:\n",
        "c1['Count Total'] = c1['Count 1'] + c1['Count 2'] + c1['Count 3']\n",
        "c1['σ count'] = np.sqrt(c1['Count Total'])\n",
        "c1['σ\\u03B8 (°)'] = 0.05"
      ],
      "metadata": {
        "id": "VavQBZ70WUEJ"
      },
      "execution_count": null,
      "outputs": []
    },
    {
      "cell_type": "markdown",
      "source": [
        "Checking the dataset c1:"
      ],
      "metadata": {
        "id": "Cn619bjW5XwF"
      }
    },
    {
      "cell_type": "code",
      "source": [
        "c1"
      ],
      "metadata": {
        "id": "cI7f4hh35S3T"
      },
      "execution_count": null,
      "outputs": []
    },
    {
      "cell_type": "markdown",
      "source": [
        "**Plotting the 3 subsets together:**"
      ],
      "metadata": {
        "id": "Rk0foK3KWzYm"
      }
    },
    {
      "cell_type": "code",
      "source": [
        "p1 = go.Scatter(x=c1['\\u03B8 (°)'], y=c1['Count 1'], mode='lines', name='Count 1')\n",
        "p2 = go.Scatter(x=c1['\\u03B8 (°)'], y=c1['Count 2'], mode='lines', name='Count 2')\n",
        "p3 = go.Scatter(x=c1['\\u03B8 (°)'], y=c1['Count 3'], mode='lines', name='Count 3')\n",
        "\n",
        "plots1 = [p1,p2,p3]\n",
        "layout1 = go.Layout(title='X-Ray detection - Dataset 1')\n",
        "figure1 = go.Figure(data=plots1, layout=layout1)\n",
        "figure1"
      ],
      "metadata": {
        "id": "6qJrJF2jW4XO"
      },
      "execution_count": null,
      "outputs": []
    },
    {
      "cell_type": "markdown",
      "source": [
        "**Plotting the total count:**\n",
        "\n",
        "This is done to improve statistics."
      ],
      "metadata": {
        "id": "rKeQ5lMQXIlE"
      }
    },
    {
      "cell_type": "code",
      "source": [
        "figure2 = px.line(c1, x='\\u03B8 (°)', y='Count Total', title = 'X-Ray Detection - Total Count', error_y=c1['σ count'], error_x=c1['σθ (°)'])\n",
        "figure2"
      ],
      "metadata": {
        "id": "wmXJTXdpXYdC"
      },
      "execution_count": null,
      "outputs": []
    },
    {
      "cell_type": "markdown",
      "source": [
        "**Selecting peaks to fit gaussian for n=1:**\n",
        "\n"
      ],
      "metadata": {
        "id": "x4sD9T2OYTdE"
      }
    },
    {
      "cell_type": "code",
      "source": [
        "c1x = c1['θ (°)']\n",
        "c1y = c1['Count Total']\n",
        "c1_s = c1['σ count']\n",
        "c1_s_angle = c1['σθ (°)']\n",
        "\n",
        "#kβ:\n",
        "c1x_b = c1x[(c1x >= 6.1) & (c1x <= 6.6)] # x values for kβ peak\n",
        "c1y_b = c1y[(c1x >= 6.1) & (c1x <= 6.6)] # y values for kβ peak\n",
        "c1_s_b = c1_s[(c1x >= 6.1) & (c1x <= 6.6)] # sigma count values for kβ peak\n",
        "c1_s_angle_b = c1_s_angle[(c1x >= 6.1) & (c1x <= 6.6)] # sigma angle for kβ peak\n",
        "c1_b = pd.DataFrame({'x': c1x_b,'y': c1y_b, 'sy':c1_s_b, 'sx': c1_s_angle_b})\n",
        "\n",
        "#kα:\n",
        "c1x_a = c1x[(c1x >= 6.9) & (c1x <= 7.6)] # x values for kα peak\n",
        "c1y_a = c1y[(c1x >= 6.9) & (c1x <= 7.6)] # y values for kα peak\n",
        "c1_s_a = c1_s[(c1x >= 6.9) & (c1x <= 7.6)] # sigma count values for kα peak \n",
        "c1_s_angle_a = c1_s_angle[(c1x >= 6.9) & (c1x <= 7.6)] # sigma angle for kα peak\n",
        "c1_a = pd.DataFrame({'x': c1x_a,'y': c1y_a, 'sy':c1_s_a, 'sx': c1_s_angle_a})\n",
        "\n",
        "#Checking the .describe() function:\n",
        "\n",
        "c1x_a.describe()"
      ],
      "metadata": {
        "id": "cfyluNhcYhpP"
      },
      "execution_count": null,
      "outputs": []
    },
    {
      "cell_type": "code",
      "source": [
        "c1_a"
      ],
      "metadata": {
        "id": "OIUre1hF6jdW"
      },
      "execution_count": null,
      "outputs": []
    },
    {
      "cell_type": "markdown",
      "source": [
        "**The fitting was performed in two different ways: lmfit and scipy curve_fit**"
      ],
      "metadata": {
        "id": "DjPXc9_-aMM_"
      }
    },
    {
      "cell_type": "markdown",
      "source": [
        "#**Fitting with lmfit**\n",
        "\n",
        "*  It is not included here the count uncertainties."
      ],
      "metadata": {
        "id": "izWwzRuFas4l"
      }
    },
    {
      "cell_type": "code",
      "source": [
        "!pip install lmfit"
      ],
      "metadata": {
        "id": "INyiAuSraqx3"
      },
      "execution_count": null,
      "outputs": []
    },
    {
      "cell_type": "code",
      "source": [
        "from lmfit import Model\n",
        "\n",
        "def gaussian(x, amp, cen, wid):\n",
        "    return amp*np.exp(-(x-cen)**2/(2*wid**2))\n",
        "\n",
        "#Fitting kβ:\n",
        "b_gmodel = Model(gaussian)\n",
        "b_result = b_gmodel.fit(c1_b['y'], x=c1x_b, amp=2700, cen=6.3, wid=0.2)\n",
        "print(b_result.fit_report())\n",
        "\n",
        "\n",
        "plt.plot(c1x_b, c1y_b, 'o')\n",
        "plt.plot(c1x_b, b_result.init_fit, '--', label='Initial fit')\n",
        "plt.plot(c1x_b, b_result.best_fit, '-', label='Best fit')\n",
        "plt.title('Fitting kβ')\n",
        "plt.legend()\n",
        "plt.show()"
      ],
      "metadata": {
        "id": "Qfl2ZiBXbV1q"
      },
      "execution_count": null,
      "outputs": []
    },
    {
      "cell_type": "code",
      "source": [
        "#Fitting kα:\n",
        "a_gmodel = Model(gaussian)\n",
        "a_result = a_gmodel.fit(c1y_a, x=c1x_a, amp=5700, cen=7.2, wid=0.1)\n",
        "\n",
        "print(a_result.fit_report())\n",
        "\n",
        "plt.plot(c1x_a, c1y_a, 'o')\n",
        "plt.plot(c1x_a, a_result.init_fit, '--', label='initial fit')\n",
        "plt.plot(c1x_a, a_result.best_fit, '-', label='best fit')\n",
        "plt.title('Fitting kα')\n",
        "plt.legend()\n",
        "plt.show()"
      ],
      "metadata": {
        "id": "HJMg4X3qb3Ye"
      },
      "execution_count": null,
      "outputs": []
    },
    {
      "cell_type": "markdown",
      "source": [
        "**Residuals:**"
      ],
      "metadata": {
        "id": "98-rwTCMdNiv"
      }
    },
    {
      "cell_type": "code",
      "source": [
        "# Residuals for kβ:\n",
        "residuals_b1 = c1y_b - b_result.best_fit\n",
        "plt.scatter(c1y_b, residuals_b1)\n",
        "plt.axhline(y=0, c='red', ls='--')\n",
        "plt.title('Residuals kβ, n=1')"
      ],
      "metadata": {
        "id": "echZiqtpc24d"
      },
      "execution_count": null,
      "outputs": []
    },
    {
      "cell_type": "code",
      "source": [
        "# Residuals for kα:\n",
        "residuals_a1 = c1y_a - a_result.best_fit\n",
        "plt.scatter(c1y_a, residuals_a1)\n",
        "plt.axhline(y=0, c='red', ls='--')\n",
        "plt.title('Residuals kα, n=1')"
      ],
      "metadata": {
        "id": "gAFsyJiKdQH4"
      },
      "execution_count": null,
      "outputs": []
    },
    {
      "cell_type": "markdown",
      "source": [
        "#**Fitting with curve_fit:**\n",
        "\n",
        "\n",
        "*   It was included the count uncertainties.\n",
        "\n"
      ],
      "metadata": {
        "id": "ORMKWhXmdhxp"
      }
    },
    {
      "cell_type": "code",
      "source": [
        "def Gauss (x, amp, cen, wid):  #amp=ymax, cen=center of the curve, wid=width of the curve\n",
        "    return amp*np.exp(-(x-cen)**2/(2*wid**2))\n",
        "\n",
        "#Fitting kβ:\n",
        "popt_b, pcov_b = curve_fit(Gauss, c1_b['x'], c1_b['y'], sigma=c1_b['sy'], p0=[2000,6.3,0.2])\n",
        "a = popt_b[0]\n",
        "x0 = popt_b[1]\n",
        "sigma = popt_b[2]\n",
        "plt.plot(c1_b['x'],c1_b['y'], 'bo', label='Data')\n",
        "plt.errorbar(c1_b['x'],c1_b['y'],yerr=c1_b['sy'], color='b')\n",
        "plt.plot(c1_b['x'], Gauss(c1_b['x'],*popt_b), color='r', label='Fit:' + '$\\mathcal{N}$' + f'$(\\mu \\\\approx {round(x0, 1)}, \\sigma \\\\approx {round(sigma,2)})$')\n",
        "plt.legend()\n",
        "print('Params:','\\n',popt_b, '\\n','\\n','Cov matrix:','\\n', pcov_b)"
      ],
      "metadata": {
        "id": "pmeLRPALjLoH"
      },
      "execution_count": null,
      "outputs": []
    },
    {
      "cell_type": "code",
      "source": [
        "popt_a"
      ],
      "metadata": {
        "id": "kHVIhhgAGidO"
      },
      "execution_count": null,
      "outputs": []
    },
    {
      "cell_type": "code",
      "source": [
        "#Fitting kα:\n",
        "popt_a, pcov_a = curve_fit(Gauss, c1_a['x'], c1_a['y'], sigma=c1_a['sy'], p0=[5000,7.2,0.1])\n",
        "a = popt_a[0]\n",
        "x0 = popt_a[1]\n",
        "sigma = popt_a[2]\n",
        "plt.plot(c1_a['x'],c1_a['y'], 'go', label='Data')\n",
        "plt.errorbar(c1_a['x'],c1_a['y'],yerr=c1_a['sy'], color='g')\n",
        "plt.plot(c1_a['x'], Gauss(c1_a['x'],*popt_a), color='purple', label='Fit:' + '$\\mathcal{N}$' + f'$(\\mu \\\\approx {round(x0, 1)}, \\sigma \\\\approx {round(sigma,2)})$')\n",
        "plt.legend()\n",
        "print('Params:','\\n',popt_a, '\\n','\\n','Cov matrix:','\\n', pcov_a)"
      ],
      "metadata": {
        "id": "XB6UlV4njppd"
      },
      "execution_count": null,
      "outputs": []
    },
    {
      "cell_type": "markdown",
      "source": [
        "#**Fitting with ODR:**\n",
        "\n",
        "\n",
        "*  The curves are going to be fitted with ODR (Orthogonal Distance Regression) scipy algorithm due to errors in both x and y axes.\n"
      ],
      "metadata": {
        "id": "ugwv7HRu7uc7"
      }
    },
    {
      "cell_type": "code",
      "source": [
        "def gauss (p,x):  #amp=ymax, cen=center of the curve, wid=width of the curve\n",
        "    amp, cen, wid = p\n",
        "    return amp*np.exp(-(x-cen)**2/(2*wid**2))\n",
        "\n",
        "#kα curve:\n",
        "param_a = [6000,7.2,0.1]\n",
        "feature_a = c1_a['x']\n",
        "target_a = c1_a['y']\n",
        "model_a = odr.Model(gauss)\n",
        "data_a = odr.RealData(feature_a, target_a, sx = c1_a['sx'], sy = c1_a['sy'])\n",
        "ordinal_distance_reg_a = odr.ODR(data_a, model_a, beta0=param_a)\n",
        "result_outputs_a = ordinal_distance_reg_a.run()\n",
        "\n",
        "#kβ curve:\n",
        "param_b = [2000,6.3,0.2]\n",
        "feature_b = c1_b['x']\n",
        "target_b = c1_b['y']\n",
        "model_b = odr.Model(gauss)\n",
        "data_b = odr.RealData(feature_b, target_b, sx = c1_b['sx'], sy = c1_b['sy'])\n",
        "ordinal_distance_reg_b = odr.ODR(data_b, model_b, beta0=param_b)\n",
        "result_outputs_b = ordinal_distance_reg_b.run()\n",
        "\n",
        "popt_a_odr = result_outputs_a.beta\n",
        "perr_a_odr = np.sqrt(np.diag(result_outputs_a.cov_beta))\n",
        "\n",
        "popt_b_odr = result_outputs_b.beta\n",
        "perr_b_odr = np.sqrt(np.diag(result_outputs_b.cov_beta))\n",
        "\n",
        "\n",
        "fig, (ax1,ax2) = plt.subplots(2)\n",
        "ax1.plot(feature_a, target_a, 'bo', label='Data - kα')\n",
        "ax1.errorbar(feature_a,target_a,yerr=c1_a['sy'],xerr=c1_a['sx'], color='b')\n",
        "ax1.plot(feature_a, gauss(popt_a_odr, feature_a), color='r', label= 'Fit - kα')\n",
        "ax1.set_title(f'Fit kα - ODR - Dataset 1')\n",
        "ax1.set_xlabel('θ (°)')\n",
        "ax1.set_ylabel('Count')\n",
        "ax1.legend()\n",
        "\n",
        "\n",
        "ax2.plot(feature_b, target_b, 'bo', label='Data - kβ')\n",
        "ax2.errorbar(feature_b,target_b,yerr=c1_b['sy'],xerr=c1_b['sx'], color='b')\n",
        "ax2.plot(feature_b, gauss(popt_b_odr, feature_b), color='r', label= 'Fit - kβ')\n",
        "ax2.set_title(f'Fit kβ - ODR - Dataset 1')\n",
        "ax2.set_xlabel('θ (°)')\n",
        "ax2.set_ylabel('Count')\n",
        "ax2.legend()\n",
        "\n",
        "plt.tight_layout()\n",
        "\n",
        "print(result_outputs_a.pprint(), result_outputs_b.pprint())"
      ],
      "metadata": {
        "id": "lPO2A-148NrH"
      },
      "execution_count": null,
      "outputs": []
    },
    {
      "cell_type": "code",
      "source": [
        "result_outputs_b.beta"
      ],
      "metadata": {
        "id": "Qd5-mGYJCKPH"
      },
      "execution_count": null,
      "outputs": []
    },
    {
      "cell_type": "markdown",
      "source": [
        "#**Comparing fits:**"
      ],
      "metadata": {
        "id": "-gGPq8BrkLGt"
      }
    },
    {
      "cell_type": "code",
      "source": [
        "print('Result for kβ with lmfit:','\\n')\n",
        "display(b_result)\n",
        "print('\\n')\n",
        "\n",
        "print('Result for kα with lmfit:','\\n')\n",
        "display(a_result)\n",
        "print('\\n')\n",
        "\n",
        "print('Result for kβ with curve_fit:','\\n')\n",
        "print('amp:',popt_b[0],'|','inc:', np.sqrt(pcov_b[0][0]),'|','relative error:',(np.sqrt(pcov_b[0][0])/popt_b[0])*100,'%','\\n',\n",
        "      'cen:',popt_b[1],'|','inc:', np.sqrt(pcov_b[1][1]),'|','relative error:',(np.sqrt(pcov_b[1][1])/popt_b[1])*100,'%','\\n',\n",
        "      'wid:',popt_b[2],'|','inc:', np.sqrt(pcov_b[2][2]),'|','relative error:',(np.sqrt(pcov_b[2][2])/popt_b[2])*100,'%')\n",
        "print('\\n')\n",
        "\n",
        "print('Result for kα with curve_fit:','\\n')\n",
        "print('amp:',popt_a[0],\"|\",'inc:', np.sqrt(pcov_a[0][0]),'|','relative error:',(np.sqrt(pcov_a[0][0])/popt_a[0])*100,'%','\\n',\n",
        "      'cen:',popt_a[1],'|','inc:', np.sqrt(pcov_a[1][1]),'|','relative error:',(np.sqrt(pcov_a[1][1])/popt_a[1])*100,'%','\\n',\n",
        "      'wid:',popt_a[2],'|','inc:', np.sqrt(pcov_a[2][2]),'|','relative error:',(np.sqrt(pcov_a[2][2])/popt_a[2])*100,'%')\n",
        "print('\\n')\n",
        "\n",
        "\n",
        "print('Result for kβ with ODR:','\\n')\n",
        "print('amp:',result_outputs_b.beta[0],'|','inc:', result_outputs_b.sd_beta[0],'|','relative error:',(result_outputs_b.sd_beta[0]/result_outputs_b.beta[0])*100,'%','\\n',\n",
        "      'cen:',result_outputs_b.beta[1],'|','inc:', result_outputs_b.sd_beta[1],'|','relative error:',(result_outputs_b.sd_beta[1]/result_outputs_b.beta[1])*100,'%','\\n',\n",
        "      'wid:',result_outputs_b.beta[2],'|','inc:', result_outputs_b.sd_beta[2],'|','relative error:',(result_outputs_b.sd_beta[2]/result_outputs_b.beta[2])*100,'%')\n",
        "print('\\n')\n",
        "\n",
        "print('Result for kα with ODR:','\\n')\n",
        "print('amp:',result_outputs_a.beta[0],'|','inc:', result_outputs_a.sd_beta[0],'|','relative error:',(result_outputs_a.sd_beta[0]/result_outputs_a.beta[0])*100,'%','\\n',\n",
        "      'cen:',result_outputs_a.beta[1],'|','inc:', result_outputs_a.sd_beta[1],'|','relative error:',(result_outputs_a.sd_beta[1]/result_outputs_a.beta[1])*100,'%','\\n',\n",
        "      'wid:',result_outputs_a.beta[2],'|','inc:', result_outputs_a.sd_beta[2],'|','relative error:',(result_outputs_a.sd_beta[2]/result_outputs_a.beta[2])*100,'%')\n",
        "print('\\n')"
      ],
      "metadata": {
        "id": "OhSfijHNkQPg"
      },
      "execution_count": null,
      "outputs": []
    },
    {
      "cell_type": "markdown",
      "source": [
        "**$R^2$:**"
      ],
      "metadata": {
        "id": "ehnXAgwakz3R"
      }
    },
    {
      "cell_type": "code",
      "source": [
        "def rsquared(y, yfit):\n",
        "    slope, intercept, r_value, p_value, std_err = lr(y, yfit)\n",
        "    return r_value**2\n",
        "\n",
        "# R2 values for lmfit:\n",
        "b_r2_lm = rsquared(c1_b['y'], b_result.best_fit)\n",
        "a_r2_lm = rsquared(c1_a['y'], a_result.best_fit)\n",
        "\n",
        "# R2 values for curve_fit():\n",
        "b_r2_cf = rsquared(c1_b['y'], Gauss(c1_b['x'],*popt_b))\n",
        "a_r2_cf = rsquared(c1_a['y'], Gauss(c1_a['x'],*popt_a))\n",
        "\n",
        "# R2 values for ODR:\n",
        "pb = result_outputs_b.beta[0], result_outputs_b.beta[1], result_outputs_b.beta[2]\n",
        "pa = result_outputs_a.beta[0], result_outputs_a.beta[1], result_outputs_a.beta[2]\n",
        "\n",
        "b_r2_odr = rsquared(c1_b['y'], gauss(popt_b_odr, feature_b))\n",
        "a_r2_odr = rsquared(c1_a['y'], gauss(popt_a_odr, feature_a))\n",
        "\n",
        "print('lm:',b_r2_lm, a_r2_lm,'cf:', b_r2_cf, a_r2_cf,'odr:', b_r2_odr, a_r2_odr)"
      ],
      "metadata": {
        "id": "m3jMsqkdk4dz"
      },
      "execution_count": null,
      "outputs": []
    },
    {
      "cell_type": "markdown",
      "source": [
        "#**Applying the parameters fitted with ODR to calculate λ:**\n",
        "\n",
        "\n",
        "*   OBS.: Comparing the fitting methods it is possible to conclude there is no big difference between parameters and its uncertainties values looking to relative errors and $R^2$.\n",
        "\n"
      ],
      "metadata": {
        "id": "GVHNE3nClObB"
      }
    },
    {
      "cell_type": "code",
      "source": [
        "# Calculating λ from fitted θ values. These values are the 'cen' parameter,\n",
        "# which is the mean of gaussian curve fitted. Let's apply Bragg equation: nλ=2dsen(θ) => λ = 2dsen(θ)\n",
        "\n",
        "d = 0.282*10**(-9) #meters\n",
        "#kβ:\n",
        "lambda_b = 2*d*np.sin(6.345*(np.pi/180))\n",
        "s_lambda_b = 2*d*np.cos(6.345*np.pi/180)*0.014 # propagated uncertainty for lambda\n",
        "\n",
        "#Para kα:\n",
        "lambda_a = 2*d*np.sin(7.20*(np.pi/180))\n",
        "s_lambda_a = 2*d*np.cos(7.20*np.pi/180)*0.02 # propagated uncertainty for lambda"
      ],
      "metadata": {
        "id": "JRfqABKJlsaL"
      },
      "execution_count": null,
      "outputs": []
    },
    {
      "cell_type": "markdown",
      "source": [
        "**Calculating energy from λ and comparing them to the expected values:**\n",
        "\n",
        "Energy equation: E = hc/λ"
      ],
      "metadata": {
        "id": "3_azuChRnMNp"
      }
    },
    {
      "cell_type": "code",
      "source": [
        "h = 4.14*10**(-15) #eV s\n",
        "c = 3*10**8 #m/s\n",
        "\n",
        "#Expected values:\n",
        "E_ka_t = 17440 #eV  \n",
        "E_kb_t = 19600 #eV\n",
        "\n",
        "#kβ:\n",
        "E_b = (h*c)/lambda_b\n",
        "E_s_b = np.sqrt((((-h*c)/lambda_b)**2) * ((s_lambda_b)**2))\n",
        "desvio_b = (abs(E_b - E_kb_t)/E_kb_t)*100 #desvio percentual de 0.92%\n",
        "\n",
        "#kα:\n",
        "E_a = (h*c)/lambda_a\n",
        "E_s_a = np.sqrt((((-h*c)/lambda_a)**2) * ((s_lambda_a)**2))\n",
        "desvio_a = (abs(E_a - E_ka_t)/E_ka_t)*100 #desvio percentual de 1.57%"
      ],
      "metadata": {
        "id": "rTJvrXTFnHYG"
      },
      "execution_count": null,
      "outputs": []
    },
    {
      "cell_type": "markdown",
      "source": [
        "**Verifying the angles for n = 2 and n = 3:**"
      ],
      "metadata": {
        "id": "f0ljQNI7oAaY"
      }
    },
    {
      "cell_type": "markdown",
      "source": [
        "n = 2:"
      ],
      "metadata": {
        "id": "YSe-Ib7yoJlH"
      }
    },
    {
      "cell_type": "code",
      "source": [
        "#kα:\n",
        "theta_a_n2 = np.arcsin(lambda_a/d)*(180/np.pi) #degrees\n",
        "\n",
        "#kβ:\n",
        "theta_b_n2 = np.arcsin(lambda_b/d)*(180/np.pi) #degrees\n",
        "\n",
        "#I did quick check using the plotted figure."
      ],
      "metadata": {
        "id": "6X5aoUs-oG6w"
      },
      "execution_count": null,
      "outputs": []
    },
    {
      "cell_type": "markdown",
      "source": [
        "n = 3:"
      ],
      "metadata": {
        "id": "Kju0-JNxoVjY"
      }
    },
    {
      "cell_type": "code",
      "source": [
        "#kα:\n",
        "theta_a_n3 = np.arcsin((3*lambda_a)/(2*d))*(180/np.pi) #degrees\n",
        "\n",
        "#kβ:\n",
        "theta_b_n3 = np.arcsin((3*lambda_b)/(2*d))*(180/np.pi) #degrees\n",
        "\n",
        "#I did quick check using the plotted figure."
      ],
      "metadata": {
        "id": "HCBiYaW5oWie"
      },
      "execution_count": null,
      "outputs": []
    },
    {
      "cell_type": "markdown",
      "source": [
        "#**Dataset 2:**\n",
        "\n",
        "*   Plot number of photons/second X Energy (keV).\n",
        "*   Plot uncertainties.\n",
        "*   Does the characteristic energies match to the expected ones? What are the percentage deviation? \n",
        "*   For each spectra (acceleration tension range from 18 kV to 35 kV) calculate the λmin value (through experimental values θmin or Emax).\n",
        "*   Calculate Planck constant **h** from a acceleration tension X λmin plot.\n",
        "\n",
        "**Analysis infos:**\n",
        "\n",
        "*   The data aquisition software returns photons (counts)/second. To plot count/s X Energy, first calculate λ from θ values applying Bragg equation nλ = 2dsin(θ) and considering n=1. From these λ values it is possible to calculate energy and do the plots. To calculate the count uncertainties consider the calculation explained before: multiply count values from table by Δt then apply $\\sqrt{N}$/Δt for each count data. The plot count/s X Energy must be done with the orginal values given by the software, so after calculate uncertainties divide the count values by Δt.\n",
        "*   To calculate the characteristic energy let's fit gaussian function, the same way it was done for dataset 1.\n",
        "*   The items above are going to be applied for all the 10 subsets and for each subset we obtain one λmin (which is the same for Δt = 1 s and Δt = 5 s for the same tension value). Then we plot Emax X λmin.\n",
        "*   To calculate **h** we fit the Emax X λmin plot.\n"
      ],
      "metadata": {
        "id": "Zz4Pfn_aokEz"
      }
    },
    {
      "cell_type": "markdown",
      "source": [
        "**Reading datasets:**"
      ],
      "metadata": {
        "id": "b05kW2gXCtKg"
      }
    },
    {
      "cell_type": "code",
      "source": [
        "def read_c2(tension, time):\n",
        "  tensao = str(tension)\n",
        "  tempo = str(time)\n",
        "  #Constant values:\n",
        "  h = 4.14*10**(-15) #eV s\n",
        "  c = 3*10**8 #m/s\n",
        "  d = 0.282*10**(-9) #meters\n",
        "\n",
        "  d1 = np.loadtxt(f'/content/drive/MyDrive/Raio X/Raio X/Dados/c2-{tension}-{time}.txt', skiprows=1, dtype=np.str)\n",
        "  d2 = np.char.replace(d1, ',', '.').astype(np.float64)\n",
        "  d3 = pd.DataFrame(d2, columns=['\\u03B8 (°)','Count'])\n",
        "  lambdaa = 2*d*np.sin(d3['\\u03B8 (°)']*np.pi/180)\n",
        "  d3['Energy (keV)'] = ((h*c)/lambdaa)/1000\n",
        "  d3['σx (°)'] = 0.05\n",
        "  if tempo == '5':\n",
        "    d3['Count'] = d3['Count']*5\n",
        "    d3['σy'] = np.sqrt(d3['Count'])/5\n",
        "    d3['Count'] = d3['Count']/5\n",
        "  else:\n",
        "    d3['σy'] = np.sqrt(d3['Count'])\n",
        "  return d3\n",
        "\n",
        "#Dataset 2: defining variables for quick check\n",
        "\n",
        "c2_18_1 = read_c2(18,1) #U = 18 kV and Δt = 1s\n",
        "c2_18_5 = read_c2(18,5) #U = 18 kV and Δt = 5s\n",
        "\n",
        "c2_25_1 = read_c2(25,1) #U = 25 kV and Δt = 1s\n",
        "c2_25_5 = read_c2(25,5) #U = 25 kV and Δt = 5s\n",
        "\n",
        "c2_28_1 = read_c2(28,1) #U = 28 kV and Δt = 1s\n",
        "c2_28_5 = read_c2(28,5) #U = 28 kV and Δt = 5s\n",
        "\n",
        "c2_30_1 = read_c2(30,1) #U = 30 kV and Δt = 1s\n",
        "c2_30_5 = read_c2(30,5) #U = 30 kV and Δt = 5s\n",
        "\n",
        "c2_35_1 = read_c2(35,1) #U = 35 kV and Δt = 1s\n",
        "c2_35_5 = read_c2(35,5) #U = 35 kV and Δt = 5s"
      ],
      "metadata": {
        "id": "KpcoRt-HCsBW"
      },
      "execution_count": null,
      "outputs": []
    },
    {
      "cell_type": "code",
      "source": [
        "c2_18_1"
      ],
      "metadata": {
        "id": "aBraFw3NtSO_"
      },
      "execution_count": null,
      "outputs": []
    },
    {
      "cell_type": "markdown",
      "source": [
        "**Plotting graphs:**"
      ],
      "metadata": {
        "id": "rFW_sFZnOL_j"
      }
    },
    {
      "cell_type": "code",
      "source": [
        "def plot_energy():\n",
        "  '''This function plots the energy data'''\n",
        "  p = []\n",
        "  delta = str(input('Delta time: '))\n",
        "  while len(p) <= 4:\n",
        "    ddp = str(input('Type ddp: '))\n",
        "    time = str(input('Type time: '))\n",
        "    data = read_c2(ddp,time)\n",
        "    g = go.Scatter(x=data['Energy (keV)'], y=data['Count'], mode='lines+markers', name=f'{ddp} kV')\n",
        "    p.append(g)\n",
        "  layout = go.Layout(title=f'Count/s X Energy - Δt = {delta}s')\n",
        "  figure = go.Figure(data=p, layout=layout)\n",
        "  figure.update_xaxes(title_text='Energy (keV)')\n",
        "  figure.update_yaxes(title_text='Count')\n",
        "  return figure\n",
        "\n",
        "\n",
        "def plot_theta():\n",
        "  '''This function plots the theta data'''\n",
        "  p = []\n",
        "  delta = str(input('Delta time: '))\n",
        "  while len(p) <= 4:\n",
        "    ddp = str(input('Type ddp: '))\n",
        "    time = str(input('Type time: '))\n",
        "    data = read_c2(ddp,time)\n",
        "    g = go.Scatter(x=data['\\u03B8 (°)'], y=data['Count'], mode = 'lines+markers', name=f'{ddp} kV')\n",
        "    p.append(g)\n",
        "  layout = go.Layout(title=f'Count/s X Energy - Δt = {delta}s')\n",
        "  figure = go.Figure(data=p, layout=layout)\n",
        "  figure.update_xaxes(title_text='\\u03B8 (°)')\n",
        "  figure.update_yaxes(title_text='Count')\n",
        "  return figure\n",
        "\n",
        "def plot_one_energy():\n",
        "  '''This function plots one curve, count X energy'''\n",
        "  delta = str(input('Delta time: '))\n",
        "  ddp = str(input('Type ddp: '))\n",
        "  time = str(input('Type time: '))\n",
        "  data = read_c2(ddp,time)\n",
        "  figure = px.line(data, x='Energy (keV)', y='Count', title = f'Count/s vs Energy - Δt = {delta}s - U = {ddp} V', error_y=data['σy'])\n",
        "  return figure\n",
        "\n",
        "def plot_one_theta():\n",
        "  '''This function plots one curve, count X theta'''\n",
        "  delta = str(input('Delta time: '))\n",
        "  ddp = str(input('Type ddp: '))\n",
        "  time = str(input('Type time: '))\n",
        "  data = read_c2(ddp,time)\n",
        "  figure = px.line(data, x='\\u03B8 (°)', y='Count', title = f'Count/s vs Angle - Δt = {delta}s - U = {ddp} V', error_y=data['σy'], error_x=data['σx (°)'])\n",
        "  return figure"
      ],
      "metadata": {
        "id": "cRj8wLJadil7"
      },
      "execution_count": null,
      "outputs": []
    },
    {
      "cell_type": "markdown",
      "source": [
        "**Selecting the x axis range to fit the curves:**\n",
        "\n",
        "*   Plot the 5 lines.\n",
        "*   Define the range for kα and kβ peaks zooming the curves.\n",
        "*   The range is going to be the same since the Δt doesn't change the energy of the peaks. "
      ],
      "metadata": {
        "id": "hbIFEwM9QtPC"
      }
    },
    {
      "cell_type": "code",
      "source": [
        "# Test cell\n",
        "plot_energy()"
      ],
      "metadata": {
        "id": "rcKWsW5yQsYL"
      },
      "execution_count": null,
      "outputs": []
    },
    {
      "cell_type": "code",
      "source": [
        "# Test cell\n",
        "plot_one_energy()"
      ],
      "metadata": {
        "id": "h1sIj_YC-dI6"
      },
      "execution_count": null,
      "outputs": []
    },
    {
      "cell_type": "markdown",
      "source": [
        "**Δt = 5 s and Δt = 1 s:**\n",
        "\n",
        "**kα:** 16.4 to 18.6\n",
        "\n",
        "**kβ:** 18.9 to 20.7\n",
        "\n"
      ],
      "metadata": {
        "id": "MCg4_lYIV7kH"
      }
    },
    {
      "cell_type": "markdown",
      "source": [
        "##**Fitting the curves:**\n"
      ],
      "metadata": {
        "id": "YcOTUGt2enX5"
      }
    },
    {
      "cell_type": "markdown",
      "source": [
        "**The function fitted is going to be the gaussian function.**\n",
        "\n",
        "**First I will define a fucntion for each peak (kα and kβ) to estimate the initial parameters.**\n",
        "\n",
        "**Then, I will define a function to fit both kα and kβ.**"
      ],
      "metadata": {
        "id": "-iCv4Zryiy0n"
      }
    },
    {
      "cell_type": "code",
      "source": [
        "def estimate_param_ka(delta, ddp, time):\n",
        "  '''This function allows to estimate parameters for kα curve to fit it and select the x axis to fit.'''\n",
        "  delta = str(delta)\n",
        "  ddp = str(ddp)\n",
        "  time = str(time)\n",
        "  data = read_c2(ddp,time)\n",
        "\n",
        "  #x axis range selecting for kα: x, y, σy and σx\n",
        "  xa = data['Energy (keV)'][(data['Energy (keV)'] >= 16.8) & (data['Energy (keV)'] <= 18.1)]\n",
        "  ya = data['Count'][(data['Energy (keV)'] >= 16.8) & (data['Energy (keV)'] <= 18.1)]\n",
        "  sya = data['σy'][(data['Energy (keV)'] >= 16.8) & (data['Energy (keV)'] <= 18.1)]\n",
        "  sxa = data['σx (°)'][(data['Energy (keV)'] >= 16.8) & (data['Energy (keV)'] <= 18.1)]\n",
        "\n",
        "  amp = np.max(ya)\n",
        "  cen = np.median(xa)\n",
        "  sigma = np.max(xa)-np.min(xa)\n",
        "\n",
        "  return  [[amp, cen, sigma],[xa,ya,sya,sxa]]\n",
        "\n",
        "  \n",
        "def estimate_param_kb(delta, ddp, time):\n",
        "  '''This function allows to estimate parameters for kβ curve to fit it, and select x axis to fit.'''\n",
        "  delta = str(delta)\n",
        "  ddp = str(ddp)\n",
        "  time = str(time)\n",
        "  data = read_c2(ddp,time)\n",
        "\n",
        "  #x axis range selecting for kβ: x, y, σy and σx\n",
        "  xb = data['Energy (keV)'][(data['Energy (keV)'] >= 18.9) & (data['Energy (keV)'] <= 20.7)]\n",
        "  yb = data['Count'][(data['Energy (keV)'] >= 18.9) & (data['Energy (keV)'] <= 20.7)]\n",
        "  syb = data['σy'][(data['Energy (keV)'] >= 18.9) & (data['Energy (keV)'] <= 20.7)]\n",
        "  sxb = data['σx (°)'][(data['Energy (keV)'] >= 18.9) & (data['Energy (keV)'] <= 20.7)]\n",
        "\n",
        "  amp = np.max(yb)\n",
        "  cen = np.median(xb)\n",
        "  sigma = np.max(xb)-np.min(xb)\n",
        "\n",
        "  return [[amp, cen, sigma],[xb,yb,syb,sxb]]\n"
      ],
      "metadata": {
        "id": "GEMAA-vreX0O"
      },
      "execution_count": null,
      "outputs": []
    },
    {
      "cell_type": "markdown",
      "source": [
        "**The curves are going to be fitted with ODR (Orthogonal Distance Regression) scipy algorithm due to errors in both x and y axes.**"
      ],
      "metadata": {
        "id": "5Oo6sGljtZgH"
      }
    },
    {
      "cell_type": "code",
      "source": [
        "def gauss (p,x):  #amp=ymax, cen=center of the curve, wid=width of the curve\n",
        "    amp, cen, wid = p\n",
        "    return amp*np.exp(-(x-cen)**2/(2*wid**2))\n",
        "\n",
        "def fit_odr():\n",
        "  delta = str(input('Delta time: '))\n",
        "  ddp = str(input('Type ddp: '))\n",
        "  time = str(input('Type time: '))\n",
        "  data = read_c2(ddp,time)\n",
        "\n",
        "  #kα curve:\n",
        "  param_a = estimate_param_ka(delta, ddp, time)[0]\n",
        "  feature_a = estimate_param_ka(delta, ddp, time)[1][0]\n",
        "  target_a = estimate_param_ka(delta,ddp,time)[1][1]\n",
        "  model_a = odr.Model(gauss)\n",
        "  data_a = odr.RealData(feature_a, target_a, sx = estimate_param_ka(delta,ddp,time)[1][3], sy = estimate_param_ka(delta,ddp,time)[1][2])\n",
        "  ordinal_distance_reg_a = odr.ODR(data_a, model_a, beta0=param_a)\n",
        "  result_outputs_a = ordinal_distance_reg_a.run()\n",
        "\n",
        "  #kβ curve:\n",
        "  param_b = estimate_param_kb(delta, ddp, time)[0]\n",
        "  feature_b = estimate_param_kb(delta, ddp, time)[1][0]\n",
        "  target_b = estimate_param_kb(delta,ddp,time)[1][1]\n",
        "  model_b = odr.Model(gauss)\n",
        "  data_b = odr.RealData(feature_b, target_b, sx = estimate_param_kb(delta,ddp,time)[1][3], sy = estimate_param_kb(delta,ddp,time)[1][2])\n",
        "  ordinal_distance_reg_b = odr.ODR(data_b, model_b, beta0=param_b)\n",
        "  result_outputs_b = ordinal_distance_reg_b.run()\n",
        "\n",
        "  popt_a = result_outputs_a.beta\n",
        "  perr_a = np.sqrt(np.diag(result_outputs_a.cov_beta))\n",
        "\n",
        "  popt_b = result_outputs_b.beta\n",
        "  perr_b = np.sqrt(np.diag(result_outputs_b.cov_beta))\n",
        "\n",
        "\n",
        "  fig, (ax1,ax2) = plt.subplots(2)\n",
        "  ax1.plot(feature_a, target_a, 'bo', label='Data - kα')\n",
        "  ax1.errorbar(feature_a,target_a,yerr=estimate_param_ka(delta, ddp, time)[1][2],xerr=estimate_param_ka(delta, ddp, time)[1][3], color='b')\n",
        "  ax1.plot(feature_a, gauss(popt_a, feature_a), color='r', label= 'Fit - kα')\n",
        "  ax1.set_title(f'Fit kα - U = {ddp} V - Δt = {delta}s')\n",
        "  ax1.set_xlabel('E (keV)')\n",
        "  ax1.set_ylabel('Count')\n",
        "  ax1.legend()\n",
        "\n",
        "  \n",
        "  ax2.plot(feature_b, target_b, 'bo', label='Data - kβ')\n",
        "  ax2.errorbar(feature_b,target_b,yerr=estimate_param_kb(delta, ddp, time)[1][2],xerr=estimate_param_kb(delta, ddp, time)[1][3], color='b')\n",
        "  ax2.plot(feature_b, gauss(popt_b, feature_b), color='r', label= 'Fit - kβ')\n",
        "  ax2.set_title(f'Fit kβ - U = {ddp} V - Δt = {delta}s')\n",
        "  ax2.set_xlabel('E (keV)')\n",
        "  ax2.set_ylabel('Count')\n",
        "  ax2.legend()\n",
        "\n",
        "  plt.tight_layout()\n",
        "  \n",
        "  return ax1, ax2, result_outputs_a.pprint(), result_outputs_b.pprint()"
      ],
      "metadata": {
        "id": "TiqW0ZDPt6bD"
      },
      "execution_count": null,
      "outputs": []
    },
    {
      "cell_type": "code",
      "source": [
        "# Cell to fit curves:\n",
        "fit_odr()"
      ],
      "metadata": {
        "id": "h1R1TCGziFEw",
        "colab": {
          "base_uri": "https://localhost:8080/",
          "height": 1000
        },
        "outputId": "832f9cee-89ea-45e0-9757-45283470d23d"
      },
      "execution_count": 136,
      "outputs": [
        {
          "name": "stdout",
          "output_type": "stream",
          "text": [
            "Delta time: 5\n",
            "Type ddp: 35\n",
            "Type time: 5\n"
          ]
        },
        {
          "output_type": "stream",
          "name": "stderr",
          "text": [
            "/usr/local/lib/python3.7/dist-packages/ipykernel_launcher.py:9: DeprecationWarning:\n",
            "\n",
            "`np.str` is a deprecated alias for the builtin `str`. To silence this warning, use `str` by itself. Doing this will not modify any behavior and is safe. If you specifically wanted the numpy scalar type, use `np.str_` here.\n",
            "Deprecated in NumPy 1.20; for more details and guidance: https://numpy.org/devdocs/release/1.20.0-notes.html#deprecations\n",
            "\n",
            "/usr/local/lib/python3.7/dist-packages/ipykernel_launcher.py:9: DeprecationWarning:\n",
            "\n",
            "`np.str` is a deprecated alias for the builtin `str`. To silence this warning, use `str` by itself. Doing this will not modify any behavior and is safe. If you specifically wanted the numpy scalar type, use `np.str_` here.\n",
            "Deprecated in NumPy 1.20; for more details and guidance: https://numpy.org/devdocs/release/1.20.0-notes.html#deprecations\n",
            "\n",
            "/usr/local/lib/python3.7/dist-packages/ipykernel_launcher.py:9: DeprecationWarning:\n",
            "\n",
            "`np.str` is a deprecated alias for the builtin `str`. To silence this warning, use `str` by itself. Doing this will not modify any behavior and is safe. If you specifically wanted the numpy scalar type, use `np.str_` here.\n",
            "Deprecated in NumPy 1.20; for more details and guidance: https://numpy.org/devdocs/release/1.20.0-notes.html#deprecations\n",
            "\n"
          ]
        },
        {
          "output_type": "stream",
          "name": "stdout",
          "text": [
            "Beta: [ 1.97012136e+03  1.75441467e+01 -3.40898571e-01]\n",
            "Beta Std Error: [3.55486309e+01 2.69464558e-02 2.06795495e-02]\n",
            "Beta Covariance: [[ 9.37395185e+02 -2.38203116e-01  1.41177310e-01]\n",
            " [-2.38203116e-01  5.38617259e-04 -1.17697336e-04]\n",
            " [ 1.41177310e-01 -1.17697336e-04  3.17218940e-04]]\n",
            "Residual Variance: 1.3481028883659973\n",
            "Inverse Condition #: 0.07157513435299567\n",
            "Reason(s) for Halting:\n",
            "  Sum of squares convergence\n",
            "Beta: [ 9.20439078e+02  1.98668581e+01 -5.46853716e-01]\n",
            "Beta Std Error: [27.86839085  0.03394323  0.04586834]\n",
            "Beta Covariance: [[ 4.12748916e+02  3.88992398e-03  3.36716365e-01]\n",
            " [ 3.88992398e-03  6.12305873e-04 -1.68468209e-04]\n",
            " [ 3.36716365e-01 -1.68468209e-04  1.11811942e-03]]\n",
            "Residual Variance: 1.881645663989016\n",
            "Inverse Condition #: 0.03837163960160313\n",
            "Reason(s) for Halting:\n",
            "  Sum of squares convergence\n"
          ]
        },
        {
          "output_type": "execute_result",
          "data": {
            "text/plain": [
              "(<matplotlib.axes._subplots.AxesSubplot at 0x7f8c4bed45d0>,\n",
              " <matplotlib.axes._subplots.AxesSubplot at 0x7f8c4becfb50>,\n",
              " None,\n",
              " None)"
            ]
          },
          "metadata": {},
          "execution_count": 136
        },
        {
          "output_type": "display_data",
          "data": {
            "text/plain": [
              "<Figure size 432x288 with 2 Axes>"
            ],
            "image/png": "[encoded data removed]"
          },
          "metadata": {
            "needs_background": "light"
          }
        }
      ]
    },
    {
      "cell_type": "code",
      "source": [
        "# Cell to save parameters:\n",
        "\n",
        "# 18 kV, t = 1s:\n",
        "alpha_18_1 = [26.03005835, 16.90508652,  0.44723982]\n",
        "inc_alpha_18_1 = [3.60790611, 0.17439012, 0.09412891]\n",
        "beta_18_1 = [ 1. ,        19.75552843,  1.23078544]\n",
        "inc_beta_18_1 = [0., 0., 0.]\n",
        "\n",
        "# 18 kV, t = 5s:\n",
        "alpha_18_5 = [25.77553098, 16.88878373,  0.46733423]\n",
        "inc_alpha_18_5 = [1.21753772, 0.06678559, 0.03602713]\n",
        "beta_18_5 = [ 0.76493195, 20.11619758,  0.83552381]\n",
        "inc_beta_18_5 = [0.28824791, 0.82468867, 1.10265158]\n",
        "\n",
        "# 25 kV, t = 1s:\n",
        "alpha_25_1 = [ 4.50483203e+02,  1.75621543e+01, -4.12744033e-01]\n",
        "inc_alpha_25_1 = [33.09270664,  0.04883139,  0.04885969]\n",
        "beta_25_1 = [240.09950038,  19.74689341,   0.84006608]\n",
        "inc_beta_25_1 = [6.21978284, 0.03340242, 0.07120198]\n",
        "\n",
        "# 25 kV, t = 5s:\n",
        "alpha_25_5 = [ 4.54943724e+02,  1.75474956e+01, -4.10862134e-01]\n",
        "inc_alpha_25_5 = [12.22345596,  0.03000073,  0.02855355]\n",
        "beta_25_5 = [250.21171056,  19.83792986,   0.77671384]\n",
        "inc_beta_25_5 = [6.68438348, 0.03836526, 0.07358194]\n",
        "\n",
        "# 28 kV, t = 1s:\n",
        "alpha_28_1 = [4.95584438e+04, 2.14790709e+01, 1.31112605e+00]\n",
        "inc_alpha_28_1 = [1.04298669e+07, 1.79379380e+02, 2.90794531e+01]\n",
        "beta_28_1 = [455.31941646,  19.87469999,   0.59310773]\n",
        "inc_beta_28_1 = [12.26376131,  0.02422821,  0.03416067]\n",
        "\n",
        "# 28 kV, t = 5s:\n",
        "alpha_28_5 = [8.88668134e+02, 1.75490122e+01, 3.62024175e-01]\n",
        "inc_alpha_28_5 = [17.89895128,  0.02787074,  0.02271364]\n",
        "beta_28_5 = [450.46503563,  19.81265173,   0.61740141]\n",
        "inc_beta_28_5 = [8.26586881, 0.02414558, 0.03518024]\n",
        "\n",
        "# 30 kV, t = 1s:\n",
        "alpha_30_1 = [4.22493870e+04, 2.06179643e+01, 1.07810314e+00]\n",
        "inc_alpha_30_1 = [8.04535045e+06, 1.39930053e+02, 2.37632066e+01]\n",
        "beta_30_1 = [564.77011717,  19.82480144,   0.60555962]\n",
        "inc_beta_30_1 = [30.79676545,  0.05201,     0.07535304]\n",
        "\n",
        "# 30 kV, t = 5s:\n",
        "alpha_30_5 = [ 1.17550639e+03,  1.75452588e+01, -3.56504952e-01]\n",
        "inc_alpha_30_5 = [2.15639383e+01, 2.59987552e-02, 2.09129672e-02]\n",
        "beta_30_5 = [5.91764878e+02, 1.98459313e+01, 5.84242184e-01]\n",
        "inc_beta_30_5 = [19.05280584,  0.04075124,  0.05668481]\n",
        "\n",
        "# 35 kV, t = 1s:\n",
        "alpha_35_1 = [4.85572806e+04, 2.00140173e+01, 9.05793126e-01]\n",
        "inc_alpha_35_1 = [6.83918701e+06, 9.02089441e+01, 1.58666004e+01]\n",
        "beta_35_1 = [9.03553912e+02, 1.98778698e+01, 5.56395746e-01]\n",
        "inc_beta_35_1 = [60.16233059,  0.06137097,  0.08170237]\n",
        "\n",
        "# 35 kV, t = 5s:\n",
        "alpha_35_5 = [ 1.97012136e+03,  1.75441467e+01, -3.40898571e-01]\n",
        "inc_alpha_35_5 = [3.55486309e+01, 2.69464558e-02, 2.06795495e-02]\n",
        "beta_35_5 = [ 9.20439078e+02,  1.98668581e+01, -5.46853716e-01]\n",
        "inc_beta_35_5 = [27.86839085,  0.03394323,  0.04586834]"
      ],
      "metadata": {
        "id": "PzJpTN0F9Za1"
      },
      "execution_count": null,
      "outputs": []
    },
    {
      "cell_type": "markdown",
      "source": [
        "**$R^2$:**"
      ],
      "metadata": {
        "id": "m4j3zx4n9OCA"
      }
    },
    {
      "cell_type": "code",
      "source": [
        "# Cell to calculate R^2:\n",
        "\n",
        "rsquared(c2_25_1['Count'], gauss(alpha_25_1, c2_25_1['Energy (keV)']))"
      ],
      "metadata": {
        "id": "3IwJt-kd9SsT"
      },
      "execution_count": null,
      "outputs": []
    },
    {
      "cell_type": "markdown",
      "source": [
        "**Calculating the percentage deviation of the peaks:**"
      ],
      "metadata": {
        "id": "nXEqcYV6wgwW"
      }
    },
    {
      "cell_type": "code",
      "source": [
        "def perc_dev(data_alpha, data_beta):\n",
        "  #Expected values:\n",
        "  E_ka_t = 17.440 #keV  \n",
        "  E_kb_t = 19.600 #keV\n",
        "  desvio_a = (abs(data_alpha[1] - E_ka_t)/E_ka_t)*100 \n",
        "  desvio_b = (abs(data_beta[1] - E_kb_t)/E_kb_t)*100\n",
        "\n",
        "  return desvio_a,desvio_b\n",
        "\n",
        "perc_dev(alpha_30_5,beta_30_5)"
      ],
      "metadata": {
        "colab": {
          "base_uri": "https://localhost:8080/"
        },
        "id": "jz0gN1Ugwf1p",
        "outputId": "3a792140-f5c8-4b77-dd90-ea394baab70b"
      },
      "execution_count": 141,
      "outputs": [
        {
          "output_type": "execute_result",
          "data": {
            "text/plain": [
              "(0.6035481651376025, 1.2547515306122383)"
            ]
          },
          "metadata": {},
          "execution_count": 141
        }
      ]
    },
    {
      "cell_type": "markdown",
      "source": [
        "#**Calculating h (Planck constant):**"
      ],
      "metadata": {
        "id": "V-CrYsGL8zvY"
      }
    },
    {
      "cell_type": "markdown",
      "source": [
        "**The next step is to plot Emax X λmin for each point to fit the curve and find h (Planck constant).**\n",
        "\n",
        "**To do this, first we must find the λmin from the the count X θ plot. The λmin will be selected manually.**"
      ],
      "metadata": {
        "id": "mHhTPj1o7-R_"
      }
    },
    {
      "cell_type": "markdown",
      "source": [
        "**Plotting the graphs to estimate the λmin values:**"
      ],
      "metadata": {
        "id": "B1F6wWUcWLEM"
      }
    },
    {
      "cell_type": "code",
      "source": [
        "plot_one_theta()"
      ],
      "metadata": {
        "id": "U0VQwFWJ79rd"
      },
      "execution_count": null,
      "outputs": []
    },
    {
      "cell_type": "markdown",
      "source": [
        "**Creating dataframe to keep the λ values:**\n",
        "\n",
        "*  Store the θ values selected manually into a list.\n",
        "*  Use the nλ = 2dsin(θ) to convert the θ values into λ values and propagate the uncertaities.\n",
        "*  d = 0.282 nm, that is the same **d** applied before, the crystal parameter.\n",
        "*  n = 1 \n",
        "*  The values are the same for Δt = 1 s and Δt = 5 s.\n",
        "*  The values Emax: 18 keV, 25 keV, 28 keV, 30 keV, 35 keV. The uncertainty is 1%."
      ],
      "metadata": {
        "id": "-TSrLFFqWc6w"
      }
    },
    {
      "cell_type": "code",
      "source": [
        "# Crystal parameter d:\n",
        "d = 0.282*(10**(-9)) #meters\n",
        "\n",
        "thetas = [7, 5, 4.5, 4.1, 3.5] \n",
        "theta_sigma = 0.05\n",
        "\n",
        "lambdas = []\n",
        "lamda_sigma = []\n",
        "\n",
        "for i in range (len(thetas)):\n",
        "  lambdas.append(2*d*np.sin(thetas[i]*np.pi/180))\n",
        "  convert = np.cos(thetas[i]*np.pi/180)\n",
        "  sigma_lambda = 2*d*convert*theta_sigma\n",
        "  lamda_sigma.append(sigma_lambda)\n",
        "\n",
        "\n",
        "energy_lambda = pd.DataFrame({'λmin (m)': lambdas, 'σλ': lamda_sigma, 'Emax (keV)': [18, 25, 28, 30, 35], 'σE': [0.18, 0.25, 0.28, 0.30, 0.35]})\n",
        "energy_lambda"
      ],
      "metadata": {
        "id": "f_tpvCMBWoik"
      },
      "execution_count": null,
      "outputs": []
    },
    {
      "cell_type": "markdown",
      "source": [
        "**Plotting the Emax X λmin graphs:**\n",
        "\n"
      ],
      "metadata": {
        "id": "qWtYw1FiddY5"
      }
    },
    {
      "cell_type": "code",
      "source": [
        "figure3 = px.line(energy_lambda, x='λmin (m)', y='Emax (keV)', title = 'Emax X λmin - Dataset 2', error_y=energy_lambda['σE'], error_x=energy_lambda['σλ'])\n",
        "figure3"
      ],
      "metadata": {
        "id": "S96CJaMPkAGq"
      },
      "execution_count": null,
      "outputs": []
    },
    {
      "cell_type": "markdown",
      "source": [
        "**Fitting with curve_fit:**\n",
        "\n",
        "*   The energy was is multiplied by 1000 so the **h** value is given in eV.\n",
        "*   The plot is λmin X Energy so I can use the λ uncertainties in curve_fit."
      ],
      "metadata": {
        "id": "c25Oool1AIcv"
      }
    },
    {
      "cell_type": "code",
      "source": [
        "def fun (x, h): \n",
        "    c = 3*10**8 #m/s\n",
        "    return (h*c)/x  #Here I am multiplying by 1 to symbolize the e (electron charge) value. \n",
        "\n",
        "popt_fun, pcov_fun = curve_fit(fun, energy_lambda['Emax (keV)']*1000, energy_lambda['λmin (m)'] , sigma=energy_lambda['σλ'])\n",
        "a_fun = popt_fun[0]\n",
        "plt.plot(energy_lambda['Emax (keV)']*1000, energy_lambda['λmin (m)'], 'bo', label='Data')\n",
        "plt.errorbar(energy_lambda['Emax (keV)']*1000, energy_lambda['λmin (m)'], xerr=energy_lambda['σE']*1000, yerr=energy_lambda['σλ'], color='b')\n",
        "plt.plot(energy_lambda['Emax (keV)']*1000, fun(energy_lambda['Emax (keV)']*1000, *popt_fun), color='r', label='Fit', lw=4)\n",
        "plt.ylabel('λmin (m)')\n",
        "plt.xlabel('Emax (eV)')\n",
        "plt.grid()\n",
        "plt.legend()\n",
        "print('Params:','\\n',popt_fun, '\\n','\\n','Cov matrix:','\\n', pcov_fun)"
      ],
      "metadata": {
        "id": "aRxT5Il_x8_K"
      },
      "execution_count": null,
      "outputs": []
    },
    {
      "cell_type": "markdown",
      "source": [
        "**Checking the percentage deviation from theoritical value:**\n",
        "\n",
        "*   Theoritical value: $4.13566743 × 10^{-15}$ eV . s"
      ],
      "metadata": {
        "id": "zhKLbFl7JyN6"
      }
    },
    {
      "cell_type": "code",
      "source": [
        "dev = (abs(4.09555628e-15 - 4.13566743e-15)/(4.13566743e-15))*100\n",
        "print('The percentage deviation is:', dev)"
      ],
      "metadata": {
        "id": "o8f0DrVPEK0d"
      },
      "execution_count": null,
      "outputs": []
    }
  ]
}